{
 "cells": [
  {
   "cell_type": "markdown",
   "id": "243e9a85-4915-43d6-bb5f-864e0cb835b5",
   "metadata": {},
   "source": [
    "# Acknowledgments\r\n",
    "\r\n",
    "Every effort has been made to acknowledge and attribute sources where any material was referenced or adapted from.  Sources have been identified in-line with the text.  \r\n",
    "\r\n",
    "> \r\n",
    "> **Datafiles:** referred to in the text on this site are downloadable from [this link.]( https://drive.google.com/drive/folders/1WRv9AkvXHlzKK4L2xym4PSmb_io0wskf?usp=sharing)  \r\n",
    "> \r\n",
    "> **Who is this website for?**  This site has two target audiences:  \r\n",
    "> \r\n",
    "> - Consultants, Managers and Leaders: who wish to understand ideas behind data analytics, machine learning and other topics without going into the details of programming and code.  Such users can read just the text descriptions that lay out the key ideas, use-cases, and limitations; and ignore the code.  \r\n",
    "> \r\n",
    "> - Analysts and Practitioners: who not only wish to understand the core ideas, but is also unafraid to dive into the details through Python code to look at how these ideas are implemented in practice.  \r\n",
    "> \r\n",
    "> **Comments and Feedback:** mp@dataprep.us"
   ]
  }
 ],
 "metadata": {
  "kernelspec": {
   "display_name": "Python 3 (ipykernel)",
   "language": "python",
   "name": "python3"
  },
  "language_info": {
   "codemirror_mode": {
    "name": "ipython",
    "version": 3
   },
   "file_extension": ".py",
   "mimetype": "text/x-python",
   "name": "python",
   "nbconvert_exporter": "python",
   "pygments_lexer": "ipython3",
   "version": "3.11.6"
  }
 },
 "nbformat": 4,
 "nbformat_minor": 5
}
