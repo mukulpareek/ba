{
 "cells": [
  {
   "attachments": {
    "e65bb516-d9e9-4d1b-822a-a6c21c523f28.png": {
     "image/png": "[encoded data removed]"
    }
   },
   "cell_type": "markdown",
   "id": "ef212515-1a15-488e-a1b9-6690205e3e28",
   "metadata": {},
   "source": [
    "# Feature Engineering\n",
    "\n",
    "## What are features?  \n",
    "\n",
    "Data comes to us in multiple forms – as audio files, images, logs, time series, categories, GPS coordinates, numbers, tweets, text and so on.  Most raw data has to be transformed into something usable by algorithms.  This ‘something’ represents features.\n",
    "\n",
    "A feature is a numeric representation of data.  \n",
    "\n",
    "Features are derived from data, and are expressed as numbers.  \n",
    "\n",
    "Feature engineering involves creating the right feature set from available data that is fit-for-purpose for our modeling task (which is to get to the target variable, using other independent variables or attributes).\n",
    "\n",
    "![image.png](attachment:e65bb516-d9e9-4d1b-822a-a6c21c523f28.png)  \n",
    "\n",
    "\n",
    "## Feature engineering for numeric data\n",
    "When raw data is already numeric, it sometimes can be used directly as an input to our models.  \n",
    "\n",
    "However often additional transformations are required to extract useful information from the data.  Feature engineering is the process of using domain knowledge to extract features (characteristics, properties, attributes) from raw data. (Source: Wikipedia)\n",
    "\n",
    "Next, we will discuss common tools available for engineering features from numeric raw data.  These are transformations applied to data to convert them into a form that better fits our needs.\n",
    "\n",
    "## What we will cover\n",
    " - Binning \n",
    " - Log Transformations\n",
    " - Box-Cox\n",
    " - Standardization and Normalization\n",
    " - Categorical to Numeric\n",
    " - Imbalanced Data\n",
    " - Principal Component Analysis\n",
    "\n",
    "Next, let us launch straight into each of these.  We will cover the conceptual ground first, and then demonstrate the idea through code.\n",
    "\n",
    "**Usual library imports first...**"
   ]
  },
  {
   "cell_type": "code",
   "execution_count": 1,
   "id": "b32ff09e-3e12-4cbd-85ae-31b534159c7b",
   "metadata": {
    "tags": []
   },
   "outputs": [],
   "source": [
    "import numpy as np\n",
    "import pandas as pd\n",
    "import seaborn as sns\n",
    "import matplotlib.pyplot as plt"
   ]
  },
  {
   "cell_type": "markdown",
   "id": "3ca2f2b3-94f8-407e-bfcd-b71e9a969c4d",
   "metadata": {},
   "source": [
    "## Binning\n",
    "\n",
    "In binning, we split our data into multiple bins, or buckets, and assign each observation to a limited number of bins.  These bin assignments are then used as the feature set.\n",
    "\n",
    "Consider our diamonds dataset, and the distribution of diamond prices."
   ]
  },
  {
   "cell_type": "markdown",
   "id": "ad42f934-c2c5-41fd-915f-622ce3377fca",
   "metadata": {},
   "source": [
    "### Fixed width binning\n",
    "\n",
    "In fixed width binning, the entire range of observations is divided across a set number of bins.\n",
    "\n",
    "For example, we could split each diamond into one of 4 equally sized bins.\n",
    "\n",
    "We can replace the interval notation with labels we assign ourselves.\n",
    "\n",
    "You can cut the data into a number of fixed bins using `pd.qcut`.  You can specify your own cut-offs for the bins as a list.    \n",
    "Note the interval notation.  `(` means not-inclusive, and `]` means inclusive.  \n",
    "\n",
    "For example:  \n",
    "Assuming integers:  \n",
    "```\n",
    "(0, 3) = 1, 2\n",
    "(0, 3] = 1, 2, 3, 4, 5\n",
    "[0, 3) = 0, 1, 2\n",
    "[0, 3] = 0, 1, 2, 3\n",
    "```"
   ]
  },
  {
   "cell_type": "markdown",
   "id": "01a44ab5-4436-4a32-b55b-b841e3395295",
   "metadata": {},
   "source": [
    "**Load the diamonds dataset**  "
   ]
  },
  {
   "cell_type": "code",
   "execution_count": 2,
   "id": "06e98414-609d-4705-b6d5-9206558fd23b",
   "metadata": {
    "tags": []
   },
   "outputs": [],
   "source": [
    "diamonds = sns.load_dataset('diamonds')"
   ]
  },
  {
   "cell_type": "code",
   "execution_count": 3,
   "id": "d2738238-773f-47f9-b272-8f901913869b",
   "metadata": {
    "tags": []
   },
   "outputs": [
    {
     "name": "stdout",
     "output_type": "stream",
     "text": [
      "Shape: (53940, 10)\n"
     ]
    },
    {
     "data": {
      "text/html": [
       "<div>\n",
       "<style scoped>\n",
       "    .dataframe tbody tr th:only-of-type {\n",
       "        vertical-align: middle;\n",
       "    }\n",
       "\n",
       "    .dataframe tbody tr th {\n",
       "        vertical-align: top;\n",
       "    }\n",
       "\n",
       "    .dataframe thead th {\n",
       "        text-align: right;\n",
       "    }\n",
       "</style>\n",
       "<table border=\"1\" class=\"dataframe\">\n",
       "  <thead>\n",
       "    <tr style=\"text-align: right;\">\n",
       "      <th></th>\n",
       "      <th>carat</th>\n",
       "      <th>cut</th>\n",
       "      <th>color</th>\n",
       "      <th>clarity</th>\n",
       "      <th>depth</th>\n",
       "      <th>table</th>\n",
       "      <th>price</th>\n",
       "      <th>x</th>\n",
       "      <th>y</th>\n",
       "      <th>z</th>\n",
       "    </tr>\n",
       "  </thead>\n",
       "  <tbody>\n",
       "    <tr>\n",
       "      <th>19907</th>\n",
       "      <td>1.53</td>\n",
       "      <td>Very Good</td>\n",
       "      <td>G</td>\n",
       "      <td>SI2</td>\n",
       "      <td>62.1</td>\n",
       "      <td>61.0</td>\n",
       "      <td>8455</td>\n",
       "      <td>7.28</td>\n",
       "      <td>7.30</td>\n",
       "      <td>4.53</td>\n",
       "    </tr>\n",
       "    <tr>\n",
       "      <th>51747</th>\n",
       "      <td>0.71</td>\n",
       "      <td>Ideal</td>\n",
       "      <td>E</td>\n",
       "      <td>SI1</td>\n",
       "      <td>61.9</td>\n",
       "      <td>56.0</td>\n",
       "      <td>2404</td>\n",
       "      <td>5.76</td>\n",
       "      <td>5.71</td>\n",
       "      <td>3.55</td>\n",
       "    </tr>\n",
       "    <tr>\n",
       "      <th>8269</th>\n",
       "      <td>0.90</td>\n",
       "      <td>Very Good</td>\n",
       "      <td>D</td>\n",
       "      <td>SI1</td>\n",
       "      <td>61.5</td>\n",
       "      <td>58.0</td>\n",
       "      <td>4381</td>\n",
       "      <td>6.15</td>\n",
       "      <td>6.21</td>\n",
       "      <td>3.80</td>\n",
       "    </tr>\n",
       "    <tr>\n",
       "      <th>8152</th>\n",
       "      <td>1.01</td>\n",
       "      <td>Ideal</td>\n",
       "      <td>H</td>\n",
       "      <td>SI2</td>\n",
       "      <td>61.7</td>\n",
       "      <td>56.0</td>\n",
       "      <td>4357</td>\n",
       "      <td>6.41</td>\n",
       "      <td>6.46</td>\n",
       "      <td>3.97</td>\n",
       "    </tr>\n",
       "  </tbody>\n",
       "</table>\n",
       "</div>"
      ],
      "text/plain": [
       "       carat        cut color clarity  depth  table  price     x     y     z\n",
       "19907   1.53  Very Good     G     SI2   62.1   61.0   8455  7.28  7.30  4.53\n",
       "51747   0.71      Ideal     E     SI1   61.9   56.0   2404  5.76  5.71  3.55\n",
       "8269    0.90  Very Good     D     SI1   61.5   58.0   4381  6.15  6.21  3.80\n",
       "8152    1.01      Ideal     H     SI2   61.7   56.0   4357  6.41  6.46  3.97"
      ]
     },
     "execution_count": 3,
     "metadata": {},
     "output_type": "execute_result"
    }
   ],
   "source": [
    "print('Shape:',diamonds.shape)\n",
    "diamonds.sample(4)"
   ]
  },
  {
   "cell_type": "code",
   "execution_count": 4,
   "id": "224458ee-1b73-40ae-89b4-361000019ca4",
   "metadata": {
    "tags": []
   },
   "outputs": [
    {
     "data": {
      "text/plain": [
       "count    53940.000000\n",
       "mean      3932.799722\n",
       "std       3989.439738\n",
       "min        326.000000\n",
       "25%        950.000000\n",
       "50%       2401.000000\n",
       "75%       5324.250000\n",
       "max      18823.000000\n",
       "Name: price, dtype: float64"
      ]
     },
     "execution_count": 4,
     "metadata": {},
     "output_type": "execute_result"
    }
   ],
   "source": [
    "diamonds.price.describe()"
   ]
  },
  {
   "cell_type": "code",
   "execution_count": 5,
   "id": "a31c7d44-02d8-4037-ae81-8efa4905e0fb",
   "metadata": {
    "tags": []
   },
   "outputs": [
    {
     "data": {
      "image/png": "[encoded data removed]",
      "text/plain": [
       "<Figure size 1000x400 with 1 Axes>"
      ]
     },
     "metadata": {},
     "output_type": "display_data"
    }
   ],
   "source": [
    "diamonds.price.plot(kind='hist', bins = 100, figsize = (10,4), edgecolor='black', title='Diamond Price');\n",
    "plt.show()\n",
    "# diamonds.price.plot(kind='hist', bins = 100, figsize = (10,4), logx = True, logy=True, edgecolor='black', title='Log Price');"
   ]
  },
  {
   "cell_type": "code",
   "execution_count": 6,
   "id": "fd83b327-d301-45f8-ab60-20edd4e97128",
   "metadata": {
    "tags": []
   },
   "outputs": [
    {
     "data": {
      "text/plain": [
       "0        (307.503, 4025.4]\n",
       "1        (307.503, 4025.4]\n",
       "2        (307.503, 4025.4]\n",
       "3        (307.503, 4025.4]\n",
       "4        (307.503, 4025.4]\n",
       "               ...        \n",
       "53935    (307.503, 4025.4]\n",
       "53936    (307.503, 4025.4]\n",
       "53937    (307.503, 4025.4]\n",
       "53938    (307.503, 4025.4]\n",
       "53939    (307.503, 4025.4]\n",
       "Name: price, Length: 53940, dtype: category\n",
       "Categories (5, interval[float64, right]): [(307.503, 4025.4] < (4025.4, 7724.8] < (7724.8, 11424.2] < (11424.2, 15123.6] < (15123.6, 18823.0]]"
      ]
     },
     "execution_count": 6,
     "metadata": {},
     "output_type": "execute_result"
    }
   ],
   "source": [
    "pd.cut(diamonds.price, bins = 5)"
   ]
  },
  {
   "cell_type": "markdown",
   "id": "8bde1fe6-c3e1-43f9-a007-3e8767f8c29c",
   "metadata": {},
   "source": [
    "### Custom bins\n",
    "\n",
    "Alternatively, we can use custom bins.\n",
    "\n",
    "Assume from our domain knowledge we know that diamonds up to \\\\$2,500 are purchased by a certain category of customers, and those that are priced over \\\\$2,500 are targeted at a different category.\n",
    "\n",
    "We can set up two bins – 0-2500, and 2500-max.\n"
   ]
  },
  {
   "cell_type": "code",
   "execution_count": 7,
   "id": "a43288dd-e90c-43bb-923e-ce0939c4be1e",
   "metadata": {
    "tags": []
   },
   "outputs": [
    {
     "data": {
      "text/plain": [
       "0             (0, 2500]\n",
       "1             (0, 2500]\n",
       "2             (0, 2500]\n",
       "3             (0, 2500]\n",
       "4             (0, 2500]\n",
       "              ...      \n",
       "53935    (2500, 100000]\n",
       "53936    (2500, 100000]\n",
       "53937    (2500, 100000]\n",
       "53938    (2500, 100000]\n",
       "53939    (2500, 100000]\n",
       "Name: price, Length: 53940, dtype: category\n",
       "Categories (2, interval[int64, right]): [(0, 2500] < (2500, 100000]]"
      ]
     },
     "execution_count": 7,
     "metadata": {},
     "output_type": "execute_result"
    }
   ],
   "source": [
    "pd.cut(diamonds.price, bins = [0, 2500, 100000])"
   ]
  },
  {
   "cell_type": "code",
   "execution_count": 8,
   "id": "0f522d4d-4a18-4736-ac4e-726cfc006c20",
   "metadata": {
    "tags": []
   },
   "outputs": [
    {
     "data": {
      "text/html": [
       "<div>\n",
       "<style scoped>\n",
       "    .dataframe tbody tr th:only-of-type {\n",
       "        vertical-align: middle;\n",
       "    }\n",
       "\n",
       "    .dataframe tbody tr th {\n",
       "        vertical-align: top;\n",
       "    }\n",
       "\n",
       "    .dataframe thead th {\n",
       "        text-align: right;\n",
       "    }\n",
       "</style>\n",
       "<table border=\"1\" class=\"dataframe\">\n",
       "  <thead>\n",
       "    <tr style=\"text-align: right;\">\n",
       "      <th></th>\n",
       "      <th>price</th>\n",
       "      <th>pricebin</th>\n",
       "    </tr>\n",
       "  </thead>\n",
       "  <tbody>\n",
       "    <tr>\n",
       "      <th>14993</th>\n",
       "      <td>6040</td>\n",
       "      <td>(2500, 100000]</td>\n",
       "    </tr>\n",
       "    <tr>\n",
       "      <th>38490</th>\n",
       "      <td>1031</td>\n",
       "      <td>(0, 2500]</td>\n",
       "    </tr>\n",
       "    <tr>\n",
       "      <th>2639</th>\n",
       "      <td>3229</td>\n",
       "      <td>(2500, 100000]</td>\n",
       "    </tr>\n",
       "    <tr>\n",
       "      <th>37201</th>\n",
       "      <td>974</td>\n",
       "      <td>(0, 2500]</td>\n",
       "    </tr>\n",
       "    <tr>\n",
       "      <th>9467</th>\n",
       "      <td>4601</td>\n",
       "      <td>(2500, 100000]</td>\n",
       "    </tr>\n",
       "    <tr>\n",
       "      <th>23383</th>\n",
       "      <td>631</td>\n",
       "      <td>(0, 2500]</td>\n",
       "    </tr>\n",
       "  </tbody>\n",
       "</table>\n",
       "</div>"
      ],
      "text/plain": [
       "       price        pricebin\n",
       "14993   6040  (2500, 100000]\n",
       "38490   1031       (0, 2500]\n",
       "2639    3229  (2500, 100000]\n",
       "37201    974       (0, 2500]\n",
       "9467    4601  (2500, 100000]\n",
       "23383    631       (0, 2500]"
      ]
     },
     "execution_count": 8,
     "metadata": {},
     "output_type": "execute_result"
    }
   ],
   "source": [
    "diamonds['pricebin'] = pd.cut(diamonds.price, bins = [0, 2500, 100000])\n",
    "diamonds[['price', 'pricebin']].sample(6)"
   ]
  },
  {
   "cell_type": "code",
   "execution_count": 9,
   "id": "9fa8dca8-64eb-43a2-a630-afd8e71f6741",
   "metadata": {
    "tags": []
   },
   "outputs": [
    {
     "data": {
      "text/html": [
       "<div>\n",
       "<style scoped>\n",
       "    .dataframe tbody tr th:only-of-type {\n",
       "        vertical-align: middle;\n",
       "    }\n",
       "\n",
       "    .dataframe tbody tr th {\n",
       "        vertical-align: top;\n",
       "    }\n",
       "\n",
       "    .dataframe thead th {\n",
       "        text-align: right;\n",
       "    }\n",
       "</style>\n",
       "<table border=\"1\" class=\"dataframe\">\n",
       "  <thead>\n",
       "    <tr style=\"text-align: right;\">\n",
       "      <th></th>\n",
       "      <th>price</th>\n",
       "      <th>pricebin</th>\n",
       "    </tr>\n",
       "  </thead>\n",
       "  <tbody>\n",
       "    <tr>\n",
       "      <th>21844</th>\n",
       "      <td>9904</td>\n",
       "      <td>High Price</td>\n",
       "    </tr>\n",
       "    <tr>\n",
       "      <th>17691</th>\n",
       "      <td>7131</td>\n",
       "      <td>High Price</td>\n",
       "    </tr>\n",
       "    <tr>\n",
       "      <th>15742</th>\n",
       "      <td>6296</td>\n",
       "      <td>High Price</td>\n",
       "    </tr>\n",
       "    <tr>\n",
       "      <th>20691</th>\n",
       "      <td>8970</td>\n",
       "      <td>High Price</td>\n",
       "    </tr>\n",
       "    <tr>\n",
       "      <th>44921</th>\n",
       "      <td>1631</td>\n",
       "      <td>Low Price</td>\n",
       "    </tr>\n",
       "    <tr>\n",
       "      <th>50555</th>\n",
       "      <td>2276</td>\n",
       "      <td>Low Price</td>\n",
       "    </tr>\n",
       "  </tbody>\n",
       "</table>\n",
       "</div>"
      ],
      "text/plain": [
       "       price    pricebin\n",
       "21844   9904  High Price\n",
       "17691   7131  High Price\n",
       "15742   6296  High Price\n",
       "20691   8970  High Price\n",
       "44921   1631   Low Price\n",
       "50555   2276   Low Price"
      ]
     },
     "execution_count": 9,
     "metadata": {},
     "output_type": "execute_result"
    }
   ],
   "source": [
    "# With custom labels\n",
    "diamonds['pricebin'] = pd.cut(diamonds.price, bins = [0, 2500, 100000], labels=['Low Price', 'High Price'])\n",
    "diamonds[['price', 'pricebin']].sample(6)"
   ]
  },
  {
   "cell_type": "code",
   "execution_count": 10,
   "id": "6261dcea-d1e3-43bb-928d-34bb58f7f538",
   "metadata": {
    "tags": []
   },
   "outputs": [
    {
     "data": {
      "text/plain": [
       "pricebin\n",
       "Low Price     27542\n",
       "High Price    26398\n",
       "Name: count, dtype: int64"
      ]
     },
     "execution_count": 10,
     "metadata": {},
     "output_type": "execute_result"
    }
   ],
   "source": [
    "diamonds.pricebin.value_counts()"
   ]
  },
  {
   "cell_type": "markdown",
   "id": "9f0df0de-ae37-41a6-ae95-e3d7e96b9d4e",
   "metadata": {},
   "source": [
    "### Quantile binning\n",
    "\n",
    "Similar to custom bins – except that we use quantiles to bin the data.\n",
    "\n",
    "This is useful if the data is skewed and not evenly distributed across its range.\n"
   ]
  },
  {
   "cell_type": "code",
   "execution_count": 11,
   "id": "75d4244b-ecb5-4132-b96a-6d3f1dee8a01",
   "metadata": {
    "tags": []
   },
   "outputs": [
    {
     "data": {
      "text/plain": [
       "0         (325.999, 950.0]\n",
       "1         (325.999, 950.0]\n",
       "2         (325.999, 950.0]\n",
       "3         (325.999, 950.0]\n",
       "4         (325.999, 950.0]\n",
       "               ...        \n",
       "53935    (2401.0, 5324.25]\n",
       "53936    (2401.0, 5324.25]\n",
       "53937    (2401.0, 5324.25]\n",
       "53938    (2401.0, 5324.25]\n",
       "53939    (2401.0, 5324.25]\n",
       "Name: price, Length: 53940, dtype: category\n",
       "Categories (4, interval[float64, right]): [(325.999, 950.0] < (950.0, 2401.0] < (2401.0, 5324.25] < (5324.25, 18823.0]]"
      ]
     },
     "execution_count": 11,
     "metadata": {},
     "output_type": "execute_result"
    }
   ],
   "source": [
    "\n",
    "\n",
    "pd.qcut(diamonds.price, 4)"
   ]
  },
  {
   "cell_type": "code",
   "execution_count": 13,
   "id": "0549de0c-6efb-40c7-ba03-ca2ac3050be0",
   "metadata": {},
   "outputs": [
    {
     "data": {
      "text/plain": [
       "count    53940.000000\n",
       "mean      3932.799722\n",
       "std       3989.439738\n",
       "min        326.000000\n",
       "25%        950.000000\n",
       "50%       2401.000000\n",
       "75%       5324.250000\n",
       "max      18823.000000\n",
       "Name: price, dtype: float64"
      ]
     },
     "execution_count": 13,
     "metadata": {},
     "output_type": "execute_result"
    }
   ],
   "source": [
    "# We can verify that the 4 intervals above align with the four quartiles\n",
    "diamonds.price.describe()"
   ]
  },
  {
   "cell_type": "code",
   "execution_count": 14,
   "id": "65a8ccc6-59cd-4ae4-829a-821d65aaeb63",
   "metadata": {
    "tags": []
   },
   "outputs": [
    {
     "data": {
      "text/html": [
       "<div>\n",
       "<style scoped>\n",
       "    .dataframe tbody tr th:only-of-type {\n",
       "        vertical-align: middle;\n",
       "    }\n",
       "\n",
       "    .dataframe tbody tr th {\n",
       "        vertical-align: top;\n",
       "    }\n",
       "\n",
       "    .dataframe thead th {\n",
       "        text-align: right;\n",
       "    }\n",
       "</style>\n",
       "<table border=\"1\" class=\"dataframe\">\n",
       "  <thead>\n",
       "    <tr style=\"text-align: right;\">\n",
       "      <th></th>\n",
       "      <th>price</th>\n",
       "      <th>pricequantiles</th>\n",
       "    </tr>\n",
       "  </thead>\n",
       "  <tbody>\n",
       "    <tr>\n",
       "      <th>42061</th>\n",
       "      <td>1271</td>\n",
       "      <td>Premium</td>\n",
       "    </tr>\n",
       "    <tr>\n",
       "      <th>27088</th>\n",
       "      <td>17220</td>\n",
       "      <td>Expensive</td>\n",
       "    </tr>\n",
       "    <tr>\n",
       "      <th>33026</th>\n",
       "      <td>814</td>\n",
       "      <td>Affordale</td>\n",
       "    </tr>\n",
       "    <tr>\n",
       "      <th>5333</th>\n",
       "      <td>3810</td>\n",
       "      <td>Pricey</td>\n",
       "    </tr>\n",
       "    <tr>\n",
       "      <th>41130</th>\n",
       "      <td>1197</td>\n",
       "      <td>Premium</td>\n",
       "    </tr>\n",
       "    <tr>\n",
       "      <th>6065</th>\n",
       "      <td>3966</td>\n",
       "      <td>Pricey</td>\n",
       "    </tr>\n",
       "  </tbody>\n",
       "</table>\n",
       "</div>"
      ],
      "text/plain": [
       "       price pricequantiles\n",
       "42061   1271        Premium\n",
       "27088  17220      Expensive\n",
       "33026    814      Affordale\n",
       "5333    3810         Pricey\n",
       "41130   1197        Premium\n",
       "6065    3966         Pricey"
      ]
     },
     "execution_count": 14,
     "metadata": {},
     "output_type": "execute_result"
    }
   ],
   "source": [
    "# You can provide label instead of using the default interval notation, and you can \n",
    "# cut by quartiles using `qcut`\n",
    "\n",
    "diamonds['pricequantiles'] = pd.qcut(diamonds.price, 4, labels=['Affordale', 'Premium', 'Pricey', 'Expensive'])\n",
    "diamonds[['price', 'pricequantiles']].sample(6)"
   ]
  },
  {
   "cell_type": "markdown",
   "id": "154411e2-ec52-4d18-bb51-501240b7872a",
   "metadata": {},
   "source": [
    "## Log transformation\n",
    "\n",
    "Log transformations are really just the application of the log function to the data.  This has the effect of squeezing the big numbers into smaller ones, and the smaller ones into slightly larger ones.  The transformation is purely a mathematical trick in the sense we do not lose any information, because we can get back to exactly where we started from by using the anti-log function, more commonly called the exponential.\n",
    "\n",
    "> **A primer on logarithms**  \n",
    "> Log functions are defined such that $log_a(a^x) = x$, where a is a positive constant.  \n",
    "> \n",
    "> We know that $a^0=1$, which means $log_a(1) = 0$.  \n",
    ">   \n",
    "> Taking a log of everything between 0 and 1 yields a negative number, and taking a log of anything greater than 1 yields a positive number.  \n",
    "\n",
    "However, as the number to which the log function is applied, the result increases slowly.  The effect of applying the log function is to compress the large numbers, and expand the range of the smaller numbers.  The long tail becomes a shorter tail, and the short head becomes a longer head.  \n",
    "\n",
    "Note that this is a mathematical transformation, and we are not losing any information.\n",
    "\n",
    "We can graph the log function to see this effect.  \n",
    "\n",
    "Note that the `exp` function is the reverse of the `log` function.\n"
   ]
  },
  {
   "cell_type": "code",
   "execution_count": 15,
   "id": "f1a8fa92-9fa0-40ec-a2d1-f3b3cd4c19da",
   "metadata": {
    "tags": []
   },
   "outputs": [
    {
     "data": {
      "image/png": "[encoded data removed]",
      "text/plain": [
       "<Figure size 1500x600 with 1 Axes>"
      ]
     },
     "metadata": {},
     "output_type": "display_data"
    }
   ],
   "source": [
    "# graph of the log function - 0 to 10,000.\n",
    "# log\n",
    "\n",
    "plt.ylabel('Natural Log of Number')\n",
    "plt.xlabel('Number')\n",
    "my_range = np.arange(1e-8,10000, 1)\n",
    "pd.Series(np.log(my_range), index = my_range).plot.line(figsize = (15,6));"
   ]
  },
  {
   "cell_type": "code",
   "execution_count": 17,
   "id": "15352bcb-563a-495b-a3a0-ab2194d43c93",
   "metadata": {
    "tags": []
   },
   "outputs": [
    {
     "data": {
      "image/png": "[encoded data removed]",
      "text/plain": [
       "<Figure size 1500x600 with 1 Axes>"
      ]
     },
     "metadata": {},
     "output_type": "display_data"
    }
   ],
   "source": [
    "# graph of the log function - 0 to 3\n",
    "# log\n",
    "\n",
    "plt.ylabel('Natural Log of Number')\n",
    "plt.xlabel('Number')\n",
    "my_range = np.arange(1e-8, 3, .01)\n",
    "pd.Series(np.log(my_range), index = my_range).plot.line(figsize = (15,6))\n",
    "plt.hlines(0, 0, 1,linestyles='dashed', colors='red')\n",
    "plt.vlines(1, -18, 0,linestyles='dashed', colors='red')\n",
    "plt.yticks(np.arange(-18,3,1))\n",
    "plt.hlines(1, 0, np.exp(1),linestyles='dotted', colors='green')\n",
    "plt.vlines(np.exp(1), -18, 1,linestyles='dotted', colors='green')\n",
    "plt.xticks([0,.5,1,1.5,2,2.5, 2.7182,3]);"
   ]
  },
  {
   "cell_type": "code",
   "execution_count": 18,
   "id": "bdd6f04b-b05e-440e-9694-6baffdb26530",
   "metadata": {
    "tags": []
   },
   "outputs": [
    {
     "name": "stdout",
     "output_type": "stream",
     "text": [
      "2.718281828459045\n"
     ]
    }
   ],
   "source": [
    "print(np.exp(1))"
   ]
  },
  {
   "cell_type": "markdown",
   "id": "a75fe785-e512-4f81-90cf-33a75b6fd884",
   "metadata": {},
   "source": [
    "One limitation of log transforms is that they can only be applied to positive numbers as logs are not defined for negative numbers.\n",
    "\n",
    "Log of zero is not defined. If you could end up with log(0), you should add a very tiny number, eg 1e-8 so that you don't end up with a _nan_.\n"
   ]
  },
  {
   "cell_type": "code",
   "execution_count": 19,
   "id": "658e33d2-dd6d-4915-aea8-1d05393c0c68",
   "metadata": {
    "tags": []
   },
   "outputs": [
    {
     "name": "stdout",
     "output_type": "stream",
     "text": [
      "Log of 0 is -inf\n",
      "Log of -1 is nan\n",
      "Log of +1 is 0.0\n",
      "Log of +2.72 is 1.000631880307906\n"
     ]
    },
    {
     "name": "stderr",
     "output_type": "stream",
     "text": [
      "C:\\Users\\user\\AppData\\Local\\Temp\\ipykernel_14040\\4097127657.py:2: RuntimeWarning: divide by zero encountered in log\n",
      "  print('Log of 0 is', np.log(0))\n",
      "C:\\Users\\user\\AppData\\Local\\Temp\\ipykernel_14040\\4097127657.py:3: RuntimeWarning: invalid value encountered in log\n",
      "  print('Log of -1 is', np.log(-1))\n"
     ]
    }
   ],
   "source": [
    "# Logs of negative numbers, or 0, yield an error\n",
    "print('Log of 0 is', np.log(0))\n",
    "print('Log of -1 is', np.log(-1))\n",
    "print('Log of +1 is', np.log(1))\n",
    "print('Log of +2.72 is', np.log(2.72))"
   ]
  },
  {
   "cell_type": "markdown",
   "id": "79f91e5f-fd92-4857-89c9-692f564a9740",
   "metadata": {},
   "source": [
    "**Applying Log Transformation to Price in our Diamonds Dataset**  \n",
    "Both graphs below represent the same data.  \n",
    "\n",
    "The second graph represents a ‘feature’ we have extracted from the original data.  \n",
    "\n",
    "In some cases, such transformed data may allow us to build models that perform better.  \n"
   ]
  },
  {
   "cell_type": "code",
   "execution_count": 20,
   "id": "1a9cc232-8919-414a-88d6-aeae33d64540",
   "metadata": {
    "tags": []
   },
   "outputs": [
    {
     "data": {
      "image/png": "[encoded data removed]",
      "text/plain": [
       "<Figure size 1800x400 with 1 Axes>"
      ]
     },
     "metadata": {},
     "output_type": "display_data"
    },
    {
     "data": {
      "image/png": "[encoded data removed]",
      "text/plain": [
       "<Figure size 1800x400 with 1 Axes>"
      ]
     },
     "metadata": {},
     "output_type": "display_data"
    }
   ],
   "source": [
    "diamonds.price.plot(kind='hist', bins = 50, figsize = (18,4), \\\n",
    "                    edgecolor='black', title='Price on x-axis');\n",
    "plt.show()\n",
    "diamonds['log_transform'] = np.log10(diamonds.price)\n",
    "diamonds['log_transform'].plot(kind='hist', bins = 50, figsize = (18,4), \\\n",
    "                              edgecolor='black', title='Log(10)(price) on x-axis');"
   ]
  },
  {
   "cell_type": "markdown",
   "id": "83355921-5bc3-4ae7-a539-ba7cde0f5ba2",
   "metadata": {},
   "source": [
    "## Box Cox Transform\n",
    "\n",
    "The log transform is an example of a family of transformations known as power transforms.  In statistical terms, these are variance-stabilizing transformations.  \n",
    "\n",
    "Another similar transform is taking the square root of the data series.  \n",
    "\n",
    "A generalization of the square root transform and the log transform is known as the Box-Cox transform.  \n",
    "\n",
    "The Box-Cox transform takes a parameter, $\\lambda$, and its formula is as follows:  \n",
    "\n",
    "> If $\\lambda\\neq0$, then: $\\tilde{x}$ = $\\frac{x^\\lambda -1}{\\lambda}$  \n",
    "> If $\\lambda=0$, then: $\\tilde{x}$ = $ln(x)$\n",
    "\n",
    "When $\\lambda=0$ , the Box-Cox transform is nothing but the log transform.  \n",
    "\n",
    "In Python, Box-Cox is available as a function through Scipy.  The Scipy implementation optimizes the value of $\\lambda$ so that the resulting distribution is as close as possible to a normal distribution.\n"
   ]
  },
  {
   "cell_type": "code",
   "execution_count": 21,
   "id": "9edd1ea9-cdc1-42f1-b76a-d261abf310fc",
   "metadata": {
    "tags": []
   },
   "outputs": [],
   "source": [
    "from scipy.stats import boxcox"
   ]
  },
  {
   "cell_type": "code",
   "execution_count": 22,
   "id": "bd04cb4e-4362-4763-9007-189641ecd94e",
   "metadata": {
    "tags": []
   },
   "outputs": [
    {
     "name": "stdout",
     "output_type": "stream",
     "text": [
      "Lambda is: -0.06699030544539092\n"
     ]
    }
   ],
   "source": [
    "bc_data, bc_lambda = boxcox(diamonds.price)\n",
    "print('Lambda is:', bc_lambda)\n",
    "\n",
    "diamonds['boxcox_transform'] = bc_data\n"
   ]
  },
  {
   "cell_type": "code",
   "execution_count": 23,
   "id": "494653d7-8f44-4250-a8db-0db4119feacb",
   "metadata": {
    "tags": []
   },
   "outputs": [
    {
     "name": "stdout",
     "output_type": "stream",
     "text": [
      "Lambda for Box-Cox is: -0.06699030544539092\n"
     ]
    },
    {
     "data": {
      "image/png": "[encoded data removed]",
      "text/plain": [
       "<Figure size 2200x300 with 1 Axes>"
      ]
     },
     "metadata": {},
     "output_type": "display_data"
    },
    {
     "data": {
      "image/png": "[encoded data removed]",
      "text/plain": [
       "<Figure size 2200x300 with 1 Axes>"
      ]
     },
     "metadata": {},
     "output_type": "display_data"
    },
    {
     "data": {
      "image/png": "[encoded data removed]",
      "text/plain": [
       "<Figure size 2200x300 with 1 Axes>"
      ]
     },
     "metadata": {},
     "output_type": "display_data"
    }
   ],
   "source": [
    "print('Lambda for Box-Cox is:', bc_lambda)\n",
    "diamonds.price.plot(kind='hist', bins = 50, figsize = (22,3), edgecolor='black', title='Raw Price data, no transformation');\n",
    "plt.show()\n",
    "diamonds['log_transform'].plot(kind='hist', bins = 50, figsize = (22,3), edgecolor='black', title='Log Transform');\n",
    "plt.show()\n",
    "diamonds['boxcox_transform'].plot(kind='hist', bins = 50, figsize = (22,3), edgecolor='black', title='Box-Cox Transform');\n"
   ]
  },
  {
   "cell_type": "markdown",
   "id": "d01569a5-1e60-4354-ae6e-c0ffb0a1855e",
   "metadata": {},
   "source": [
    "Review the graphics above.  The top graph is the untranformed data, the next one is the same data after a log transform, and the final one is the same data after a box-cox transform.  Note that it is the x-axis that is being transformed, ie the prices.  \n",
    "\n",
    "The optimal Box-Cox transform deflates the tail more than the log transform.  Since the box-cox transform tries to take the distribution as close as possible to a normal distribution, we can use Q-Q plots, or probability plots to compare observed to theoretical quantiles under the normal distribution.  For our purposes though, we do not need to do that, so we will skip this.\n",
    "\n",
    "One limitation of box cox transforms is that they can only be applied to positive numbers.  To get over this limitation add a constant equal to the smallest negative value in your data to your entire array.  \n",
    "\n"
   ]
  },
  {
   "cell_type": "markdown",
   "id": "9774e26c-f401-4374-9bf6-186737309f0e",
   "metadata": {},
   "source": [
    "## Feature Scaling\n",
    "### Minmax & standardization"
   ]
  },
  {
   "cell_type": "markdown",
   "id": "bfcc0091-8f93-4848-b4e6-2aba349f5707",
   "metadata": {},
   "source": [
    "**Minmax and standardization of feature columns**  \n",
    "\n",
    "The Box-Cox transform handled skew.  Sometimes we may need to ‘scale’ the features, which means we make them fit to a nice scale by using simple arithmetic operations.\n",
    "\n",
    "Min-Max Scaling:  \n",
    "$\\widetilde{x}=\\frac{x\\ -\\min{\\left(x\\right)}}{\\max{\\left(x\\right)}-\\min(x)}$  \n",
    "  \n",
    "  \n",
    "Standardization:  \n",
    "$\\widetilde{x}=\\frac{x\\ -mean\\left(x\\right)}{StdDev\\left(x\\right)}$  "
   ]
  },
  {
   "cell_type": "code",
   "execution_count": 24,
   "id": "ba7570a0-d331-4d88-b470-8f4d89984d29",
   "metadata": {
    "tags": []
   },
   "outputs": [],
   "source": [
    "import sklearn.preprocessing as preproc\n",
    "diamonds['minmax'] = preproc.minmax_scale(diamonds[['price']])\n",
    "diamonds['standardized'] = preproc.StandardScaler().fit_transform(diamonds[['price']]) # At the column level\n",
    "diamonds['l2_normalized'] = preproc.normalize(diamonds[['price']], axis=0)"
   ]
  },
  {
   "cell_type": "markdown",
   "id": "f49147de-e14d-42d8-b458-cc2e97168ab2",
   "metadata": {},
   "source": [
    "As we can see below, feature scaling did not impact the shape of distribution – only the scaling of the x-axis changed.  \n",
    "\n",
    "Feature scaling is useful when features vary significantly in scale, eg, count of hits of a webpage (large) vs number of orders of the item on that page (very small)"
   ]
  },
  {
   "cell_type": "code",
   "execution_count": 27,
   "id": "a7f27798-6f9b-46ce-a382-069417a0669c",
   "metadata": {
    "tags": []
   },
   "outputs": [
    {
     "data": {
      "image/png": "[encoded data removed]",
      "text/plain": [
       "<Figure size 2200x200 with 1 Axes>"
      ]
     },
     "metadata": {},
     "output_type": "display_data"
    },
    {
     "data": {
      "image/png": "[encoded data removed]",
      "text/plain": [
       "<Figure size 2200x200 with 1 Axes>"
      ]
     },
     "metadata": {},
     "output_type": "display_data"
    },
    {
     "data": {
      "image/png": "[encoded data removed]",
      "text/plain": [
       "<Figure size 2200x200 with 1 Axes>"
      ]
     },
     "metadata": {},
     "output_type": "display_data"
    }
   ],
   "source": [
    "diamonds.price.plot(kind='hist', bins = 50, figsize = (22,2), edgecolor='black', title='Raw Price data, no transformation');\n",
    "plt.show()\n",
    "diamonds['minmax'].plot(kind='hist', bins = 50, figsize = (22,2), edgecolor='black', title='Min-Max Scaling');\n",
    "plt.show()\n",
    "diamonds['standardized'].plot(kind='hist', bins = 50, figsize = (22,2), edgecolor='black', title='Standardization');\n",
    "plt.show()\n",
    "# diamonds['l2_normalized'].plot(kind='hist', bins = 50, figsize = (22,2), edgecolor='black', title='L2 Normalized');\n",
    "# plt.show()\n"
   ]
  },
  {
   "cell_type": "markdown",
   "id": "4040adb7-7139-4662-963e-424ed9a402fc",
   "metadata": {},
   "source": [
    "**Using `scipy.stats.zscore` for a single data series**  \n",
    "Standardization of a single data series, or vector can be done using the function `zscore`.  \n",
    "This may be necessary as `StandardScaler` expects an m x n array as input (to standardize an entire feature set, as opposed to a single column)"
   ]
  },
  {
   "cell_type": "code",
   "execution_count": 28,
   "id": "e1c09e3c-2732-4db1-aa51-cc2707815728",
   "metadata": {
    "tags": []
   },
   "outputs": [
    {
     "data": {
      "text/plain": [
       "0       -0.904095\n",
       "1       -0.904095\n",
       "2       -0.903844\n",
       "3       -0.902090\n",
       "4       -0.901839\n",
       "           ...   \n",
       "53935   -0.294731\n",
       "53936   -0.294731\n",
       "53937   -0.294731\n",
       "53938   -0.294731\n",
       "53939   -0.294731\n",
       "Name: price, Length: 53940, dtype: float64"
      ]
     },
     "execution_count": 28,
     "metadata": {},
     "output_type": "execute_result"
    }
   ],
   "source": [
    "from scipy.stats import zscore\n",
    "zscore(diamonds.price)"
   ]
  },
  {
   "cell_type": "markdown",
   "id": "75fa2b4b-2c16-4811-9a0c-6122a04fb782",
   "metadata": {},
   "source": [
    "### Fit, Transform & Fit_Transform\n",
    "\n",
    "As an example, we look at an array and 'fit' a min-max scaler to it.  \n",
    "\n",
    "Numpy requires the data to be in a specific shape - the array must have columns, and every column is scaled separately.  We will have only column in this example, with four values."
   ]
  },
  {
   "cell_type": "code",
   "execution_count": 32,
   "id": "ef0208c6-d2e3-41f8-89e6-c4589e2c2753",
   "metadata": {},
   "outputs": [
    {
     "data": {
      "text/plain": [
       "array([[ 2],\n",
       "       [ 4],\n",
       "       [ 8],\n",
       "       [12]])"
      ]
     },
     "execution_count": 32,
     "metadata": {},
     "output_type": "execute_result"
    }
   ],
   "source": [
    "# Set up the data\n",
    "data = np.array([2,4,8,12])\n",
    "data = data.reshape(-1, 1)\n",
    "data"
   ]
  },
  {
   "cell_type": "code",
   "execution_count": 34,
   "id": "7efa8913-c669-4bb0-a814-e93457b81898",
   "metadata": {},
   "outputs": [
    {
     "data": {
      "text/html": [
       "<style>#sk-container-id-1 {\n",
       "  /* Definition of color scheme common for light and dark mode */\n",
       "  --sklearn-color-text: black;\n",
       "  --sklearn-color-line: gray;\n",
       "  /* Definition of color scheme for unfitted estimators */\n",
       "  --sklearn-color-unfitted-level-0: #fff5e6;\n",
       "  --sklearn-color-unfitted-level-1: #f6e4d2;\n",
       "  --sklearn-color-unfitted-level-2: #ffe0b3;\n",
       "  --sklearn-color-unfitted-level-3: chocolate;\n",
       "  /* Definition of color scheme for fitted estimators */\n",
       "  --sklearn-color-fitted-level-0: #f0f8ff;\n",
       "  --sklearn-color-fitted-level-1: #d4ebff;\n",
       "  --sklearn-color-fitted-level-2: #b3dbfd;\n",
       "  --sklearn-color-fitted-level-3: cornflowerblue;\n",
       "\n",
       "  /* Specific color for light theme */\n",
       "  --sklearn-color-text-on-default-background: var(--sg-text-color, var(--theme-code-foreground, var(--jp-content-font-color1, black)));\n",
       "  --sklearn-color-background: var(--sg-background-color, var(--theme-background, var(--jp-layout-color0, white)));\n",
       "  --sklearn-color-border-box: var(--sg-text-color, var(--theme-code-foreground, var(--jp-content-font-color1, black)));\n",
       "  --sklearn-color-icon: #696969;\n",
       "\n",
       "  @media (prefers-color-scheme: dark) {\n",
       "    /* Redefinition of color scheme for dark theme */\n",
       "    --sklearn-color-text-on-default-background: var(--sg-text-color, var(--theme-code-foreground, var(--jp-content-font-color1, white)));\n",
       "    --sklearn-color-background: var(--sg-background-color, var(--theme-background, var(--jp-layout-color0, #111)));\n",
       "    --sklearn-color-border-box: var(--sg-text-color, var(--theme-code-foreground, var(--jp-content-font-color1, white)));\n",
       "    --sklearn-color-icon: #878787;\n",
       "  }\n",
       "}\n",
       "\n",
       "#sk-container-id-1 {\n",
       "  color: var(--sklearn-color-text);\n",
       "}\n",
       "\n",
       "#sk-container-id-1 pre {\n",
       "  padding: 0;\n",
       "}\n",
       "\n",
       "#sk-container-id-1 input.sk-hidden--visually {\n",
       "  border: 0;\n",
       "  clip: rect(1px 1px 1px 1px);\n",
       "  clip: rect(1px, 1px, 1px, 1px);\n",
       "  height: 1px;\n",
       "  margin: -1px;\n",
       "  overflow: hidden;\n",
       "  padding: 0;\n",
       "  position: absolute;\n",
       "  width: 1px;\n",
       "}\n",
       "\n",
       "#sk-container-id-1 div.sk-dashed-wrapped {\n",
       "  border: 1px dashed var(--sklearn-color-line);\n",
       "  margin: 0 0.4em 0.5em 0.4em;\n",
       "  box-sizing: border-box;\n",
       "  padding-bottom: 0.4em;\n",
       "  background-color: var(--sklearn-color-background);\n",
       "}\n",
       "\n",
       "#sk-container-id-1 div.sk-container {\n",
       "  /* jupyter's `normalize.less` sets `[hidden] { display: none; }`\n",
       "     but bootstrap.min.css set `[hidden] { display: none !important; }`\n",
       "     so we also need the `!important` here to be able to override the\n",
       "     default hidden behavior on the sphinx rendered scikit-learn.org.\n",
       "     See: https://github.com/scikit-learn/scikit-learn/issues/21755 */\n",
       "  display: inline-block !important;\n",
       "  position: relative;\n",
       "}\n",
       "\n",
       "#sk-container-id-1 div.sk-text-repr-fallback {\n",
       "  display: none;\n",
       "}\n",
       "\n",
       "div.sk-parallel-item,\n",
       "div.sk-serial,\n",
       "div.sk-item {\n",
       "  /* draw centered vertical line to link estimators */\n",
       "  background-image: linear-gradient(var(--sklearn-color-text-on-default-background), var(--sklearn-color-text-on-default-background));\n",
       "  background-size: 2px 100%;\n",
       "  background-repeat: no-repeat;\n",
       "  background-position: center center;\n",
       "}\n",
       "\n",
       "/* Parallel-specific style estimator block */\n",
       "\n",
       "#sk-container-id-1 div.sk-parallel-item::after {\n",
       "  content: \"\";\n",
       "  width: 100%;\n",
       "  border-bottom: 2px solid var(--sklearn-color-text-on-default-background);\n",
       "  flex-grow: 1;\n",
       "}\n",
       "\n",
       "#sk-container-id-1 div.sk-parallel {\n",
       "  display: flex;\n",
       "  align-items: stretch;\n",
       "  justify-content: center;\n",
       "  background-color: var(--sklearn-color-background);\n",
       "  position: relative;\n",
       "}\n",
       "\n",
       "#sk-container-id-1 div.sk-parallel-item {\n",
       "  display: flex;\n",
       "  flex-direction: column;\n",
       "}\n",
       "\n",
       "#sk-container-id-1 div.sk-parallel-item:first-child::after {\n",
       "  align-self: flex-end;\n",
       "  width: 50%;\n",
       "}\n",
       "\n",
       "#sk-container-id-1 div.sk-parallel-item:last-child::after {\n",
       "  align-self: flex-start;\n",
       "  width: 50%;\n",
       "}\n",
       "\n",
       "#sk-container-id-1 div.sk-parallel-item:only-child::after {\n",
       "  width: 0;\n",
       "}\n",
       "\n",
       "/* Serial-specific style estimator block */\n",
       "\n",
       "#sk-container-id-1 div.sk-serial {\n",
       "  display: flex;\n",
       "  flex-direction: column;\n",
       "  align-items: center;\n",
       "  background-color: var(--sklearn-color-background);\n",
       "  padding-right: 1em;\n",
       "  padding-left: 1em;\n",
       "}\n",
       "\n",
       "\n",
       "/* Toggleable style: style used for estimator/Pipeline/ColumnTransformer box that is\n",
       "clickable and can be expanded/collapsed.\n",
       "- Pipeline and ColumnTransformer use this feature and define the default style\n",
       "- Estimators will overwrite some part of the style using the `sk-estimator` class\n",
       "*/\n",
       "\n",
       "/* Pipeline and ColumnTransformer style (default) */\n",
       "\n",
       "#sk-container-id-1 div.sk-toggleable {\n",
       "  /* Default theme specific background. It is overwritten whether we have a\n",
       "  specific estimator or a Pipeline/ColumnTransformer */\n",
       "  background-color: var(--sklearn-color-background);\n",
       "}\n",
       "\n",
       "/* Toggleable label */\n",
       "#sk-container-id-1 label.sk-toggleable__label {\n",
       "  cursor: pointer;\n",
       "  display: block;\n",
       "  width: 100%;\n",
       "  margin-bottom: 0;\n",
       "  padding: 0.5em;\n",
       "  box-sizing: border-box;\n",
       "  text-align: center;\n",
       "}\n",
       "\n",
       "#sk-container-id-1 label.sk-toggleable__label-arrow:before {\n",
       "  /* Arrow on the left of the label */\n",
       "  content: \"▸\";\n",
       "  float: left;\n",
       "  margin-right: 0.25em;\n",
       "  color: var(--sklearn-color-icon);\n",
       "}\n",
       "\n",
       "#sk-container-id-1 label.sk-toggleable__label-arrow:hover:before {\n",
       "  color: var(--sklearn-color-text);\n",
       "}\n",
       "\n",
       "/* Toggleable content - dropdown */\n",
       "\n",
       "#sk-container-id-1 div.sk-toggleable__content {\n",
       "  max-height: 0;\n",
       "  max-width: 0;\n",
       "  overflow: hidden;\n",
       "  text-align: left;\n",
       "  /* unfitted */\n",
       "  background-color: var(--sklearn-color-unfitted-level-0);\n",
       "}\n",
       "\n",
       "#sk-container-id-1 div.sk-toggleable__content.fitted {\n",
       "  /* fitted */\n",
       "  background-color: var(--sklearn-color-fitted-level-0);\n",
       "}\n",
       "\n",
       "#sk-container-id-1 div.sk-toggleable__content pre {\n",
       "  margin: 0.2em;\n",
       "  border-radius: 0.25em;\n",
       "  color: var(--sklearn-color-text);\n",
       "  /* unfitted */\n",
       "  background-color: var(--sklearn-color-unfitted-level-0);\n",
       "}\n",
       "\n",
       "#sk-container-id-1 div.sk-toggleable__content.fitted pre {\n",
       "  /* unfitted */\n",
       "  background-color: var(--sklearn-color-fitted-level-0);\n",
       "}\n",
       "\n",
       "#sk-container-id-1 input.sk-toggleable__control:checked~div.sk-toggleable__content {\n",
       "  /* Expand drop-down */\n",
       "  max-height: 200px;\n",
       "  max-width: 100%;\n",
       "  overflow: auto;\n",
       "}\n",
       "\n",
       "#sk-container-id-1 input.sk-toggleable__control:checked~label.sk-toggleable__label-arrow:before {\n",
       "  content: \"▾\";\n",
       "}\n",
       "\n",
       "/* Pipeline/ColumnTransformer-specific style */\n",
       "\n",
       "#sk-container-id-1 div.sk-label input.sk-toggleable__control:checked~label.sk-toggleable__label {\n",
       "  color: var(--sklearn-color-text);\n",
       "  background-color: var(--sklearn-color-unfitted-level-2);\n",
       "}\n",
       "\n",
       "#sk-container-id-1 div.sk-label.fitted input.sk-toggleable__control:checked~label.sk-toggleable__label {\n",
       "  background-color: var(--sklearn-color-fitted-level-2);\n",
       "}\n",
       "\n",
       "/* Estimator-specific style */\n",
       "\n",
       "/* Colorize estimator box */\n",
       "#sk-container-id-1 div.sk-estimator input.sk-toggleable__control:checked~label.sk-toggleable__label {\n",
       "  /* unfitted */\n",
       "  background-color: var(--sklearn-color-unfitted-level-2);\n",
       "}\n",
       "\n",
       "#sk-container-id-1 div.sk-estimator.fitted input.sk-toggleable__control:checked~label.sk-toggleable__label {\n",
       "  /* fitted */\n",
       "  background-color: var(--sklearn-color-fitted-level-2);\n",
       "}\n",
       "\n",
       "#sk-container-id-1 div.sk-label label.sk-toggleable__label,\n",
       "#sk-container-id-1 div.sk-label label {\n",
       "  /* The background is the default theme color */\n",
       "  color: var(--sklearn-color-text-on-default-background);\n",
       "}\n",
       "\n",
       "/* On hover, darken the color of the background */\n",
       "#sk-container-id-1 div.sk-label:hover label.sk-toggleable__label {\n",
       "  color: var(--sklearn-color-text);\n",
       "  background-color: var(--sklearn-color-unfitted-level-2);\n",
       "}\n",
       "\n",
       "/* Label box, darken color on hover, fitted */\n",
       "#sk-container-id-1 div.sk-label.fitted:hover label.sk-toggleable__label.fitted {\n",
       "  color: var(--sklearn-color-text);\n",
       "  background-color: var(--sklearn-color-fitted-level-2);\n",
       "}\n",
       "\n",
       "/* Estimator label */\n",
       "\n",
       "#sk-container-id-1 div.sk-label label {\n",
       "  font-family: monospace;\n",
       "  font-weight: bold;\n",
       "  display: inline-block;\n",
       "  line-height: 1.2em;\n",
       "}\n",
       "\n",
       "#sk-container-id-1 div.sk-label-container {\n",
       "  text-align: center;\n",
       "}\n",
       "\n",
       "/* Estimator-specific */\n",
       "#sk-container-id-1 div.sk-estimator {\n",
       "  font-family: monospace;\n",
       "  border: 1px dotted var(--sklearn-color-border-box);\n",
       "  border-radius: 0.25em;\n",
       "  box-sizing: border-box;\n",
       "  margin-bottom: 0.5em;\n",
       "  /* unfitted */\n",
       "  background-color: var(--sklearn-color-unfitted-level-0);\n",
       "}\n",
       "\n",
       "#sk-container-id-1 div.sk-estimator.fitted {\n",
       "  /* fitted */\n",
       "  background-color: var(--sklearn-color-fitted-level-0);\n",
       "}\n",
       "\n",
       "/* on hover */\n",
       "#sk-container-id-1 div.sk-estimator:hover {\n",
       "  /* unfitted */\n",
       "  background-color: var(--sklearn-color-unfitted-level-2);\n",
       "}\n",
       "\n",
       "#sk-container-id-1 div.sk-estimator.fitted:hover {\n",
       "  /* fitted */\n",
       "  background-color: var(--sklearn-color-fitted-level-2);\n",
       "}\n",
       "\n",
       "/* Specification for estimator info (e.g. \"i\" and \"?\") */\n",
       "\n",
       "/* Common style for \"i\" and \"?\" */\n",
       "\n",
       ".sk-estimator-doc-link,\n",
       "a:link.sk-estimator-doc-link,\n",
       "a:visited.sk-estimator-doc-link {\n",
       "  float: right;\n",
       "  font-size: smaller;\n",
       "  line-height: 1em;\n",
       "  font-family: monospace;\n",
       "  background-color: var(--sklearn-color-background);\n",
       "  border-radius: 1em;\n",
       "  height: 1em;\n",
       "  width: 1em;\n",
       "  text-decoration: none !important;\n",
       "  margin-left: 1ex;\n",
       "  /* unfitted */\n",
       "  border: var(--sklearn-color-unfitted-level-1) 1pt solid;\n",
       "  color: var(--sklearn-color-unfitted-level-1);\n",
       "}\n",
       "\n",
       ".sk-estimator-doc-link.fitted,\n",
       "a:link.sk-estimator-doc-link.fitted,\n",
       "a:visited.sk-estimator-doc-link.fitted {\n",
       "  /* fitted */\n",
       "  border: var(--sklearn-color-fitted-level-1) 1pt solid;\n",
       "  color: var(--sklearn-color-fitted-level-1);\n",
       "}\n",
       "\n",
       "/* On hover */\n",
       "div.sk-estimator:hover .sk-estimator-doc-link:hover,\n",
       ".sk-estimator-doc-link:hover,\n",
       "div.sk-label-container:hover .sk-estimator-doc-link:hover,\n",
       ".sk-estimator-doc-link:hover {\n",
       "  /* unfitted */\n",
       "  background-color: var(--sklearn-color-unfitted-level-3);\n",
       "  color: var(--sklearn-color-background);\n",
       "  text-decoration: none;\n",
       "}\n",
       "\n",
       "div.sk-estimator.fitted:hover .sk-estimator-doc-link.fitted:hover,\n",
       ".sk-estimator-doc-link.fitted:hover,\n",
       "div.sk-label-container:hover .sk-estimator-doc-link.fitted:hover,\n",
       ".sk-estimator-doc-link.fitted:hover {\n",
       "  /* fitted */\n",
       "  background-color: var(--sklearn-color-fitted-level-3);\n",
       "  color: var(--sklearn-color-background);\n",
       "  text-decoration: none;\n",
       "}\n",
       "\n",
       "/* Span, style for the box shown on hovering the info icon */\n",
       ".sk-estimator-doc-link span {\n",
       "  display: none;\n",
       "  z-index: 9999;\n",
       "  position: relative;\n",
       "  font-weight: normal;\n",
       "  right: .2ex;\n",
       "  padding: .5ex;\n",
       "  margin: .5ex;\n",
       "  width: min-content;\n",
       "  min-width: 20ex;\n",
       "  max-width: 50ex;\n",
       "  color: var(--sklearn-color-text);\n",
       "  box-shadow: 2pt 2pt 4pt #999;\n",
       "  /* unfitted */\n",
       "  background: var(--sklearn-color-unfitted-level-0);\n",
       "  border: .5pt solid var(--sklearn-color-unfitted-level-3);\n",
       "}\n",
       "\n",
       ".sk-estimator-doc-link.fitted span {\n",
       "  /* fitted */\n",
       "  background: var(--sklearn-color-fitted-level-0);\n",
       "  border: var(--sklearn-color-fitted-level-3);\n",
       "}\n",
       "\n",
       ".sk-estimator-doc-link:hover span {\n",
       "  display: block;\n",
       "}\n",
       "\n",
       "/* \"?\"-specific style due to the `<a>` HTML tag */\n",
       "\n",
       "#sk-container-id-1 a.estimator_doc_link {\n",
       "  float: right;\n",
       "  font-size: 1rem;\n",
       "  line-height: 1em;\n",
       "  font-family: monospace;\n",
       "  background-color: var(--sklearn-color-background);\n",
       "  border-radius: 1rem;\n",
       "  height: 1rem;\n",
       "  width: 1rem;\n",
       "  text-decoration: none;\n",
       "  /* unfitted */\n",
       "  color: var(--sklearn-color-unfitted-level-1);\n",
       "  border: var(--sklearn-color-unfitted-level-1) 1pt solid;\n",
       "}\n",
       "\n",
       "#sk-container-id-1 a.estimator_doc_link.fitted {\n",
       "  /* fitted */\n",
       "  border: var(--sklearn-color-fitted-level-1) 1pt solid;\n",
       "  color: var(--sklearn-color-fitted-level-1);\n",
       "}\n",
       "\n",
       "/* On hover */\n",
       "#sk-container-id-1 a.estimator_doc_link:hover {\n",
       "  /* unfitted */\n",
       "  background-color: var(--sklearn-color-unfitted-level-3);\n",
       "  color: var(--sklearn-color-background);\n",
       "  text-decoration: none;\n",
       "}\n",
       "\n",
       "#sk-container-id-1 a.estimator_doc_link.fitted:hover {\n",
       "  /* fitted */\n",
       "  background-color: var(--sklearn-color-fitted-level-3);\n",
       "}\n",
       "</style><div id=\"sk-container-id-1\" class=\"sk-top-container\"><div class=\"sk-text-repr-fallback\"><pre>MinMaxScaler()</pre><b>In a Jupyter environment, please rerun this cell to show the HTML representation or trust the notebook. <br />On GitHub, the HTML representation is unable to render, please try loading this page with nbviewer.org.</b></div><div class=\"sk-container\" hidden><div class=\"sk-item\"><div class=\"sk-estimator fitted sk-toggleable\"><input class=\"sk-toggleable__control sk-hidden--visually\" id=\"sk-estimator-id-1\" type=\"checkbox\" checked><label for=\"sk-estimator-id-1\" class=\"sk-toggleable__label fitted sk-toggleable__label-arrow fitted\">&nbsp;&nbsp;MinMaxScaler<a class=\"sk-estimator-doc-link fitted\" rel=\"noreferrer\" target=\"_blank\" href=\"https://scikit-learn.org/1.4/modules/generated/sklearn.preprocessing.MinMaxScaler.html\">?<span>Documentation for MinMaxScaler</span></a><span class=\"sk-estimator-doc-link fitted\">i<span>Fitted</span></span></label><div class=\"sk-toggleable__content fitted\"><pre>MinMaxScaler()</pre></div> </div></div></div></div>"
      ],
      "text/plain": [
       "MinMaxScaler()"
      ]
     },
     "execution_count": 34,
     "metadata": {},
     "output_type": "execute_result"
    }
   ],
   "source": [
    "# Fit the scaler using a variable called 'myscaler'\n",
    "myscaler = preproc.MinMaxScaler()\n",
    "myscaler.fit(data)"
   ]
  },
  {
   "cell_type": "code",
   "execution_count": 35,
   "id": "4418e955-d1a7-4c64-8ea7-b307eb2727ad",
   "metadata": {},
   "outputs": [
    {
     "data": {
      "text/plain": [
       "array([12.])"
      ]
     },
     "execution_count": 35,
     "metadata": {},
     "output_type": "execute_result"
    }
   ],
   "source": [
    "# We check the max\n",
    "myscaler.data_max_"
   ]
  },
  {
   "cell_type": "code",
   "execution_count": 36,
   "id": "06b07b17-d36c-437b-9755-5a9f6a57b998",
   "metadata": {},
   "outputs": [
    {
     "data": {
      "text/plain": [
       "array([2.])"
      ]
     },
     "execution_count": 36,
     "metadata": {},
     "output_type": "execute_result"
    }
   ],
   "source": [
    "# Check the min\n",
    "myscaler.data_min_"
   ]
  },
  {
   "cell_type": "code",
   "execution_count": 37,
   "id": "d1f2c1ca-4c27-42d9-b3e7-76ffbefcb611",
   "metadata": {},
   "outputs": [
    {
     "data": {
      "text/plain": [
       "array([[0. ],\n",
       "       [0.2],\n",
       "       [0.6],\n",
       "       [1. ]])"
      ]
     },
     "execution_count": 37,
     "metadata": {},
     "output_type": "execute_result"
    }
   ],
   "source": [
    "# Transform the data\n",
    "myscaler.transform(data)"
   ]
  },
  {
   "cell_type": "code",
   "execution_count": 38,
   "id": "d0b2d722-7eda-4543-86f4-5c0853e327bb",
   "metadata": {},
   "outputs": [
    {
     "data": {
      "text/plain": [
       "array([[0. ],\n",
       "       [0.2],\n",
       "       [0.6],\n",
       "       [1. ]])"
      ]
     },
     "execution_count": 38,
     "metadata": {},
     "output_type": "execute_result"
    }
   ],
   "source": [
    "# Or we can do fit and transform as a single step\n",
    "myscaler.fit_transform(data)"
   ]
  },
  {
   "cell_type": "code",
   "execution_count": 39,
   "id": "d46b9b2d-38cf-4b4e-ad79-8d5c29e95a5f",
   "metadata": {},
   "outputs": [
    {
     "data": {
      "text/plain": [
       "array([[ 2],\n",
       "       [ 4],\n",
       "       [ 8],\n",
       "       [12],\n",
       "       [15]])"
      ]
     },
     "execution_count": 39,
     "metadata": {},
     "output_type": "execute_result"
    }
   ],
   "source": [
    "# Now we transform new data\n",
    "newdata = np.array([2,4,8,12,15])\n",
    "newdata = newdata.reshape(-1, 1)\n",
    "newdata"
   ]
  },
  {
   "cell_type": "code",
   "execution_count": 40,
   "id": "c69688a8-a625-4628-a019-39ae5676b852",
   "metadata": {},
   "outputs": [
    {
     "data": {
      "text/plain": [
       "array([[0. ],\n",
       "       [0.2],\n",
       "       [0.6],\n",
       "       [1. ],\n",
       "       [1.3]])"
      ]
     },
     "execution_count": 40,
     "metadata": {},
     "output_type": "execute_result"
    }
   ],
   "source": [
    "myscaler.transform(newdata)"
   ]
  },
  {
   "cell_type": "code",
   "execution_count": 42,
   "id": "9d964825-d441-47f8-bae8-54565c06cef0",
   "metadata": {},
   "outputs": [
    {
     "data": {
      "text/plain": [
       "array([[15.]])"
      ]
     },
     "execution_count": 42,
     "metadata": {},
     "output_type": "execute_result"
    }
   ],
   "source": [
    "myscaler.inverse_transform([[1.3]])"
   ]
  },
  {
   "attachments": {
    "1235b834-32a5-4622-8beb-f687c629425c.png": {
     "image/png": "[encoded data removed]"
    }
   },
   "cell_type": "markdown",
   "id": "f5dd05c1-3bd8-40c3-8d07-86c15df110fc",
   "metadata": {},
   "source": [
    "### L2 Normalization  \n",
    "Normalization is the process of scaling individual samples to have unit norm. This process can be useful if you plan to use a quadratic form such as the dot-product or any other kernel to quantify the similarity of any pair of samples.\n",
    "L2 Normalization:  \n",
    "\n",
    "![image.png](attachment:1235b834-32a5-4622-8beb-f687c629425c.png)\n",
    "\n",
    "$||x||_2$ is a constant, equal to the Euclidean length of the vector.\n",
    "$x$ is the feature vector itself. \n",
    "\n",
    "This is useful when observations vary a lot between themselves.\n",
    "\n",
    "_Source: https://scikit-learn.org/stable/modules/preprocessing.html#preprocessing-normalization_\n",
    "\n",
    "**Use normalization where observations vary a lot between themselves.**  \n",
    "\n",
    "Let us look at an example."
   ]
  },
  {
   "cell_type": "code",
   "execution_count": 43,
   "id": "ad1c990a-4da8-4b5f-893e-4f3815bd4a40",
   "metadata": {
    "tags": []
   },
   "outputs": [],
   "source": [
    "# let us create the dataframe first\n",
    "# Data source: https://data.worldbank.org/?locations=AU-CN-CH-IN-VN\n",
    "\n",
    "df = pd.DataFrame({'NI-USDTrillion': {'Australia': 1034.18,\n",
    "  'China': 10198.9,\n",
    "  'India': 2322.05,\n",
    "  'Switzerland': 519.097,\n",
    "  'Vietnam': 176.367},\n",
    " 'AgriLand-sqkm-mm': {'Australia': 3.71837,\n",
    "  'China': 5.285311,\n",
    "  'India': 1.79674,\n",
    "  'Switzerland': 0.01512999,\n",
    "  'Vietnam': 0.121688},\n",
    " 'Freight-mm-ton-km': {'Australia': 1982.586171,\n",
    "  'China': 23323.6147,\n",
    "  'India': 2407.098107,\n",
    "  'Switzerland': 1581.35236,\n",
    "  'Vietnam': 453.34954},\n",
    " 'AirPassengers(m)': {'Australia': 74.257326,\n",
    "  'China': 551.234509,\n",
    "  'India': 139.752424,\n",
    "  'Switzerland': 26.73257,\n",
    "  'Vietnam': 42.592762},\n",
    " 'ArableLandPct': {'Australia': 3.997909522,\n",
    "  'China': 12.67850328,\n",
    "  'India': 52.6088141,\n",
    "  'Switzerland': 10.07651831,\n",
    "  'Vietnam': 22.53781404},\n",
    " 'ArableLandHect': {'Australia': 30.752,\n",
    "  'China': 119.4911,\n",
    "  'India': 156.416,\n",
    "  'Switzerland': 0.398184,\n",
    "  'Vietnam': 6.9883},\n",
    " 'ArmedForces': {'Australia': 58000.0,\n",
    "  'China': 2695000.0,\n",
    "  'India': 3031000.0,\n",
    "  'Switzerland': 21000.0,\n",
    "  'Vietnam': 522000.0}})"
   ]
  },
  {
   "cell_type": "code",
   "execution_count": 46,
   "id": "04bff9b7-6627-4101-b8d7-1e38d6457d2a",
   "metadata": {
    "tags": []
   },
   "outputs": [
    {
     "data": {
      "text/html": [
       "<div>\n",
       "<style scoped>\n",
       "    .dataframe tbody tr th:only-of-type {\n",
       "        vertical-align: middle;\n",
       "    }\n",
       "\n",
       "    .dataframe tbody tr th {\n",
       "        vertical-align: top;\n",
       "    }\n",
       "\n",
       "    .dataframe thead th {\n",
       "        text-align: right;\n",
       "    }\n",
       "</style>\n",
       "<table border=\"1\" class=\"dataframe\">\n",
       "  <thead>\n",
       "    <tr style=\"text-align: right;\">\n",
       "      <th></th>\n",
       "      <th>NI-USDTrillion</th>\n",
       "      <th>AgriLand-sqkm-mm</th>\n",
       "      <th>Freight-mm-ton-km</th>\n",
       "      <th>AirPassengers(m)</th>\n",
       "      <th>ArableLandPct</th>\n",
       "      <th>ArableLandHect</th>\n",
       "      <th>ArmedForces</th>\n",
       "    </tr>\n",
       "  </thead>\n",
       "  <tbody>\n",
       "    <tr>\n",
       "      <th>Australia</th>\n",
       "      <td>1034.180</td>\n",
       "      <td>3.718370</td>\n",
       "      <td>1982.586171</td>\n",
       "      <td>74.257326</td>\n",
       "      <td>3.997910</td>\n",
       "      <td>30.752000</td>\n",
       "      <td>58000.0</td>\n",
       "    </tr>\n",
       "    <tr>\n",
       "      <th>China</th>\n",
       "      <td>10198.900</td>\n",
       "      <td>5.285311</td>\n",
       "      <td>23323.614700</td>\n",
       "      <td>551.234509</td>\n",
       "      <td>12.678503</td>\n",
       "      <td>119.491100</td>\n",
       "      <td>2695000.0</td>\n",
       "    </tr>\n",
       "    <tr>\n",
       "      <th>India</th>\n",
       "      <td>2322.050</td>\n",
       "      <td>1.796740</td>\n",
       "      <td>2407.098107</td>\n",
       "      <td>139.752424</td>\n",
       "      <td>52.608814</td>\n",
       "      <td>156.416000</td>\n",
       "      <td>3031000.0</td>\n",
       "    </tr>\n",
       "    <tr>\n",
       "      <th>Switzerland</th>\n",
       "      <td>519.097</td>\n",
       "      <td>0.015130</td>\n",
       "      <td>1581.352360</td>\n",
       "      <td>26.732570</td>\n",
       "      <td>10.076518</td>\n",
       "      <td>0.398184</td>\n",
       "      <td>21000.0</td>\n",
       "    </tr>\n",
       "    <tr>\n",
       "      <th>Vietnam</th>\n",
       "      <td>176.367</td>\n",
       "      <td>0.121688</td>\n",
       "      <td>453.349540</td>\n",
       "      <td>42.592762</td>\n",
       "      <td>22.537814</td>\n",
       "      <td>6.988300</td>\n",
       "      <td>522000.0</td>\n",
       "    </tr>\n",
       "  </tbody>\n",
       "</table>\n",
       "</div>"
      ],
      "text/plain": [
       "             NI-USDTrillion  AgriLand-sqkm-mm  Freight-mm-ton-km  \\\n",
       "Australia          1034.180          3.718370        1982.586171   \n",
       "China             10198.900          5.285311       23323.614700   \n",
       "India              2322.050          1.796740        2407.098107   \n",
       "Switzerland         519.097          0.015130        1581.352360   \n",
       "Vietnam             176.367          0.121688         453.349540   \n",
       "\n",
       "             AirPassengers(m)  ArableLandPct  ArableLandHect  ArmedForces  \n",
       "Australia           74.257326       3.997910       30.752000      58000.0  \n",
       "China              551.234509      12.678503      119.491100    2695000.0  \n",
       "India              139.752424      52.608814      156.416000    3031000.0  \n",
       "Switzerland         26.732570      10.076518        0.398184      21000.0  \n",
       "Vietnam             42.592762      22.537814        6.988300     522000.0  "
      ]
     },
     "execution_count": 46,
     "metadata": {},
     "output_type": "execute_result"
    }
   ],
   "source": [
    "df"
   ]
  },
  {
   "cell_type": "markdown",
   "id": "7428b941-20cb-4019-9db0-ed218efcd956",
   "metadata": {},
   "source": [
    "Consider the dataset above.  Some countries have very large numbers compared to the others.  Such observations can upset distance and other calculations in our models. \n",
    "\n",
    "How can we find countries whose profiles are 'similar' to each other?\n"
   ]
  },
  {
   "cell_type": "code",
   "execution_count": 47,
   "id": "72f3ee1d-c68b-4a1f-b07f-5e10da3a24f4",
   "metadata": {
    "tags": []
   },
   "outputs": [
    {
     "data": {
      "text/html": [
       "<div>\n",
       "<style scoped>\n",
       "    .dataframe tbody tr th:only-of-type {\n",
       "        vertical-align: middle;\n",
       "    }\n",
       "\n",
       "    .dataframe tbody tr th {\n",
       "        vertical-align: top;\n",
       "    }\n",
       "\n",
       "    .dataframe thead th {\n",
       "        text-align: right;\n",
       "    }\n",
       "</style>\n",
       "<table border=\"1\" class=\"dataframe\">\n",
       "  <thead>\n",
       "    <tr style=\"text-align: right;\">\n",
       "      <th></th>\n",
       "      <th>NI-USDTrillion</th>\n",
       "      <th>AgriLand-sqkm-mm</th>\n",
       "      <th>Freight-mm-ton-km</th>\n",
       "      <th>AirPassengers(m)</th>\n",
       "      <th>ArableLandPct</th>\n",
       "      <th>ArableLandHect</th>\n",
       "      <th>ArmedForces</th>\n",
       "    </tr>\n",
       "  </thead>\n",
       "  <tbody>\n",
       "    <tr>\n",
       "      <th>Australia</th>\n",
       "      <td>0.017817</td>\n",
       "      <td>6.406217e-05</td>\n",
       "      <td>0.034157</td>\n",
       "      <td>0.001279</td>\n",
       "      <td>0.000069</td>\n",
       "      <td>0.000530</td>\n",
       "      <td>0.999257</td>\n",
       "    </tr>\n",
       "    <tr>\n",
       "      <th>China</th>\n",
       "      <td>0.003784</td>\n",
       "      <td>1.961067e-06</td>\n",
       "      <td>0.008654</td>\n",
       "      <td>0.000205</td>\n",
       "      <td>0.000005</td>\n",
       "      <td>0.000044</td>\n",
       "      <td>0.999955</td>\n",
       "    </tr>\n",
       "    <tr>\n",
       "      <th>India</th>\n",
       "      <td>0.000766</td>\n",
       "      <td>5.927875e-07</td>\n",
       "      <td>0.000794</td>\n",
       "      <td>0.000046</td>\n",
       "      <td>0.000017</td>\n",
       "      <td>0.000052</td>\n",
       "      <td>0.999999</td>\n",
       "    </tr>\n",
       "    <tr>\n",
       "      <th>Switzerland</th>\n",
       "      <td>0.024642</td>\n",
       "      <td>7.182228e-07</td>\n",
       "      <td>0.075067</td>\n",
       "      <td>0.001269</td>\n",
       "      <td>0.000478</td>\n",
       "      <td>0.000019</td>\n",
       "      <td>0.996873</td>\n",
       "    </tr>\n",
       "    <tr>\n",
       "      <th>Vietnam</th>\n",
       "      <td>0.000338</td>\n",
       "      <td>2.331187e-07</td>\n",
       "      <td>0.000868</td>\n",
       "      <td>0.000082</td>\n",
       "      <td>0.000043</td>\n",
       "      <td>0.000013</td>\n",
       "      <td>1.000000</td>\n",
       "    </tr>\n",
       "  </tbody>\n",
       "</table>\n",
       "</div>"
      ],
      "text/plain": [
       "             NI-USDTrillion  AgriLand-sqkm-mm  Freight-mm-ton-km  \\\n",
       "Australia          0.017817      6.406217e-05           0.034157   \n",
       "China              0.003784      1.961067e-06           0.008654   \n",
       "India              0.000766      5.927875e-07           0.000794   \n",
       "Switzerland        0.024642      7.182228e-07           0.075067   \n",
       "Vietnam            0.000338      2.331187e-07           0.000868   \n",
       "\n",
       "             AirPassengers(m)  ArableLandPct  ArableLandHect  ArmedForces  \n",
       "Australia            0.001279       0.000069        0.000530     0.999257  \n",
       "China                0.000205       0.000005        0.000044     0.999955  \n",
       "India                0.000046       0.000017        0.000052     0.999999  \n",
       "Switzerland          0.001269       0.000478        0.000019     0.996873  \n",
       "Vietnam              0.000082       0.000043        0.000013     1.000000  "
      ]
     },
     "execution_count": 47,
     "metadata": {},
     "output_type": "execute_result"
    }
   ],
   "source": [
    "import sklearn.preprocessing as preproc\n",
    "df2 = pd.DataFrame(preproc.normalize(df), columns = df.columns, index= df.index) # At the row level\n",
    "df2"
   ]
  },
  {
   "cell_type": "code",
   "execution_count": 48,
   "id": "bcca5774-da17-408d-aded-3473c6129c4e",
   "metadata": {
    "tags": []
   },
   "outputs": [
    {
     "data": {
      "text/plain": [
       "Australia      1.0\n",
       "China          1.0\n",
       "India          1.0\n",
       "Switzerland    1.0\n",
       "Vietnam        1.0\n",
       "dtype: float64"
      ]
     },
     "execution_count": 48,
     "metadata": {},
     "output_type": "execute_result"
    }
   ],
   "source": [
    "(df2**2).sum(axis=1)"
   ]
  },
  {
   "cell_type": "code",
   "execution_count": 58,
   "id": "442b9a65-bd8f-4cdf-95f8-a63c89b51466",
   "metadata": {},
   "outputs": [
    {
     "data": {
      "text/html": [
       "<div>\n",
       "<style scoped>\n",
       "    .dataframe tbody tr th:only-of-type {\n",
       "        vertical-align: middle;\n",
       "    }\n",
       "\n",
       "    .dataframe tbody tr th {\n",
       "        vertical-align: top;\n",
       "    }\n",
       "\n",
       "    .dataframe thead th {\n",
       "        text-align: right;\n",
       "    }\n",
       "</style>\n",
       "<table border=\"1\" class=\"dataframe\">\n",
       "  <thead>\n",
       "    <tr style=\"text-align: right;\">\n",
       "      <th></th>\n",
       "      <th>Australia</th>\n",
       "      <th>China</th>\n",
       "      <th>India</th>\n",
       "      <th>Switzerland</th>\n",
       "      <th>Vietnam</th>\n",
       "    </tr>\n",
       "  </thead>\n",
       "  <tbody>\n",
       "    <tr>\n",
       "      <th>Australia</th>\n",
       "      <td>0.000000</td>\n",
       "      <td>0.029141</td>\n",
       "      <td>0.037499</td>\n",
       "      <td>0.041549</td>\n",
       "      <td>0.037629</td>\n",
       "    </tr>\n",
       "    <tr>\n",
       "      <th>China</th>\n",
       "      <td>0.029141</td>\n",
       "      <td>0.000000</td>\n",
       "      <td>0.008421</td>\n",
       "      <td>0.069689</td>\n",
       "      <td>0.008515</td>\n",
       "    </tr>\n",
       "    <tr>\n",
       "      <th>India</th>\n",
       "      <td>0.037499</td>\n",
       "      <td>0.008421</td>\n",
       "      <td>0.000000</td>\n",
       "      <td>0.078090</td>\n",
       "      <td>0.000439</td>\n",
       "    </tr>\n",
       "    <tr>\n",
       "      <th>Switzerland</th>\n",
       "      <td>0.041549</td>\n",
       "      <td>0.069689</td>\n",
       "      <td>0.078090</td>\n",
       "      <td>0.000000</td>\n",
       "      <td>0.078150</td>\n",
       "    </tr>\n",
       "    <tr>\n",
       "      <th>Vietnam</th>\n",
       "      <td>0.037629</td>\n",
       "      <td>0.008515</td>\n",
       "      <td>0.000439</td>\n",
       "      <td>0.078150</td>\n",
       "      <td>0.000000</td>\n",
       "    </tr>\n",
       "  </tbody>\n",
       "</table>\n",
       "</div>"
      ],
      "text/plain": [
       "             Australia     China     India  Switzerland   Vietnam\n",
       "Australia     0.000000  0.029141  0.037499     0.041549  0.037629\n",
       "China         0.029141  0.000000  0.008421     0.069689  0.008515\n",
       "India         0.037499  0.008421  0.000000     0.078090  0.000439\n",
       "Switzerland   0.041549  0.069689  0.078090     0.000000  0.078150\n",
       "Vietnam       0.037629  0.008515  0.000439     0.078150  0.000000"
      ]
     },
     "execution_count": 58,
     "metadata": {},
     "output_type": "execute_result"
    }
   ],
   "source": [
    "# Distances after L2-normalization\n",
    "from sklearn.metrics.pairwise import euclidean_distances\n",
    "pd.DataFrame(euclidean_distances(df2, df2), columns = df2.index, index = df2.index)"
   ]
  },
  {
   "cell_type": "code",
   "execution_count": 61,
   "id": "ba22df9b-5997-462e-978a-a4601134e1e1",
   "metadata": {},
   "outputs": [
    {
     "data": {
      "text/html": [
       "<div>\n",
       "<style scoped>\n",
       "    .dataframe tbody tr th:only-of-type {\n",
       "        vertical-align: middle;\n",
       "    }\n",
       "\n",
       "    .dataframe tbody tr th {\n",
       "        vertical-align: top;\n",
       "    }\n",
       "\n",
       "    .dataframe thead th {\n",
       "        text-align: right;\n",
       "    }\n",
       "</style>\n",
       "<table border=\"1\" class=\"dataframe\">\n",
       "  <thead>\n",
       "    <tr style=\"text-align: right;\">\n",
       "      <th></th>\n",
       "      <th>Australia</th>\n",
       "      <th>China</th>\n",
       "      <th>India</th>\n",
       "      <th>Switzerland</th>\n",
       "      <th>Vietnam</th>\n",
       "    </tr>\n",
       "  </thead>\n",
       "  <tbody>\n",
       "    <tr>\n",
       "      <th>Australia</th>\n",
       "      <td>0.0</td>\n",
       "      <td>2637102.0</td>\n",
       "      <td>2973000.0</td>\n",
       "      <td>37006.0</td>\n",
       "      <td>464003.0</td>\n",
       "    </tr>\n",
       "    <tr>\n",
       "      <th>China</th>\n",
       "      <td>2637102.0</td>\n",
       "      <td>0.0</td>\n",
       "      <td>336743.0</td>\n",
       "      <td>2674106.0</td>\n",
       "      <td>2173144.0</td>\n",
       "    </tr>\n",
       "    <tr>\n",
       "      <th>India</th>\n",
       "      <td>2973000.0</td>\n",
       "      <td>336743.0</td>\n",
       "      <td>0.0</td>\n",
       "      <td>3010001.0</td>\n",
       "      <td>2509002.0</td>\n",
       "    </tr>\n",
       "    <tr>\n",
       "      <th>Switzerland</th>\n",
       "      <td>37006.0</td>\n",
       "      <td>2674106.0</td>\n",
       "      <td>3010001.0</td>\n",
       "      <td>0.0</td>\n",
       "      <td>501001.0</td>\n",
       "    </tr>\n",
       "    <tr>\n",
       "      <th>Vietnam</th>\n",
       "      <td>464003.0</td>\n",
       "      <td>2173144.0</td>\n",
       "      <td>2509002.0</td>\n",
       "      <td>501001.0</td>\n",
       "      <td>0.0</td>\n",
       "    </tr>\n",
       "  </tbody>\n",
       "</table>\n",
       "</div>"
      ],
      "text/plain": [
       "             Australia      China      India  Switzerland    Vietnam\n",
       "Australia          0.0  2637102.0  2973000.0      37006.0   464003.0\n",
       "China        2637102.0        0.0   336743.0    2674106.0  2173144.0\n",
       "India        2973000.0   336743.0        0.0    3010001.0  2509002.0\n",
       "Switzerland    37006.0  2674106.0  3010001.0          0.0   501001.0\n",
       "Vietnam       464003.0  2173144.0  2509002.0     501001.0        0.0"
      ]
     },
     "execution_count": 61,
     "metadata": {},
     "output_type": "execute_result"
    }
   ],
   "source": [
    "# Distances before L2-normalization\n",
    "from sklearn.metrics.pairwise import euclidean_distances\n",
    "pd.DataFrame(euclidean_distances(df, df), columns = df2.index, index = df2.index).round(0)"
   ]
  },
  {
   "cell_type": "markdown",
   "id": "3fea1a80-5e30-4089-9374-fd5173736c1d",
   "metadata": {},
   "source": [
    "### Inversing a transform\n",
    "\n",
    "The opposite of fit_transform is `inverse_transform`.  \n",
    "\n",
    "Example:  We standardize prices, and reverse the process to get back the original prices.  \n",
    "\n",
    "Normally you will not need to do this as long as the target variable has not been transformed.  \n"
   ]
  },
  {
   "cell_type": "code",
   "execution_count": 62,
   "id": "77512e89-cc22-4008-a33e-9fb405dddffc",
   "metadata": {
    "tags": []
   },
   "outputs": [
    {
     "name": "stdout",
     "output_type": "stream",
     "text": [
      "Original diamond prices (first 4 only)\n",
      "0    326\n",
      "1    326\n",
      "2    327\n",
      "3    334\n",
      "Name: price, dtype: int64\n",
      "\n",
      "\n",
      "Standardized prices\n",
      "0   -0.904095\n",
      "1   -0.904095\n",
      "2   -0.903844\n",
      "3   -0.902090\n",
      "Name: standardized, dtype: float64\n",
      "\n",
      "\n",
      "Reconstructed prices by un-scaling the standardized prices:\n",
      "[[326.]\n",
      " [326.]\n",
      " [327.]\n",
      " [334.]]\n"
     ]
    }
   ],
   "source": [
    "diamonds = sns.load_dataset('diamonds')\n",
    "print('Original diamond prices (first 4 only)')\n",
    "print(diamonds['price'][:4])\n",
    "scaler = preproc.StandardScaler()\n",
    "diamonds['standardized'] = scaler.fit_transform(diamonds[['price']])\n",
    "print('\\n\\nStandardized prices')\n",
    "print(diamonds['standardized'][:4])\n",
    "print('\\n\\nReconstructed prices by un-scaling the standardized prices:')\n",
    "print(scaler.inverse_transform(diamonds['standardized'][:4].values.reshape(-1, 1)))"
   ]
  },
  {
   "cell_type": "markdown",
   "id": "6357d556-d164-483a-92cd-069581b18bb6",
   "metadata": {},
   "source": [
    "## Categorical to Numeric\n",
    "\n",
    "A lot of data we will encounter as inputs to our modeling process will be categorical, for example, country names, species, gender, county etc.  While we humans can make sense of this, algorithms can only consume numerical data.  We will next look at a few ways of converting categorical data to numerical information.  Conceptually, all of these methods rely on one of two ideas:\n",
    "\n",
    "1. One-hot: Create a separate column for every single category, and populate it with either a 0 or a 1, or\n",
    "2. Label encoding: Call the category values as numbers, eg, High=3, Medium=2, Low=1 etc.  \n",
    "\n",
    "### One hot encoding  \n",
    "\n",
    "- Categorical variables represent categories, or labels.\n",
    "  - Cardinal/Nonordinal categories: For example, names of species, countries, industry, gender etc.  No natural order, and < or > relationships do not apply\n",
    "  - Ordinal categories: For example, High, Medium, Low (where High > Medium > Low), or XL, L, M, S\n",
    "- Most ML/AI algorithms cannot deal with categorical variables on their own, and require categories to be converted to numerical arrays.\n",
    "- One-hot encoding is often used to convert categories to numbers.\n",
    "  - Variations include dropping the first category, and effect encoding.\n",
    "\n",
    "\n",
    "One hot encoding creates a column with a 1 or 0 for each category label.  \n"
   ]
  },
  {
   "cell_type": "code",
   "execution_count": 63,
   "id": "586b1c38-ff5b-4a02-a08a-85a993b2bf99",
   "metadata": {
    "tags": []
   },
   "outputs": [
    {
     "data": {
      "text/html": [
       "<div>\n",
       "<style scoped>\n",
       "    .dataframe tbody tr th:only-of-type {\n",
       "        vertical-align: middle;\n",
       "    }\n",
       "\n",
       "    .dataframe tbody tr th {\n",
       "        vertical-align: top;\n",
       "    }\n",
       "\n",
       "    .dataframe thead th {\n",
       "        text-align: right;\n",
       "    }\n",
       "</style>\n",
       "<table border=\"1\" class=\"dataframe\">\n",
       "  <thead>\n",
       "    <tr style=\"text-align: right;\">\n",
       "      <th></th>\n",
       "      <th>fruit</th>\n",
       "      <th>weight_gm</th>\n",
       "      <th>price</th>\n",
       "    </tr>\n",
       "  </thead>\n",
       "  <tbody>\n",
       "    <tr>\n",
       "      <th>0</th>\n",
       "      <td>apple</td>\n",
       "      <td>120</td>\n",
       "      <td>0.25</td>\n",
       "    </tr>\n",
       "    <tr>\n",
       "      <th>1</th>\n",
       "      <td>banana</td>\n",
       "      <td>100</td>\n",
       "      <td>0.18</td>\n",
       "    </tr>\n",
       "    <tr>\n",
       "      <th>2</th>\n",
       "      <td>pear</td>\n",
       "      <td>104</td>\n",
       "      <td>0.87</td>\n",
       "    </tr>\n",
       "    <tr>\n",
       "      <th>3</th>\n",
       "      <td>pear</td>\n",
       "      <td>60</td>\n",
       "      <td>0.09</td>\n",
       "    </tr>\n",
       "    <tr>\n",
       "      <th>4</th>\n",
       "      <td>apple</td>\n",
       "      <td>98</td>\n",
       "      <td>1.02</td>\n",
       "    </tr>\n",
       "    <tr>\n",
       "      <th>5</th>\n",
       "      <td>apple</td>\n",
       "      <td>119</td>\n",
       "      <td>0.63</td>\n",
       "    </tr>\n",
       "  </tbody>\n",
       "</table>\n",
       "</div>"
      ],
      "text/plain": [
       "    fruit  weight_gm  price\n",
       "0   apple        120   0.25\n",
       "1  banana        100   0.18\n",
       "2    pear        104   0.87\n",
       "3    pear         60   0.09\n",
       "4   apple         98   1.02\n",
       "5   apple        119   0.63"
      ]
     },
     "execution_count": 63,
     "metadata": {},
     "output_type": "execute_result"
    }
   ],
   "source": [
    "df = pd.DataFrame({'fruit': \n",
    "                   ['apple', 'banana', 'pear', \n",
    "                    'pear', 'apple', 'apple'],\n",
    "                  'weight_gm':[120,100,104,60,98,119],\n",
    "                  'price':[0.25, 0.18, 0.87, 0.09, 1.02,.63]})\n",
    "df"
   ]
  },
  {
   "cell_type": "code",
   "execution_count": 64,
   "id": "3b1bf7bd-99d6-4788-9a23-aa73c0f3c9a0",
   "metadata": {
    "tags": []
   },
   "outputs": [
    {
     "data": {
      "text/html": [
       "<div>\n",
       "<style scoped>\n",
       "    .dataframe tbody tr th:only-of-type {\n",
       "        vertical-align: middle;\n",
       "    }\n",
       "\n",
       "    .dataframe tbody tr th {\n",
       "        vertical-align: top;\n",
       "    }\n",
       "\n",
       "    .dataframe thead th {\n",
       "        text-align: right;\n",
       "    }\n",
       "</style>\n",
       "<table border=\"1\" class=\"dataframe\">\n",
       "  <thead>\n",
       "    <tr style=\"text-align: right;\">\n",
       "      <th></th>\n",
       "      <th>weight_gm</th>\n",
       "      <th>price</th>\n",
       "      <th>fruit_apple</th>\n",
       "      <th>fruit_banana</th>\n",
       "      <th>fruit_pear</th>\n",
       "    </tr>\n",
       "  </thead>\n",
       "  <tbody>\n",
       "    <tr>\n",
       "      <th>0</th>\n",
       "      <td>120</td>\n",
       "      <td>0.25</td>\n",
       "      <td>True</td>\n",
       "      <td>False</td>\n",
       "      <td>False</td>\n",
       "    </tr>\n",
       "    <tr>\n",
       "      <th>1</th>\n",
       "      <td>100</td>\n",
       "      <td>0.18</td>\n",
       "      <td>False</td>\n",
       "      <td>True</td>\n",
       "      <td>False</td>\n",
       "    </tr>\n",
       "    <tr>\n",
       "      <th>2</th>\n",
       "      <td>104</td>\n",
       "      <td>0.87</td>\n",
       "      <td>False</td>\n",
       "      <td>False</td>\n",
       "      <td>True</td>\n",
       "    </tr>\n",
       "    <tr>\n",
       "      <th>3</th>\n",
       "      <td>60</td>\n",
       "      <td>0.09</td>\n",
       "      <td>False</td>\n",
       "      <td>False</td>\n",
       "      <td>True</td>\n",
       "    </tr>\n",
       "    <tr>\n",
       "      <th>4</th>\n",
       "      <td>98</td>\n",
       "      <td>1.02</td>\n",
       "      <td>True</td>\n",
       "      <td>False</td>\n",
       "      <td>False</td>\n",
       "    </tr>\n",
       "    <tr>\n",
       "      <th>5</th>\n",
       "      <td>119</td>\n",
       "      <td>0.63</td>\n",
       "      <td>True</td>\n",
       "      <td>False</td>\n",
       "      <td>False</td>\n",
       "    </tr>\n",
       "  </tbody>\n",
       "</table>\n",
       "</div>"
      ],
      "text/plain": [
       "   weight_gm  price  fruit_apple  fruit_banana  fruit_pear\n",
       "0        120   0.25         True         False       False\n",
       "1        100   0.18        False          True       False\n",
       "2        104   0.87        False         False        True\n",
       "3         60   0.09        False         False        True\n",
       "4         98   1.02         True         False       False\n",
       "5        119   0.63         True         False       False"
      ]
     },
     "execution_count": 64,
     "metadata": {},
     "output_type": "execute_result"
    }
   ],
   "source": [
    "pd.get_dummies(df)"
   ]
  },
  {
   "cell_type": "markdown",
   "id": "b9956c6c-70fd-4bd7-8ae7-097126477c29",
   "metadata": {},
   "source": [
    "You only really need $k-1$ columns to encode $k$ categories.\n",
    "The all-zeros vector represents the first category, called in this case the ‘reference category’.\n",
    "\n",
    "One hot encoding can be challenging to use if there are more than a handful of categories.  We can do this in pandas using the parameter `drop_first=True`.\n"
   ]
  },
  {
   "cell_type": "code",
   "execution_count": 65,
   "id": "634f83fe-ed6a-4323-a618-8dd8848d8df1",
   "metadata": {
    "tags": []
   },
   "outputs": [
    {
     "data": {
      "text/html": [
       "<div>\n",
       "<style scoped>\n",
       "    .dataframe tbody tr th:only-of-type {\n",
       "        vertical-align: middle;\n",
       "    }\n",
       "\n",
       "    .dataframe tbody tr th {\n",
       "        vertical-align: top;\n",
       "    }\n",
       "\n",
       "    .dataframe thead th {\n",
       "        text-align: right;\n",
       "    }\n",
       "</style>\n",
       "<table border=\"1\" class=\"dataframe\">\n",
       "  <thead>\n",
       "    <tr style=\"text-align: right;\">\n",
       "      <th></th>\n",
       "      <th>weight_gm</th>\n",
       "      <th>price</th>\n",
       "      <th>fruit_banana</th>\n",
       "      <th>fruit_pear</th>\n",
       "    </tr>\n",
       "  </thead>\n",
       "  <tbody>\n",
       "    <tr>\n",
       "      <th>0</th>\n",
       "      <td>120</td>\n",
       "      <td>0.25</td>\n",
       "      <td>False</td>\n",
       "      <td>False</td>\n",
       "    </tr>\n",
       "    <tr>\n",
       "      <th>1</th>\n",
       "      <td>100</td>\n",
       "      <td>0.18</td>\n",
       "      <td>True</td>\n",
       "      <td>False</td>\n",
       "    </tr>\n",
       "    <tr>\n",
       "      <th>2</th>\n",
       "      <td>104</td>\n",
       "      <td>0.87</td>\n",
       "      <td>False</td>\n",
       "      <td>True</td>\n",
       "    </tr>\n",
       "    <tr>\n",
       "      <th>3</th>\n",
       "      <td>60</td>\n",
       "      <td>0.09</td>\n",
       "      <td>False</td>\n",
       "      <td>True</td>\n",
       "    </tr>\n",
       "    <tr>\n",
       "      <th>4</th>\n",
       "      <td>98</td>\n",
       "      <td>1.02</td>\n",
       "      <td>False</td>\n",
       "      <td>False</td>\n",
       "    </tr>\n",
       "    <tr>\n",
       "      <th>5</th>\n",
       "      <td>119</td>\n",
       "      <td>0.63</td>\n",
       "      <td>False</td>\n",
       "      <td>False</td>\n",
       "    </tr>\n",
       "  </tbody>\n",
       "</table>\n",
       "</div>"
      ],
      "text/plain": [
       "   weight_gm  price  fruit_banana  fruit_pear\n",
       "0        120   0.25         False       False\n",
       "1        100   0.18          True       False\n",
       "2        104   0.87         False        True\n",
       "3         60   0.09         False        True\n",
       "4         98   1.02         False       False\n",
       "5        119   0.63         False       False"
      ]
     },
     "execution_count": 65,
     "metadata": {},
     "output_type": "execute_result"
    }
   ],
   "source": [
    "pd.get_dummies(df, drop_first=True)"
   ]
  },
  {
   "cell_type": "markdown",
   "id": "488e3006-6779-49d7-87f9-23e29453e406",
   "metadata": {},
   "source": [
    "### Label encoding\n",
    "\n",
    "What we saw with get_dummies would work for input variables (as most models will accommodate more columns), but how do we deal with target variables that are categorical?  \n",
    "\n",
    "This can become an issue as most ML algorithms expect a single column target variable.  \n",
    "\n",
    "In such situations, we can assign numbers to different categories, eg,  \n",
    "0 = apple,  \n",
    "1 = banana,  \n",
    "2 = pear etc.!  \n",
    "\n",
    "Original data is transformed into labels that are classes named as 0, 1"
   ]
  },
  {
   "cell_type": "code",
   "execution_count": 66,
   "id": "912a36d7-95c4-40df-9cdc-bff32e29521d",
   "metadata": {
    "tags": []
   },
   "outputs": [
    {
     "data": {
      "text/html": [
       "<div>\n",
       "<style scoped>\n",
       "    .dataframe tbody tr th:only-of-type {\n",
       "        vertical-align: middle;\n",
       "    }\n",
       "\n",
       "    .dataframe tbody tr th {\n",
       "        vertical-align: top;\n",
       "    }\n",
       "\n",
       "    .dataframe thead th {\n",
       "        text-align: right;\n",
       "    }\n",
       "</style>\n",
       "<table border=\"1\" class=\"dataframe\">\n",
       "  <thead>\n",
       "    <tr style=\"text-align: right;\">\n",
       "      <th></th>\n",
       "      <th>fruit</th>\n",
       "      <th>weight_gm</th>\n",
       "      <th>price</th>\n",
       "    </tr>\n",
       "  </thead>\n",
       "  <tbody>\n",
       "    <tr>\n",
       "      <th>0</th>\n",
       "      <td>apple</td>\n",
       "      <td>120</td>\n",
       "      <td>0.25</td>\n",
       "    </tr>\n",
       "    <tr>\n",
       "      <th>1</th>\n",
       "      <td>banana</td>\n",
       "      <td>100</td>\n",
       "      <td>0.18</td>\n",
       "    </tr>\n",
       "    <tr>\n",
       "      <th>2</th>\n",
       "      <td>pear</td>\n",
       "      <td>104</td>\n",
       "      <td>0.87</td>\n",
       "    </tr>\n",
       "    <tr>\n",
       "      <th>3</th>\n",
       "      <td>pear</td>\n",
       "      <td>60</td>\n",
       "      <td>0.09</td>\n",
       "    </tr>\n",
       "    <tr>\n",
       "      <th>4</th>\n",
       "      <td>apple</td>\n",
       "      <td>98</td>\n",
       "      <td>1.02</td>\n",
       "    </tr>\n",
       "    <tr>\n",
       "      <th>5</th>\n",
       "      <td>apple</td>\n",
       "      <td>119</td>\n",
       "      <td>0.63</td>\n",
       "    </tr>\n",
       "  </tbody>\n",
       "</table>\n",
       "</div>"
      ],
      "text/plain": [
       "    fruit  weight_gm  price\n",
       "0   apple        120   0.25\n",
       "1  banana        100   0.18\n",
       "2    pear        104   0.87\n",
       "3    pear         60   0.09\n",
       "4   apple         98   1.02\n",
       "5   apple        119   0.63"
      ]
     },
     "execution_count": 66,
     "metadata": {},
     "output_type": "execute_result"
    }
   ],
   "source": [
    "df"
   ]
  },
  {
   "cell_type": "markdown",
   "id": "4ddc5279-ef6b-4e94-998f-afb8d96817c7",
   "metadata": {},
   "source": [
    "For multiclass classification problems for neural nets, a slightly different label encoding scheme is desired.  \n",
    "\n",
    "We use tensorflow’s `to_categorical` function on the encoded labels (not on the raw labels!). The function converts a class vector (integers) to binary class matrix.  \n",
    "\n",
    "This is similar to `get_dummies()` from pandas.  \n",
    "\n"
   ]
  },
  {
   "cell_type": "code",
   "execution_count": 67,
   "id": "54029e19-a7a9-468a-98f6-43feb43a0cf2",
   "metadata": {
    "tags": []
   },
   "outputs": [
    {
     "data": {
      "text/html": [
       "<div>\n",
       "<style scoped>\n",
       "    .dataframe tbody tr th:only-of-type {\n",
       "        vertical-align: middle;\n",
       "    }\n",
       "\n",
       "    .dataframe tbody tr th {\n",
       "        vertical-align: top;\n",
       "    }\n",
       "\n",
       "    .dataframe thead th {\n",
       "        text-align: right;\n",
       "    }\n",
       "</style>\n",
       "<table border=\"1\" class=\"dataframe\">\n",
       "  <thead>\n",
       "    <tr style=\"text-align: right;\">\n",
       "      <th></th>\n",
       "      <th>fruit</th>\n",
       "      <th>weight_gm</th>\n",
       "      <th>price</th>\n",
       "      <th>encoded_labels</th>\n",
       "    </tr>\n",
       "  </thead>\n",
       "  <tbody>\n",
       "    <tr>\n",
       "      <th>0</th>\n",
       "      <td>apple</td>\n",
       "      <td>120</td>\n",
       "      <td>0.25</td>\n",
       "      <td>0</td>\n",
       "    </tr>\n",
       "    <tr>\n",
       "      <th>1</th>\n",
       "      <td>banana</td>\n",
       "      <td>100</td>\n",
       "      <td>0.18</td>\n",
       "      <td>1</td>\n",
       "    </tr>\n",
       "    <tr>\n",
       "      <th>2</th>\n",
       "      <td>pear</td>\n",
       "      <td>104</td>\n",
       "      <td>0.87</td>\n",
       "      <td>2</td>\n",
       "    </tr>\n",
       "    <tr>\n",
       "      <th>3</th>\n",
       "      <td>pear</td>\n",
       "      <td>60</td>\n",
       "      <td>0.09</td>\n",
       "      <td>2</td>\n",
       "    </tr>\n",
       "    <tr>\n",
       "      <th>4</th>\n",
       "      <td>apple</td>\n",
       "      <td>98</td>\n",
       "      <td>1.02</td>\n",
       "      <td>0</td>\n",
       "    </tr>\n",
       "    <tr>\n",
       "      <th>5</th>\n",
       "      <td>apple</td>\n",
       "      <td>119</td>\n",
       "      <td>0.63</td>\n",
       "      <td>0</td>\n",
       "    </tr>\n",
       "  </tbody>\n",
       "</table>\n",
       "</div>"
      ],
      "text/plain": [
       "    fruit  weight_gm  price  encoded_labels\n",
       "0   apple        120   0.25               0\n",
       "1  banana        100   0.18               1\n",
       "2    pear        104   0.87               2\n",
       "3    pear         60   0.09               2\n",
       "4   apple         98   1.02               0\n",
       "5   apple        119   0.63               0"
      ]
     },
     "execution_count": 67,
     "metadata": {},
     "output_type": "execute_result"
    }
   ],
   "source": [
    "from sklearn.preprocessing import LabelEncoder\n",
    "le = LabelEncoder()\n",
    "encoded_labels = le.fit_transform(df['fruit'].values.ravel()) # This needs a 1D array\n",
    "df['encoded_labels'] = encoded_labels\n",
    "df"
   ]
  },
  {
   "cell_type": "code",
   "execution_count": 68,
   "id": "bb925d5f-dceb-4584-9454-1266524cd0db",
   "metadata": {
    "tags": []
   },
   "outputs": [
    {
     "data": {
      "text/plain": [
       "{0: 'apple', 1: 'banana', 2: 'pear'}"
      ]
     },
     "execution_count": 68,
     "metadata": {},
     "output_type": "execute_result"
    }
   ],
   "source": [
    "# Enumerate Encoded Classes\n",
    "dict(list(enumerate(le.classes_)))"
   ]
  },
  {
   "cell_type": "code",
   "execution_count": 69,
   "id": "667d8fe0-c438-419c-a8ed-0ad7529e8137",
   "metadata": {
    "tags": []
   },
   "outputs": [
    {
     "data": {
      "text/plain": [
       "array([[1., 0., 0.],\n",
       "       [0., 1., 0.],\n",
       "       [0., 0., 1.],\n",
       "       [0., 0., 1.],\n",
       "       [1., 0., 0.],\n",
       "       [1., 0., 0.]], dtype=float32)"
      ]
     },
     "execution_count": 69,
     "metadata": {},
     "output_type": "execute_result"
    }
   ],
   "source": [
    "from tensorflow.keras.utils import to_categorical\n",
    "to_categorical(encoded_labels)"
   ]
  },
  {
   "cell_type": "code",
   "execution_count": null,
   "id": "06f02261-4a3d-4048-a0cd-b403448ef309",
   "metadata": {},
   "outputs": [],
   "source": []
  },
  {
   "cell_type": "markdown",
   "id": "ce78b2ad-df7d-4510-b5a6-86aaca7dfeec",
   "metadata": {},
   "source": [
    "***\n",
    "Next, we look at some of the commonly used functions used for converting categories to numbers.  \n",
    "\n",
    "**OneHotEncoder**  \n",
    "Used for X variables.  Can convert multiple columns to one hot format directly from categorical text. Directly takes an array as an input. "
   ]
  },
  {
   "cell_type": "code",
   "execution_count": 70,
   "id": "b318bc9d-61a1-47a0-b0ac-898dc3f2e4a1",
   "metadata": {
    "tags": []
   },
   "outputs": [],
   "source": [
    "from sklearn.preprocessing import OneHotEncoder\n",
    "from sklearn.preprocessing import LabelEncoder\n",
    "from sklearn.preprocessing import LabelBinarizer\n",
    "from sklearn.preprocessing import MultiLabelBinarizer"
   ]
  },
  {
   "cell_type": "code",
   "execution_count": 71,
   "id": "4d6f4a62-49a2-43fc-b227-877ab1989d65",
   "metadata": {
    "tags": []
   },
   "outputs": [
    {
     "data": {
      "text/html": [
       "<div>\n",
       "<style scoped>\n",
       "    .dataframe tbody tr th:only-of-type {\n",
       "        vertical-align: middle;\n",
       "    }\n",
       "\n",
       "    .dataframe tbody tr th {\n",
       "        vertical-align: top;\n",
       "    }\n",
       "\n",
       "    .dataframe thead th {\n",
       "        text-align: right;\n",
       "    }\n",
       "</style>\n",
       "<table border=\"1\" class=\"dataframe\">\n",
       "  <thead>\n",
       "    <tr style=\"text-align: right;\">\n",
       "      <th></th>\n",
       "      <th>fruit</th>\n",
       "    </tr>\n",
       "  </thead>\n",
       "  <tbody>\n",
       "    <tr>\n",
       "      <th>0</th>\n",
       "      <td>apple</td>\n",
       "    </tr>\n",
       "    <tr>\n",
       "      <th>1</th>\n",
       "      <td>banana</td>\n",
       "    </tr>\n",
       "    <tr>\n",
       "      <th>2</th>\n",
       "      <td>pear</td>\n",
       "    </tr>\n",
       "    <tr>\n",
       "      <th>3</th>\n",
       "      <td>pear</td>\n",
       "    </tr>\n",
       "    <tr>\n",
       "      <th>4</th>\n",
       "      <td>apple</td>\n",
       "    </tr>\n",
       "    <tr>\n",
       "      <th>5</th>\n",
       "      <td>apple</td>\n",
       "    </tr>\n",
       "  </tbody>\n",
       "</table>\n",
       "</div>"
      ],
      "text/plain": [
       "    fruit\n",
       "0   apple\n",
       "1  banana\n",
       "2    pear\n",
       "3    pear\n",
       "4   apple\n",
       "5   apple"
      ]
     },
     "execution_count": 71,
     "metadata": {},
     "output_type": "execute_result"
    }
   ],
   "source": [
    "values = df[['fruit']]\n",
    "values"
   ]
  },
  {
   "cell_type": "code",
   "execution_count": 72,
   "id": "2cf58030-8103-4d2f-a4ee-12b23266b30d",
   "metadata": {
    "tags": []
   },
   "outputs": [
    {
     "data": {
      "text/plain": [
       "array([[1., 0., 0.],\n",
       "       [0., 1., 0.],\n",
       "       [0., 0., 1.],\n",
       "       [0., 0., 1.],\n",
       "       [1., 0., 0.],\n",
       "       [1., 0., 0.]])"
      ]
     },
     "execution_count": 72,
     "metadata": {},
     "output_type": "execute_result"
    }
   ],
   "source": [
    "oh = OneHotEncoder(sparse_output=False)\n",
    "myonehot = oh.fit_transform(values)\n",
    "myonehot\n"
   ]
  },
  {
   "cell_type": "markdown",
   "id": "3a3b679b-54bd-4d02-b372-b4e7484a930d",
   "metadata": {},
   "source": [
    "***\n",
    "**LabelEncoder**  \n",
    "Used for Y variables - this doesn't give you one-hot encoding, but gives you integer encoding."
   ]
  },
  {
   "cell_type": "code",
   "execution_count": 74,
   "id": "648b9eb1-60a3-4cfd-a56a-67468ed2e553",
   "metadata": {
    "tags": []
   },
   "outputs": [
    {
     "name": "stdout",
     "output_type": "stream",
     "text": [
      "Now int has integers, type is  <class 'numpy.ndarray'>\n",
      "int shape:  (6,)\n"
     ]
    },
    {
     "data": {
      "text/plain": [
       "array([0, 1, 2, 2, 0, 0])"
      ]
     },
     "execution_count": 74,
     "metadata": {},
     "output_type": "execute_result"
    }
   ],
   "source": [
    "le = LabelEncoder()\n",
    "int = le.fit_transform(values.fruit) # This needs a 1D arrary\n",
    "print(\"Now int has integers, type is \", type(int))\n",
    "print('int shape: ', int.shape)\n",
    "int"
   ]
  },
  {
   "cell_type": "markdown",
   "id": "4281bbc0-bd27-468a-a987-0767bc11adc9",
   "metadata": {},
   "source": [
    "***  \n",
    "**LabelBinarizer**  \n",
    "Used for Y variables - produces one-hot encoding for Y variables.  Each observation belongs to one and only one class."
   ]
  },
  {
   "cell_type": "code",
   "execution_count": 75,
   "id": "f4b51107-4812-4e91-9823-4a5dd555e82b",
   "metadata": {
    "tags": []
   },
   "outputs": [
    {
     "name": "stdout",
     "output_type": "stream",
     "text": [
      "   apple  banana  pear\n",
      "0      1       0     0\n",
      "1      0       1     0\n",
      "2      0       0     1\n",
      "3      0       0     1\n",
      "4      1       0     0\n",
      "5      1       0     0\n",
      "\n",
      " \n",
      "\n",
      "[[1 0 0]\n",
      " [0 1 0]\n",
      " [0 0 1]\n",
      " [0 0 1]\n",
      " [1 0 0]\n",
      " [1 0 0]]\n"
     ]
    }
   ],
   "source": [
    "lb = LabelBinarizer()\n",
    "myonehot = lb.fit_transform(values) \n",
    "my1hot_df = pd.DataFrame(lb.fit_transform(values), columns=lb.classes_)\n",
    "print(my1hot_df)\n",
    "print('\\n \\n')\n",
    "print(myonehot)"
   ]
  },
  {
   "cell_type": "markdown",
   "id": "c7e677b3-df54-4237-ae4f-c60938c15d8c",
   "metadata": {},
   "source": [
    "***\n",
    "**MultiLabelBinarizer**: This is used when an observation can belong to multiple labels"
   ]
  },
  {
   "cell_type": "code",
   "execution_count": 76,
   "id": "ff234c9c-5e75-40f3-8670-e2375ba7b69e",
   "metadata": {},
   "outputs": [],
   "source": [
    "df = pd.DataFrame({\"genre\": [[\"action\", \"drama\",\"fantasy\"], \\\n",
    "                             [\"fantasy\",\"action\"], [\"drama\"], \n",
    "                             [\"sci-fi\", \"drama\"]]})"
   ]
  },
  {
   "cell_type": "code",
   "execution_count": 77,
   "id": "8d10df14-0db2-47be-a35e-6a2ca9d7a5a3",
   "metadata": {},
   "outputs": [
    {
     "data": {
      "text/html": [
       "<div>\n",
       "<style scoped>\n",
       "    .dataframe tbody tr th:only-of-type {\n",
       "        vertical-align: middle;\n",
       "    }\n",
       "\n",
       "    .dataframe tbody tr th {\n",
       "        vertical-align: top;\n",
       "    }\n",
       "\n",
       "    .dataframe thead th {\n",
       "        text-align: right;\n",
       "    }\n",
       "</style>\n",
       "<table border=\"1\" class=\"dataframe\">\n",
       "  <thead>\n",
       "    <tr style=\"text-align: right;\">\n",
       "      <th></th>\n",
       "      <th>genre</th>\n",
       "    </tr>\n",
       "  </thead>\n",
       "  <tbody>\n",
       "    <tr>\n",
       "      <th>0</th>\n",
       "      <td>[action, drama, fantasy]</td>\n",
       "    </tr>\n",
       "    <tr>\n",
       "      <th>1</th>\n",
       "      <td>[fantasy, action]</td>\n",
       "    </tr>\n",
       "    <tr>\n",
       "      <th>2</th>\n",
       "      <td>[drama]</td>\n",
       "    </tr>\n",
       "    <tr>\n",
       "      <th>3</th>\n",
       "      <td>[sci-fi, drama]</td>\n",
       "    </tr>\n",
       "  </tbody>\n",
       "</table>\n",
       "</div>"
      ],
      "text/plain": [
       "                      genre\n",
       "0  [action, drama, fantasy]\n",
       "1         [fantasy, action]\n",
       "2                   [drama]\n",
       "3           [sci-fi, drama]"
      ]
     },
     "execution_count": 77,
     "metadata": {},
     "output_type": "execute_result"
    }
   ],
   "source": [
    "df"
   ]
  },
  {
   "cell_type": "code",
   "execution_count": 78,
   "id": "a9aed707-81c4-4898-a6cb-91b8175d8232",
   "metadata": {},
   "outputs": [
    {
     "name": "stdout",
     "output_type": "stream",
     "text": [
      "mlb.classes \n",
      " ['action' 'drama' 'fantasy' 'sci-fi'] \n",
      "\n",
      "\n",
      "my1hot_df \n",
      "    action  drama  fantasy  sci-fi\n",
      "0       1      1        1       0\n",
      "1       1      0        1       0\n",
      "2       0      1        0       0\n",
      "3       0      1        0       1 \n",
      "\n",
      "\n",
      "myonehot \n",
      " [[1 1 1 0]\n",
      " [1 0 1 0]\n",
      " [0 1 0 0]\n",
      " [0 1 0 1]] \n",
      "\n",
      "\n"
     ]
    }
   ],
   "source": [
    "mlb = MultiLabelBinarizer()\n",
    "myonehot = mlb.fit_transform(df['genre'])\n",
    "my1hot_df = pd.DataFrame(mlb.fit_transform(df['genre']), columns=mlb.classes_)\n",
    "print('mlb.classes \\n',mlb.classes_, '\\n\\n')\n",
    "print('my1hot_df \\n', my1hot_df, '\\n\\n')\n",
    "print('myonehot \\n', myonehot, '\\n\\n')"
   ]
  },
  {
   "cell_type": "markdown",
   "id": "2f4f36ec-3173-400b-9860-1568e82424c5",
   "metadata": {},
   "source": [
    "## Imbalanced classes\n",
    "\n",
    "Imbalanced data is data for classification problems where the observations are not equally distributed (or roughly so) across the different classes.  An imbalanced data set is one with skewed class proportions.  \n",
    "\n",
    "As a result, many algorithms underperform as they do not get to learn the underrepresented class, which is often the one of interest.  \n",
    "\n",
    "Example: a dataset for disease prediction has <1% of the observations which are positive for the disease.  \n",
    "\n",
    "There is no precise definition of when a dataset should be considered imbalanced, but as a rule of thumb it is something to be concerned about if less than 20% of the observations belong to one class in a binary classification problem.  \n",
    "\n",
    "Approaches to addressing the problem of imbalanced data focus on doing something that improves the ratio of the underrepresented category in the dataset.  \n",
    "\n",
    "This can be done in two ways:  \n",
    " - Reduce observations in the majority class  \n",
    " - Increase observations for the minority class  \n",
    "\n",
    "Let us see next how this can be done.  \n",
    "\n",
    "**Old Faithful Dataset**  \n",
    "\n",
    "We look at the dataset from the Old Faithful geyser's eruptions at the Yellowstone National Park.  \n",
    "\n",
    "Data Description: \n",
    "     - Waiting time between eruptions and the duration of the eruption for the Old Faithful geyser in Yellowstone National Park, Wyoming, USA.\n",
    "\n",
    "     - A data frame with 272 observations on 2 variables.\n",
    "\n",
    "Columns:  \n",
    "- duration - numeric - Eruption time in mins  \n",
    "- waiting - numeric - Waiting time to next eruption  \n",
    "- kind - categorical - Kind of eruption (long/short)  \n",
    "\n"
   ]
  },
  {
   "cell_type": "code",
   "execution_count": 79,
   "id": "f6dc0811-0218-4a7d-8398-ae43e2e7ecc6",
   "metadata": {
    "tags": []
   },
   "outputs": [],
   "source": [
    "df = sns.load_dataset('geyser')"
   ]
  },
  {
   "cell_type": "code",
   "execution_count": 80,
   "id": "02371990-624d-45e2-b0e1-781c56d19451",
   "metadata": {
    "tags": []
   },
   "outputs": [
    {
     "data": {
      "text/html": [
       "<div>\n",
       "<style scoped>\n",
       "    .dataframe tbody tr th:only-of-type {\n",
       "        vertical-align: middle;\n",
       "    }\n",
       "\n",
       "    .dataframe tbody tr th {\n",
       "        vertical-align: top;\n",
       "    }\n",
       "\n",
       "    .dataframe thead th {\n",
       "        text-align: right;\n",
       "    }\n",
       "</style>\n",
       "<table border=\"1\" class=\"dataframe\">\n",
       "  <thead>\n",
       "    <tr style=\"text-align: right;\">\n",
       "      <th></th>\n",
       "      <th>duration</th>\n",
       "      <th>waiting</th>\n",
       "      <th>kind</th>\n",
       "    </tr>\n",
       "  </thead>\n",
       "  <tbody>\n",
       "    <tr>\n",
       "      <th>0</th>\n",
       "      <td>3.600</td>\n",
       "      <td>79</td>\n",
       "      <td>long</td>\n",
       "    </tr>\n",
       "    <tr>\n",
       "      <th>1</th>\n",
       "      <td>1.800</td>\n",
       "      <td>54</td>\n",
       "      <td>short</td>\n",
       "    </tr>\n",
       "    <tr>\n",
       "      <th>2</th>\n",
       "      <td>3.333</td>\n",
       "      <td>74</td>\n",
       "      <td>long</td>\n",
       "    </tr>\n",
       "    <tr>\n",
       "      <th>3</th>\n",
       "      <td>2.283</td>\n",
       "      <td>62</td>\n",
       "      <td>short</td>\n",
       "    </tr>\n",
       "    <tr>\n",
       "      <th>4</th>\n",
       "      <td>4.533</td>\n",
       "      <td>85</td>\n",
       "      <td>long</td>\n",
       "    </tr>\n",
       "    <tr>\n",
       "      <th>...</th>\n",
       "      <td>...</td>\n",
       "      <td>...</td>\n",
       "      <td>...</td>\n",
       "    </tr>\n",
       "    <tr>\n",
       "      <th>267</th>\n",
       "      <td>4.117</td>\n",
       "      <td>81</td>\n",
       "      <td>long</td>\n",
       "    </tr>\n",
       "    <tr>\n",
       "      <th>268</th>\n",
       "      <td>2.150</td>\n",
       "      <td>46</td>\n",
       "      <td>short</td>\n",
       "    </tr>\n",
       "    <tr>\n",
       "      <th>269</th>\n",
       "      <td>4.417</td>\n",
       "      <td>90</td>\n",
       "      <td>long</td>\n",
       "    </tr>\n",
       "    <tr>\n",
       "      <th>270</th>\n",
       "      <td>1.817</td>\n",
       "      <td>46</td>\n",
       "      <td>short</td>\n",
       "    </tr>\n",
       "    <tr>\n",
       "      <th>271</th>\n",
       "      <td>4.467</td>\n",
       "      <td>74</td>\n",
       "      <td>long</td>\n",
       "    </tr>\n",
       "  </tbody>\n",
       "</table>\n",
       "<p>272 rows × 3 columns</p>\n",
       "</div>"
      ],
      "text/plain": [
       "     duration  waiting   kind\n",
       "0       3.600       79   long\n",
       "1       1.800       54  short\n",
       "2       3.333       74   long\n",
       "3       2.283       62  short\n",
       "4       4.533       85   long\n",
       "..        ...      ...    ...\n",
       "267     4.117       81   long\n",
       "268     2.150       46  short\n",
       "269     4.417       90   long\n",
       "270     1.817       46  short\n",
       "271     4.467       74   long\n",
       "\n",
       "[272 rows x 3 columns]"
      ]
     },
     "execution_count": 80,
     "metadata": {},
     "output_type": "execute_result"
    }
   ],
   "source": [
    "df"
   ]
  },
  {
   "cell_type": "code",
   "execution_count": 81,
   "id": "7aeedabd-e1ca-4b33-b5b5-0fb948e5fab4",
   "metadata": {
    "tags": []
   },
   "outputs": [
    {
     "name": "stdout",
     "output_type": "stream",
     "text": [
      "kind\n",
      "long     172\n",
      "short    100\n",
      "Name: count, dtype: int64\n",
      "\n",
      "---\n",
      "\n",
      "kind\n",
      "long     0.632353\n",
      "short    0.367647\n",
      "Name: proportion, dtype: float64\n"
     ]
    }
   ],
   "source": [
    "print(df.kind.value_counts())\n",
    "print('\\n---\\n')\n",
    "print(df.kind.value_counts(normalize=True))"
   ]
  },
  {
   "cell_type": "code",
   "execution_count": 82,
   "id": "0348f1a2-786a-4754-96b0-7b9b21c06b96",
   "metadata": {
    "tags": []
   },
   "outputs": [],
   "source": [
    "# Split the dataframe between X and y\n",
    "X = df[['duration', 'waiting']]\n",
    "y = df[['kind']]"
   ]
  },
  {
   "cell_type": "code",
   "execution_count": 83,
   "id": "d521f6b9-1821-4677-b777-afb3535ebb72",
   "metadata": {
    "tags": []
   },
   "outputs": [
    {
     "data": {
      "text/plain": [
       "kind \n",
       "long     172\n",
       "short    100\n",
       "Name: count, dtype: int64"
      ]
     },
     "execution_count": 83,
     "metadata": {},
     "output_type": "execute_result"
    }
   ],
   "source": [
    "y.value_counts()"
   ]
  },
  {
   "cell_type": "markdown",
   "id": "86f3e6a6-ec5d-4cca-bbb0-a5a755c0346a",
   "metadata": {},
   "source": [
    "### Approach 1: Reduce Observations for Majority Class\n",
    "\n",
    "Several approaches available, for example:\n",
    "- Random Under Sampling: Randomly remove majority class observations to match the number of observations in the minority class.  \n",
    "- Cluster Centroids Method: Remove majority class observations and replace them with synthetic data representing the centroids of k-means clusters.\n",
    "\n",
    "Observations are removed till all classes have a count of observation equal to the class with the lowest count of observations.\n",
    "\n",
    "Generally, 1 above (random undersampling) should suffice for most general cases.  Other approaches available as well, listed at https://imbalanced-learn.org/\n",
    "\n",
    "\n",
    "#### Random Under Sampler\n",
    "\n",
    "Several approaches available, for example:\n",
    "\n",
    " - Random Under Sampling: Randomly remove majority class observations to match the number of observations in the minority class.  \n",
    " - Cluster Centroids Method: Remove majority class observations and replace them with synthetic data representing the centroids of k-means clusters.\n",
    "\n",
    "Observations are removed till all classes have a count of observation equal to the class with the lowest count of observations.\n",
    "\n",
    "Generally, 1 above (random undersampling) should suffice for most general cases. \n",
    "\n",
    "Other approaches available as well, listed at https://imbalanced-learn.org/\n"
   ]
  },
  {
   "cell_type": "code",
   "execution_count": 84,
   "id": "eec5e420-9bab-467c-ba02-22a384b267c9",
   "metadata": {
    "tags": []
   },
   "outputs": [],
   "source": [
    "from imblearn.under_sampling import RandomUnderSampler"
   ]
  },
  {
   "cell_type": "code",
   "execution_count": 85,
   "id": "c20e9da0-1bd8-449c-85b5-48801a21663e",
   "metadata": {
    "tags": []
   },
   "outputs": [],
   "source": [
    "undersampler = RandomUnderSampler()\n",
    "X_res, y_res = undersampler.fit_resample(X, y)"
   ]
  },
  {
   "cell_type": "code",
   "execution_count": 86,
   "id": "c825e417-0208-45f2-9412-66c1e94ff83f",
   "metadata": {
    "tags": []
   },
   "outputs": [
    {
     "data": {
      "text/plain": [
       "kind \n",
       "long     100\n",
       "short    100\n",
       "Name: count, dtype: int64"
      ]
     },
     "execution_count": 86,
     "metadata": {},
     "output_type": "execute_result"
    }
   ],
   "source": [
    "y_res.value_counts()"
   ]
  },
  {
   "cell_type": "code",
   "execution_count": 87,
   "id": "eef22421-05d4-48e3-8a98-a55d9daadfbf",
   "metadata": {
    "tags": []
   },
   "outputs": [
    {
     "data": {
      "text/html": [
       "<div>\n",
       "<style scoped>\n",
       "    .dataframe tbody tr th:only-of-type {\n",
       "        vertical-align: middle;\n",
       "    }\n",
       "\n",
       "    .dataframe tbody tr th {\n",
       "        vertical-align: top;\n",
       "    }\n",
       "\n",
       "    .dataframe thead th {\n",
       "        text-align: right;\n",
       "    }\n",
       "</style>\n",
       "<table border=\"1\" class=\"dataframe\">\n",
       "  <thead>\n",
       "    <tr style=\"text-align: right;\">\n",
       "      <th></th>\n",
       "      <th>duration</th>\n",
       "      <th>waiting</th>\n",
       "    </tr>\n",
       "  </thead>\n",
       "  <tbody>\n",
       "    <tr>\n",
       "      <th>0</th>\n",
       "      <td>3.600</td>\n",
       "      <td>79</td>\n",
       "    </tr>\n",
       "    <tr>\n",
       "      <th>1</th>\n",
       "      <td>1.800</td>\n",
       "      <td>54</td>\n",
       "    </tr>\n",
       "    <tr>\n",
       "      <th>2</th>\n",
       "      <td>3.333</td>\n",
       "      <td>74</td>\n",
       "    </tr>\n",
       "    <tr>\n",
       "      <th>3</th>\n",
       "      <td>2.283</td>\n",
       "      <td>62</td>\n",
       "    </tr>\n",
       "    <tr>\n",
       "      <th>4</th>\n",
       "      <td>4.533</td>\n",
       "      <td>85</td>\n",
       "    </tr>\n",
       "    <tr>\n",
       "      <th>...</th>\n",
       "      <td>...</td>\n",
       "      <td>...</td>\n",
       "    </tr>\n",
       "    <tr>\n",
       "      <th>267</th>\n",
       "      <td>4.117</td>\n",
       "      <td>81</td>\n",
       "    </tr>\n",
       "    <tr>\n",
       "      <th>268</th>\n",
       "      <td>2.150</td>\n",
       "      <td>46</td>\n",
       "    </tr>\n",
       "    <tr>\n",
       "      <th>269</th>\n",
       "      <td>4.417</td>\n",
       "      <td>90</td>\n",
       "    </tr>\n",
       "    <tr>\n",
       "      <th>270</th>\n",
       "      <td>1.817</td>\n",
       "      <td>46</td>\n",
       "    </tr>\n",
       "    <tr>\n",
       "      <th>271</th>\n",
       "      <td>4.467</td>\n",
       "      <td>74</td>\n",
       "    </tr>\n",
       "  </tbody>\n",
       "</table>\n",
       "<p>272 rows × 2 columns</p>\n",
       "</div>"
      ],
      "text/plain": [
       "     duration  waiting\n",
       "0       3.600       79\n",
       "1       1.800       54\n",
       "2       3.333       74\n",
       "3       2.283       62\n",
       "4       4.533       85\n",
       "..        ...      ...\n",
       "267     4.117       81\n",
       "268     2.150       46\n",
       "269     4.417       90\n",
       "270     1.817       46\n",
       "271     4.467       74\n",
       "\n",
       "[272 rows x 2 columns]"
      ]
     },
     "execution_count": 87,
     "metadata": {},
     "output_type": "execute_result"
    }
   ],
   "source": [
    "X"
   ]
  },
  {
   "cell_type": "code",
   "execution_count": 88,
   "id": "cf0d010c-04be-4498-bf98-aca1a28c1cce",
   "metadata": {
    "tags": []
   },
   "outputs": [
    {
     "data": {
      "text/html": [
       "<div>\n",
       "<style scoped>\n",
       "    .dataframe tbody tr th:only-of-type {\n",
       "        vertical-align: middle;\n",
       "    }\n",
       "\n",
       "    .dataframe tbody tr th {\n",
       "        vertical-align: top;\n",
       "    }\n",
       "\n",
       "    .dataframe thead th {\n",
       "        text-align: right;\n",
       "    }\n",
       "</style>\n",
       "<table border=\"1\" class=\"dataframe\">\n",
       "  <thead>\n",
       "    <tr style=\"text-align: right;\">\n",
       "      <th></th>\n",
       "      <th>kind</th>\n",
       "    </tr>\n",
       "  </thead>\n",
       "  <tbody>\n",
       "    <tr>\n",
       "      <th>0</th>\n",
       "      <td>long</td>\n",
       "    </tr>\n",
       "    <tr>\n",
       "      <th>1</th>\n",
       "      <td>short</td>\n",
       "    </tr>\n",
       "    <tr>\n",
       "      <th>2</th>\n",
       "      <td>long</td>\n",
       "    </tr>\n",
       "    <tr>\n",
       "      <th>3</th>\n",
       "      <td>short</td>\n",
       "    </tr>\n",
       "    <tr>\n",
       "      <th>4</th>\n",
       "      <td>long</td>\n",
       "    </tr>\n",
       "    <tr>\n",
       "      <th>...</th>\n",
       "      <td>...</td>\n",
       "    </tr>\n",
       "    <tr>\n",
       "      <th>267</th>\n",
       "      <td>long</td>\n",
       "    </tr>\n",
       "    <tr>\n",
       "      <th>268</th>\n",
       "      <td>short</td>\n",
       "    </tr>\n",
       "    <tr>\n",
       "      <th>269</th>\n",
       "      <td>long</td>\n",
       "    </tr>\n",
       "    <tr>\n",
       "      <th>270</th>\n",
       "      <td>short</td>\n",
       "    </tr>\n",
       "    <tr>\n",
       "      <th>271</th>\n",
       "      <td>long</td>\n",
       "    </tr>\n",
       "  </tbody>\n",
       "</table>\n",
       "<p>272 rows × 1 columns</p>\n",
       "</div>"
      ],
      "text/plain": [
       "      kind\n",
       "0     long\n",
       "1    short\n",
       "2     long\n",
       "3    short\n",
       "4     long\n",
       "..     ...\n",
       "267   long\n",
       "268  short\n",
       "269   long\n",
       "270  short\n",
       "271   long\n",
       "\n",
       "[272 rows x 1 columns]"
      ]
     },
     "execution_count": 88,
     "metadata": {},
     "output_type": "execute_result"
    }
   ],
   "source": [
    "y"
   ]
  },
  {
   "cell_type": "markdown",
   "id": "32b9f513-ab83-4229-b333-77f02d6b291d",
   "metadata": {},
   "source": [
    "### Centroid Based Under Sampler"
   ]
  },
  {
   "cell_type": "code",
   "execution_count": 89,
   "id": "be5091a8-b07a-4d0d-9ba8-537e32e7f767",
   "metadata": {
    "tags": []
   },
   "outputs": [],
   "source": [
    "from imblearn.under_sampling import ClusterCentroids\n",
    "clustercentroids = ClusterCentroids()\n",
    "X_res, y_res = clustercentroids.fit_resample(X, y)"
   ]
  },
  {
   "cell_type": "code",
   "execution_count": 90,
   "id": "b9636789-b342-4583-aafc-b5f4319744a6",
   "metadata": {
    "tags": []
   },
   "outputs": [
    {
     "data": {
      "text/plain": [
       "kind \n",
       "long     100\n",
       "short    100\n",
       "Name: count, dtype: int64"
      ]
     },
     "execution_count": 90,
     "metadata": {},
     "output_type": "execute_result"
    }
   ],
   "source": [
    "y_res.value_counts()"
   ]
  },
  {
   "cell_type": "markdown",
   "id": "7dea59d6-b092-4d79-a505-b64825741e1b",
   "metadata": {
    "tags": []
   },
   "source": [
    "Notice how the majority class has been undersampled to match the count of 100 short eruptions (the minority class).\n",
    "\n",
    "### Approach 2: Add Observations to the Minority Classes\n",
    "Several approaches available, for example:  \n",
    "- Random Over Sampling: Randomly duplicate observations in the minority class till the count of the modal class is reached  \n",
    "- SMOTE: Synthetic Minority Oversampling Technique  \n",
    "\n",
    "You may have to try both approaches to see which one gives you better results.\n",
    "\n",
    "All classes that have observations fewer than the class with the maximum count will have their counts increased to match that of the class with the highest count.\n",
    "\n",
    "\n",
    "#### Random Over Sampler\n"
   ]
  },
  {
   "cell_type": "code",
   "execution_count": 91,
   "id": "41ba81c0-44ba-4efb-9732-3722b1ff33ef",
   "metadata": {
    "tags": []
   },
   "outputs": [],
   "source": [
    "from imblearn.over_sampling import RandomOverSampler\n",
    "randomoversampler = RandomOverSampler()\n",
    "X_res, y_res = randomoversampler.fit_resample(X, y)"
   ]
  },
  {
   "cell_type": "code",
   "execution_count": 92,
   "id": "7bc05082-fb5c-49fa-98f8-a67be2a301f6",
   "metadata": {
    "tags": []
   },
   "outputs": [
    {
     "data": {
      "text/plain": [
       "kind \n",
       "long     172\n",
       "short    172\n",
       "Name: count, dtype: int64"
      ]
     },
     "execution_count": 92,
     "metadata": {},
     "output_type": "execute_result"
    }
   ],
   "source": [
    "y_res.value_counts()"
   ]
  },
  {
   "cell_type": "markdown",
   "id": "cf7725f2-8f66-47e6-96d1-af2056bf1f4d",
   "metadata": {},
   "source": [
    "#### SMOTE Over Sampler  \n",
    "\n",
    "SMOTE = Synthetic Minority Oversampling Technique\n",
    "\n",
    "SMOTE works as follows:  \n",
    "1. Take a random sample from the minority class  \n",
    "2. Find k nearest neighbors for this sample observation  \n",
    "3. Randomly select one of the neighbors  \n",
    "4. Draw a line between this random neighbor and the sample observation  \n",
    "5. Identify a point on the line between the two to get another minority data point.  \n",
    "\n",
    "\n",
    "Fortunately, this complicated series of motions is implemented for us in Python by the library imbalanced-learn  \n",
    "\n",
    "Often, under-sampling and SMOTE are combined to build a larger data set with greater representation for the minority class."
   ]
  },
  {
   "cell_type": "code",
   "execution_count": 93,
   "id": "64208cbb-66d0-46ca-bec8-5a6332afa7b2",
   "metadata": {
    "tags": []
   },
   "outputs": [],
   "source": [
    "from imblearn.over_sampling import SMOTE \n",
    "smote = SMOTE()\n",
    "X_res, y_res = smote.fit_resample(X, y)"
   ]
  },
  {
   "cell_type": "code",
   "execution_count": 94,
   "id": "63657c91-a34b-4f90-adca-1c542fdff2f1",
   "metadata": {
    "tags": []
   },
   "outputs": [
    {
     "data": {
      "text/plain": [
       "kind \n",
       "long     172\n",
       "short    172\n",
       "Name: count, dtype: int64"
      ]
     },
     "execution_count": 94,
     "metadata": {},
     "output_type": "execute_result"
    }
   ],
   "source": [
    "y_res.value_counts()"
   ]
  },
  {
   "cell_type": "markdown",
   "id": "23c6a145-da81-477e-a26d-9c6ea729505c",
   "metadata": {},
   "source": [
    "Notice how the count of observations in the minority class have gone up to match the count of the majority class.\n",
    "\n",
    "\n",
    "## Principal Component Analysis  \n",
    "\n",
    "**Overview**  \n",
    "The problem we are trying to solve with PCA is that when we are trying to look for relationships in data, there may sometimes be too many variables in the feature set that are all somewhat related to each other.  \n",
    "\n",
    "Consider the mtcars dataset.  Though the columns represent different things, we can imagine that horsepower, number of cylinders, engine size (displacement) etc are all related to each other.  \n",
    "\n",
    "What PCA allows us to do is to replace a large number of variables with much fewer ‘artificial’ variables that effectively represent the same data. These artificial variables are called principal components.  \n",
    "\n",
    "So you might have a hundred variables in the original data set, and you may be able to replace them with just two or three mathematically constructed ‘artificial variables’ that explain the data just about as well as the original data set.  \n",
    "\n",
    "These ‘artificial variables’ are built mathematically as linear combinations of the underlying original variables. These new ‘artificial variables’, called principal components, may or may not be capable of any intuitive human interpretation.  \n",
    "\n",
    "The number of principal components that can be identified for any dataset is equal to the number of the variables in the dataset. But if one had to use all the principal components, it would not be very helpful because the complexity of the data is not reduced at all, and we are replacing natural variables with artificial ones that may not have a logical interpretation.  \n",
    "\n",
    "We can decide which principal components to use and which to discard. But how do we do that?  \n",
    "\n",
    "Each principal component accounts for a part of the total variation that the original dataset had. We pick the top 2 or 3 (or n) principal components so we have a satisfactory proportion of the variation in the original dataset.  \n",
    "\n",
    "What does ‘variation’ mean, you might ask.  \n",
    "\n",
    "Think of the data set as a scatterplot. If we had two variables, think about how they would look when plotted on a scatter plot. If we had three variables, try to visualize a three dimensional plane and how the data points would look – like a cloud kind of clustering together a little bit (or not) depending upon how correlated the system is.   \n",
    "\n",
    "The ‘spread’ of this cloud is really the ‘variation’ contained in the data set. This can be measured in the form of variance, with each of the n columns having a variance.   \n",
    "\n",
    "Once the principal components for the feature data have been calculated, we can also calculate the variance for each of the principal components.  \n",
    "\n",
    "Fortunately, the simple summation of the variance of the individual original variables is equal to the summation of the variances of the principal components.  But it is distributed differently.   \n",
    "\n",
    "We arrange the principal components in descending order of the variance each of them explains, take the top few principal components, add up their variance, and compare it to the total variance to determine how much of the variance is accounted for. If we have enough to meet our needs, we stop there.  \n",
    "\n",
    "For example, if the top 3 or 4 principal components explain 90% of the variance (not unusual), we might just take those as our new features to replace our old cumbersome 100-column feature set, greatly simplifying our modeling problem.  \n"
   ]
  },
  {
   "cell_type": "markdown",
   "id": "c315954f-909c-4797-9639-1a384538f04d",
   "metadata": {},
   "source": [
    "**PCA in Practice - Steps**  \n",
    "1. PCA begins with standardizing the feature set.\n",
    "2. Then we calculate the covariance matrix (which after standardization is the same as the correlation matrix).\n",
    "3. For this covariance matrix, we now calculate the eigenvectors and eigenvalues. \n",
    "4. Every eigenvector would have as many elements as the number of features in the original dataset. These elements represent the ‘weights’ for the linear combination of the different features.\n",
    "5. The eigenvalues for each of the eigenvectors represent the amount of variance that the given eigenvector accounts for. We arrange the eigenvectors in decreasing order of the eigenvalues, and pick the top 2, 3 (or as many eigenvalues) that we are interested in depending upon how much variance we want to capture in our model. \n",
    "6. If we include all the eigenvectors, then we would have captured all the variance but this would not give us any advantage over our initial data.\n",
    "7. In a simplistic way, that is about all that there is to PCA. Fortunately for us, all of this is already implemented in statistical libraries, and as practitioners we need to know only the intuition before we apply it.\n"
   ]
  },
  {
   "cell_type": "code",
   "execution_count": 95,
   "id": "8dccabef-e751-4a7f-9229-e0bc33559028",
   "metadata": {
    "tags": []
   },
   "outputs": [
    {
     "name": "stdout",
     "output_type": "stream",
     "text": [
      "Dataframe shape:  (32, 11)\n"
     ]
    },
    {
     "data": {
      "text/html": [
       "<div>\n",
       "<style scoped>\n",
       "    .dataframe tbody tr th:only-of-type {\n",
       "        vertical-align: middle;\n",
       "    }\n",
       "\n",
       "    .dataframe tbody tr th {\n",
       "        vertical-align: top;\n",
       "    }\n",
       "\n",
       "    .dataframe thead th {\n",
       "        text-align: right;\n",
       "    }\n",
       "</style>\n",
       "<table border=\"1\" class=\"dataframe\">\n",
       "  <thead>\n",
       "    <tr style=\"text-align: right;\">\n",
       "      <th></th>\n",
       "      <th>mpg</th>\n",
       "      <th>cyl</th>\n",
       "      <th>disp</th>\n",
       "      <th>hp</th>\n",
       "      <th>drat</th>\n",
       "      <th>wt</th>\n",
       "      <th>qsec</th>\n",
       "      <th>vs</th>\n",
       "      <th>am</th>\n",
       "      <th>gear</th>\n",
       "      <th>carb</th>\n",
       "    </tr>\n",
       "    <tr>\n",
       "      <th>rownames</th>\n",
       "      <th></th>\n",
       "      <th></th>\n",
       "      <th></th>\n",
       "      <th></th>\n",
       "      <th></th>\n",
       "      <th></th>\n",
       "      <th></th>\n",
       "      <th></th>\n",
       "      <th></th>\n",
       "      <th></th>\n",
       "      <th></th>\n",
       "    </tr>\n",
       "  </thead>\n",
       "  <tbody>\n",
       "    <tr>\n",
       "      <th>Mazda RX4</th>\n",
       "      <td>21.0</td>\n",
       "      <td>6</td>\n",
       "      <td>160.0</td>\n",
       "      <td>110</td>\n",
       "      <td>3.90</td>\n",
       "      <td>2.620</td>\n",
       "      <td>16.46</td>\n",
       "      <td>0</td>\n",
       "      <td>1</td>\n",
       "      <td>4</td>\n",
       "      <td>4</td>\n",
       "    </tr>\n",
       "    <tr>\n",
       "      <th>Mazda RX4 Wag</th>\n",
       "      <td>21.0</td>\n",
       "      <td>6</td>\n",
       "      <td>160.0</td>\n",
       "      <td>110</td>\n",
       "      <td>3.90</td>\n",
       "      <td>2.875</td>\n",
       "      <td>17.02</td>\n",
       "      <td>0</td>\n",
       "      <td>1</td>\n",
       "      <td>4</td>\n",
       "      <td>4</td>\n",
       "    </tr>\n",
       "    <tr>\n",
       "      <th>Datsun 710</th>\n",
       "      <td>22.8</td>\n",
       "      <td>4</td>\n",
       "      <td>108.0</td>\n",
       "      <td>93</td>\n",
       "      <td>3.85</td>\n",
       "      <td>2.320</td>\n",
       "      <td>18.61</td>\n",
       "      <td>1</td>\n",
       "      <td>1</td>\n",
       "      <td>4</td>\n",
       "      <td>1</td>\n",
       "    </tr>\n",
       "    <tr>\n",
       "      <th>Hornet 4 Drive</th>\n",
       "      <td>21.4</td>\n",
       "      <td>6</td>\n",
       "      <td>258.0</td>\n",
       "      <td>110</td>\n",
       "      <td>3.08</td>\n",
       "      <td>3.215</td>\n",
       "      <td>19.44</td>\n",
       "      <td>1</td>\n",
       "      <td>0</td>\n",
       "      <td>3</td>\n",
       "      <td>1</td>\n",
       "    </tr>\n",
       "    <tr>\n",
       "      <th>Hornet Sportabout</th>\n",
       "      <td>18.7</td>\n",
       "      <td>8</td>\n",
       "      <td>360.0</td>\n",
       "      <td>175</td>\n",
       "      <td>3.15</td>\n",
       "      <td>3.440</td>\n",
       "      <td>17.02</td>\n",
       "      <td>0</td>\n",
       "      <td>0</td>\n",
       "      <td>3</td>\n",
       "      <td>2</td>\n",
       "    </tr>\n",
       "  </tbody>\n",
       "</table>\n",
       "</div>"
      ],
      "text/plain": [
       "                    mpg  cyl   disp   hp  drat     wt   qsec  vs  am  gear  \\\n",
       "rownames                                                                     \n",
       "Mazda RX4          21.0    6  160.0  110  3.90  2.620  16.46   0   1     4   \n",
       "Mazda RX4 Wag      21.0    6  160.0  110  3.90  2.875  17.02   0   1     4   \n",
       "Datsun 710         22.8    4  108.0   93  3.85  2.320  18.61   1   1     4   \n",
       "Hornet 4 Drive     21.4    6  258.0  110  3.08  3.215  19.44   1   0     3   \n",
       "Hornet Sportabout  18.7    8  360.0  175  3.15  3.440  17.02   0   0     3   \n",
       "\n",
       "                   carb  \n",
       "rownames                 \n",
       "Mazda RX4             4  \n",
       "Mazda RX4 Wag         4  \n",
       "Datsun 710            1  \n",
       "Hornet 4 Drive        1  \n",
       "Hornet Sportabout     2  "
      ]
     },
     "execution_count": 95,
     "metadata": {},
     "output_type": "execute_result"
    }
   ],
   "source": [
    "# Load the mtcars data\n",
    "import statsmodels.api as sm\n",
    "df = sm.datasets.get_rdataset('mtcars').data\n",
    "print('Dataframe shape: ',df.shape)\n",
    "df.head()"
   ]
  },
  {
   "cell_type": "markdown",
   "id": "c30e17a6-bbca-45ac-8d42-67e04ba4ee3b",
   "metadata": {},
   "source": [
    "We run principal component analysis on the mtcars dataset.  We target capturing 80% of the variation in the dataset.  We see that just two principal components capture 84% of the variation observed in the original 10 feature dataset.\n"
   ]
  },
  {
   "cell_type": "code",
   "execution_count": 96,
   "id": "aa5c9c82-b61f-4af9-a1e4-59bf5b409a62",
   "metadata": {
    "tags": []
   },
   "outputs": [
    {
     "name": "stdout",
     "output_type": "stream",
     "text": [
      "(32, 10)\n"
     ]
    },
    {
     "data": {
      "text/html": [
       "<div>\n",
       "<style scoped>\n",
       "    .dataframe tbody tr th:only-of-type {\n",
       "        vertical-align: middle;\n",
       "    }\n",
       "\n",
       "    .dataframe tbody tr th {\n",
       "        vertical-align: top;\n",
       "    }\n",
       "\n",
       "    .dataframe thead th {\n",
       "        text-align: right;\n",
       "    }\n",
       "</style>\n",
       "<table border=\"1\" class=\"dataframe\">\n",
       "  <thead>\n",
       "    <tr style=\"text-align: right;\">\n",
       "      <th></th>\n",
       "      <th>cyl</th>\n",
       "      <th>disp</th>\n",
       "      <th>hp</th>\n",
       "      <th>drat</th>\n",
       "      <th>wt</th>\n",
       "      <th>qsec</th>\n",
       "      <th>vs</th>\n",
       "      <th>am</th>\n",
       "      <th>gear</th>\n",
       "      <th>carb</th>\n",
       "    </tr>\n",
       "    <tr>\n",
       "      <th>rownames</th>\n",
       "      <th></th>\n",
       "      <th></th>\n",
       "      <th></th>\n",
       "      <th></th>\n",
       "      <th></th>\n",
       "      <th></th>\n",
       "      <th></th>\n",
       "      <th></th>\n",
       "      <th></th>\n",
       "      <th></th>\n",
       "    </tr>\n",
       "  </thead>\n",
       "  <tbody>\n",
       "    <tr>\n",
       "      <th>Mazda RX4</th>\n",
       "      <td>-0.106668</td>\n",
       "      <td>-0.579750</td>\n",
       "      <td>-0.543655</td>\n",
       "      <td>0.576594</td>\n",
       "      <td>-0.620167</td>\n",
       "      <td>-0.789601</td>\n",
       "      <td>-0.881917</td>\n",
       "      <td>1.208941</td>\n",
       "      <td>0.430331</td>\n",
       "      <td>0.746967</td>\n",
       "    </tr>\n",
       "    <tr>\n",
       "      <th>Mazda RX4 Wag</th>\n",
       "      <td>-0.106668</td>\n",
       "      <td>-0.579750</td>\n",
       "      <td>-0.543655</td>\n",
       "      <td>0.576594</td>\n",
       "      <td>-0.355382</td>\n",
       "      <td>-0.471202</td>\n",
       "      <td>-0.881917</td>\n",
       "      <td>1.208941</td>\n",
       "      <td>0.430331</td>\n",
       "      <td>0.746967</td>\n",
       "    </tr>\n",
       "    <tr>\n",
       "      <th>Datsun 710</th>\n",
       "      <td>-1.244457</td>\n",
       "      <td>-1.006026</td>\n",
       "      <td>-0.795570</td>\n",
       "      <td>0.481584</td>\n",
       "      <td>-0.931678</td>\n",
       "      <td>0.432823</td>\n",
       "      <td>1.133893</td>\n",
       "      <td>1.208941</td>\n",
       "      <td>0.430331</td>\n",
       "      <td>-1.140108</td>\n",
       "    </tr>\n",
       "    <tr>\n",
       "      <th>Hornet 4 Drive</th>\n",
       "      <td>-0.106668</td>\n",
       "      <td>0.223615</td>\n",
       "      <td>-0.543655</td>\n",
       "      <td>-0.981576</td>\n",
       "      <td>-0.002336</td>\n",
       "      <td>0.904736</td>\n",
       "      <td>1.133893</td>\n",
       "      <td>-0.827170</td>\n",
       "      <td>-0.946729</td>\n",
       "      <td>-1.140108</td>\n",
       "    </tr>\n",
       "    <tr>\n",
       "      <th>Hornet Sportabout</th>\n",
       "      <td>1.031121</td>\n",
       "      <td>1.059772</td>\n",
       "      <td>0.419550</td>\n",
       "      <td>-0.848562</td>\n",
       "      <td>0.231297</td>\n",
       "      <td>-0.471202</td>\n",
       "      <td>-0.881917</td>\n",
       "      <td>-0.827170</td>\n",
       "      <td>-0.946729</td>\n",
       "      <td>-0.511083</td>\n",
       "    </tr>\n",
       "  </tbody>\n",
       "</table>\n",
       "</div>"
      ],
      "text/plain": [
       "                        cyl      disp        hp      drat        wt      qsec  \\\n",
       "rownames                                                                        \n",
       "Mazda RX4         -0.106668 -0.579750 -0.543655  0.576594 -0.620167 -0.789601   \n",
       "Mazda RX4 Wag     -0.106668 -0.579750 -0.543655  0.576594 -0.355382 -0.471202   \n",
       "Datsun 710        -1.244457 -1.006026 -0.795570  0.481584 -0.931678  0.432823   \n",
       "Hornet 4 Drive    -0.106668  0.223615 -0.543655 -0.981576 -0.002336  0.904736   \n",
       "Hornet Sportabout  1.031121  1.059772  0.419550 -0.848562  0.231297 -0.471202   \n",
       "\n",
       "                         vs        am      gear      carb  \n",
       "rownames                                                   \n",
       "Mazda RX4         -0.881917  1.208941  0.430331  0.746967  \n",
       "Mazda RX4 Wag     -0.881917  1.208941  0.430331  0.746967  \n",
       "Datsun 710         1.133893  1.208941  0.430331 -1.140108  \n",
       "Hornet 4 Drive     1.133893 -0.827170 -0.946729 -1.140108  \n",
       "Hornet Sportabout -0.881917 -0.827170 -0.946729 -0.511083  "
      ]
     },
     "execution_count": 96,
     "metadata": {},
     "output_type": "execute_result"
    }
   ],
   "source": [
    "# Separate out the features (assuming mpg is the target variable)\n",
    "feat = df.iloc[:,1:]\n",
    "\n",
    "# Next, standard scale the feature set\n",
    "import sklearn.preprocessing as preproc\n",
    "feat = pd.DataFrame(data=preproc.StandardScaler().fit_transform(feat), columns=feat.columns, index = feat.index)\n",
    "print(feat.shape)\n",
    "feat.head()"
   ]
  },
  {
   "cell_type": "code",
   "execution_count": 97,
   "id": "ebf29446-4304-40a2-97c6-f90bdf655b43",
   "metadata": {},
   "outputs": [
    {
     "data": {
      "image/png": "[encoded data removed]",
      "text/plain": [
       "<Figure size 640x480 with 2 Axes>"
      ]
     },
     "metadata": {},
     "output_type": "display_data"
    }
   ],
   "source": [
    "# Check out the correlation\n",
    "sns.heatmap(feat.corr(numeric_only=True), annot=True);"
   ]
  },
  {
   "cell_type": "markdown",
   "id": "d77a3935-206d-4202-9351-a487d004deab",
   "metadata": {},
   "source": [
    "Consider the mtcars dataset above.  Though the columns represent different things, we can imagine that horsepower, number of cylinders, engine size (displacement) etc are all related to each other. \n",
    "\n",
    "We run principal component analysis on the mtcars dataset.  We target capturing 80% of the variation in the dataset.  We see below that just two principal components capture 84% of the variation observed in the original 10 feature dataset.\n",
    "\n",
    "\n",
    "### Principal Components"
   ]
  },
  {
   "cell_type": "code",
   "execution_count": 98,
   "id": "4e2dc0d2-13dc-410c-a136-ebdad9a887db",
   "metadata": {},
   "outputs": [],
   "source": [
    "from sklearn.decomposition import PCA\n",
    "pca = PCA(n_components=.8) #0.8 means keep 80% of the variance"
   ]
  },
  {
   "cell_type": "code",
   "execution_count": 102,
   "id": "1177c77d-3f9c-42a7-a554-db0c830aa291",
   "metadata": {},
   "outputs": [],
   "source": [
    "# Get the new features and hold them in variable new\n",
    "pc_mtcars = pca.fit_transform(feat)"
   ]
  },
  {
   "cell_type": "code",
   "execution_count": 103,
   "id": "0c74cbde-576e-4328-b4cf-cb88c9a98d88",
   "metadata": {},
   "outputs": [
    {
     "data": {
      "text/plain": [
       "(32, 2)"
      ]
     },
     "execution_count": 103,
     "metadata": {},
     "output_type": "execute_result"
    }
   ],
   "source": [
    "pc_mtcars.shape"
   ]
  },
  {
   "cell_type": "code",
   "execution_count": 104,
   "id": "6d683e86-9e5a-43b8-82cb-78c3aaea584c",
   "metadata": {},
   "outputs": [
    {
     "data": {
      "text/html": [
       "<div>\n",
       "<style scoped>\n",
       "    .dataframe tbody tr th:only-of-type {\n",
       "        vertical-align: middle;\n",
       "    }\n",
       "\n",
       "    .dataframe tbody tr th {\n",
       "        vertical-align: top;\n",
       "    }\n",
       "\n",
       "    .dataframe thead th {\n",
       "        text-align: right;\n",
       "    }\n",
       "</style>\n",
       "<table border=\"1\" class=\"dataframe\">\n",
       "  <thead>\n",
       "    <tr style=\"text-align: right;\">\n",
       "      <th></th>\n",
       "      <th>0</th>\n",
       "      <th>1</th>\n",
       "    </tr>\n",
       "  </thead>\n",
       "  <tbody>\n",
       "    <tr>\n",
       "      <th>0</th>\n",
       "      <td>0.632134</td>\n",
       "      <td>1.739877</td>\n",
       "    </tr>\n",
       "    <tr>\n",
       "      <th>1</th>\n",
       "      <td>0.605027</td>\n",
       "      <td>1.554343</td>\n",
       "    </tr>\n",
       "    <tr>\n",
       "      <th>2</th>\n",
       "      <td>2.801549</td>\n",
       "      <td>-0.122632</td>\n",
       "    </tr>\n",
       "    <tr>\n",
       "      <th>3</th>\n",
       "      <td>0.259204</td>\n",
       "      <td>-2.364265</td>\n",
       "    </tr>\n",
       "    <tr>\n",
       "      <th>4</th>\n",
       "      <td>-2.032508</td>\n",
       "      <td>-0.774822</td>\n",
       "    </tr>\n",
       "    <tr>\n",
       "      <th>5</th>\n",
       "      <td>0.204867</td>\n",
       "      <td>-2.778790</td>\n",
       "    </tr>\n",
       "    <tr>\n",
       "      <th>6</th>\n",
       "      <td>-2.846324</td>\n",
       "      <td>0.318210</td>\n",
       "    </tr>\n",
       "    <tr>\n",
       "      <th>7</th>\n",
       "      <td>1.938647</td>\n",
       "      <td>-1.454239</td>\n",
       "    </tr>\n",
       "    <tr>\n",
       "      <th>8</th>\n",
       "      <td>2.300271</td>\n",
       "      <td>-1.963602</td>\n",
       "    </tr>\n",
       "    <tr>\n",
       "      <th>9</th>\n",
       "      <td>0.636986</td>\n",
       "      <td>-0.150858</td>\n",
       "    </tr>\n",
       "    <tr>\n",
       "      <th>10</th>\n",
       "      <td>0.712003</td>\n",
       "      <td>-0.308009</td>\n",
       "    </tr>\n",
       "    <tr>\n",
       "      <th>11</th>\n",
       "      <td>-2.168500</td>\n",
       "      <td>-0.698349</td>\n",
       "    </tr>\n",
       "    <tr>\n",
       "      <th>12</th>\n",
       "      <td>-2.013998</td>\n",
       "      <td>-0.698920</td>\n",
       "    </tr>\n",
       "    <tr>\n",
       "      <th>13</th>\n",
       "      <td>-1.983030</td>\n",
       "      <td>-0.811307</td>\n",
       "    </tr>\n",
       "    <tr>\n",
       "      <th>14</th>\n",
       "      <td>-3.540037</td>\n",
       "      <td>-0.841191</td>\n",
       "    </tr>\n",
       "    <tr>\n",
       "      <th>15</th>\n",
       "      <td>-3.597893</td>\n",
       "      <td>-0.747153</td>\n",
       "    </tr>\n",
       "    <tr>\n",
       "      <th>16</th>\n",
       "      <td>-3.493731</td>\n",
       "      <td>-0.445347</td>\n",
       "    </tr>\n",
       "    <tr>\n",
       "      <th>17</th>\n",
       "      <td>3.329571</td>\n",
       "      <td>-0.292943</td>\n",
       "    </tr>\n",
       "    <tr>\n",
       "      <th>18</th>\n",
       "      <td>3.883988</td>\n",
       "      <td>0.704290</td>\n",
       "    </tr>\n",
       "    <tr>\n",
       "      <th>19</th>\n",
       "      <td>3.636227</td>\n",
       "      <td>-0.276133</td>\n",
       "    </tr>\n",
       "    <tr>\n",
       "      <th>20</th>\n",
       "      <td>1.962264</td>\n",
       "      <td>-2.101797</td>\n",
       "    </tr>\n",
       "    <tr>\n",
       "      <th>21</th>\n",
       "      <td>-2.048033</td>\n",
       "      <td>-1.026281</td>\n",
       "    </tr>\n",
       "    <tr>\n",
       "      <th>22</th>\n",
       "      <td>-1.682576</td>\n",
       "      <td>-0.913388</td>\n",
       "    </tr>\n",
       "    <tr>\n",
       "      <th>23</th>\n",
       "      <td>-2.658623</td>\n",
       "      <td>0.669277</td>\n",
       "    </tr>\n",
       "    <tr>\n",
       "      <th>24</th>\n",
       "      <td>-2.354816</td>\n",
       "      <td>-0.899123</td>\n",
       "    </tr>\n",
       "    <tr>\n",
       "      <th>25</th>\n",
       "      <td>3.358263</td>\n",
       "      <td>-0.103399</td>\n",
       "    </tr>\n",
       "    <tr>\n",
       "      <th>26</th>\n",
       "      <td>2.440051</td>\n",
       "      <td>2.057439</td>\n",
       "    </tr>\n",
       "    <tr>\n",
       "      <th>27</th>\n",
       "      <td>2.946328</td>\n",
       "      <td>1.383718</td>\n",
       "    </tr>\n",
       "    <tr>\n",
       "      <th>28</th>\n",
       "      <td>-1.212566</td>\n",
       "      <td>3.498277</td>\n",
       "    </tr>\n",
       "    <tr>\n",
       "      <th>29</th>\n",
       "      <td>0.014182</td>\n",
       "      <td>3.221361</td>\n",
       "    </tr>\n",
       "    <tr>\n",
       "      <th>30</th>\n",
       "      <td>-2.541137</td>\n",
       "      <td>4.366990</td>\n",
       "    </tr>\n",
       "    <tr>\n",
       "      <th>31</th>\n",
       "      <td>2.512210</td>\n",
       "      <td>0.258768</td>\n",
       "    </tr>\n",
       "  </tbody>\n",
       "</table>\n",
       "</div>"
      ],
      "text/plain": [
       "           0         1\n",
       "0   0.632134  1.739877\n",
       "1   0.605027  1.554343\n",
       "2   2.801549 -0.122632\n",
       "3   0.259204 -2.364265\n",
       "4  -2.032508 -0.774822\n",
       "5   0.204867 -2.778790\n",
       "6  -2.846324  0.318210\n",
       "7   1.938647 -1.454239\n",
       "8   2.300271 -1.963602\n",
       "9   0.636986 -0.150858\n",
       "10  0.712003 -0.308009\n",
       "11 -2.168500 -0.698349\n",
       "12 -2.013998 -0.698920\n",
       "13 -1.983030 -0.811307\n",
       "14 -3.540037 -0.841191\n",
       "15 -3.597893 -0.747153\n",
       "16 -3.493731 -0.445347\n",
       "17  3.329571 -0.292943\n",
       "18  3.883988  0.704290\n",
       "19  3.636227 -0.276133\n",
       "20  1.962264 -2.101797\n",
       "21 -2.048033 -1.026281\n",
       "22 -1.682576 -0.913388\n",
       "23 -2.658623  0.669277\n",
       "24 -2.354816 -0.899123\n",
       "25  3.358263 -0.103399\n",
       "26  2.440051  2.057439\n",
       "27  2.946328  1.383718\n",
       "28 -1.212566  3.498277\n",
       "29  0.014182  3.221361\n",
       "30 -2.541137  4.366990\n",
       "31  2.512210  0.258768"
      ]
     },
     "execution_count": 104,
     "metadata": {},
     "output_type": "execute_result"
    }
   ],
   "source": [
    "pc_mtcars = pd.DataFrame(pc_mtcars)\n",
    "pc_mtcars"
   ]
  },
  {
   "cell_type": "code",
   "execution_count": 120,
   "id": "a68d8488-a932-4e53-ad6c-22a39d99140c",
   "metadata": {},
   "outputs": [
    {
     "data": {
      "text/plain": [
       "array([0.57602174, 0.26496432])"
      ]
     },
     "execution_count": 120,
     "metadata": {},
     "output_type": "execute_result"
    }
   ],
   "source": [
    "# proportion variance explained by each of the principal components\n",
    "# These are also the eigenvectors\n",
    "pca.explained_variance_ratio_"
   ]
  },
  {
   "cell_type": "code",
   "execution_count": 106,
   "id": "5b9380a0-a8c2-4167-a23a-212de91e29e5",
   "metadata": {},
   "outputs": [
    {
     "data": {
      "text/plain": [
       "array([0.57602174, 0.84098606])"
      ]
     },
     "execution_count": 106,
     "metadata": {},
     "output_type": "execute_result"
    }
   ],
   "source": [
    "# proportion variance explained by including each PC\n",
    "(pca.explained_variance_ratio_).cumsum()"
   ]
  },
  {
   "cell_type": "code",
   "execution_count": 107,
   "id": "dd005c3e-d3f1-48bd-b380-b1af99b73e61",
   "metadata": {},
   "outputs": [
    {
     "data": {
      "text/plain": [
       "0.8409860622774872"
      ]
     },
     "execution_count": 107,
     "metadata": {},
     "output_type": "execute_result"
    }
   ],
   "source": [
    "# proportion variance explained by both\n",
    "(pca.explained_variance_ratio_).cumsum()[-1]"
   ]
  },
  {
   "cell_type": "code",
   "execution_count": 108,
   "id": "5b47ec4e-b44a-4b85-a955-f419ec565fde",
   "metadata": {},
   "outputs": [
    {
     "data": {
      "text/plain": [
       "array([5.9460309 , 2.73511555])"
      ]
     },
     "execution_count": 108,
     "metadata": {},
     "output_type": "execute_result"
    }
   ],
   "source": [
    "# Absolute variance explained\n",
    "pca.explained_variance_"
   ]
  },
  {
   "cell_type": "code",
   "execution_count": null,
   "id": "60d8202c-6f72-41cb-bacb-f2bc28e9316d",
   "metadata": {},
   "outputs": [],
   "source": []
  },
  {
   "cell_type": "code",
   "execution_count": 109,
   "id": "16e2e712-d8c9-4630-826e-4d2d99a9cf07",
   "metadata": {},
   "outputs": [
    {
     "data": {
      "text/plain": [
       "1.2434497875801753e-14"
      ]
     },
     "execution_count": 109,
     "metadata": {},
     "output_type": "execute_result"
    }
   ],
   "source": [
    "# Check if the principal components are orthogonal (dot product should be zero)\n",
    "np.dot(pc_mtcars[0], pc_mtcars[1])"
   ]
  },
  {
   "cell_type": "code",
   "execution_count": 110,
   "id": "18759e65-edce-48ab-9f4f-c78c5a08d698",
   "metadata": {},
   "outputs": [
    {
     "data": {
      "text/html": [
       "<div>\n",
       "<style scoped>\n",
       "    .dataframe tbody tr th:only-of-type {\n",
       "        vertical-align: middle;\n",
       "    }\n",
       "\n",
       "    .dataframe tbody tr th {\n",
       "        vertical-align: top;\n",
       "    }\n",
       "\n",
       "    .dataframe thead th {\n",
       "        text-align: right;\n",
       "    }\n",
       "</style>\n",
       "<table border=\"1\" class=\"dataframe\">\n",
       "  <thead>\n",
       "    <tr style=\"text-align: right;\">\n",
       "      <th></th>\n",
       "      <th>0</th>\n",
       "      <th>1</th>\n",
       "    </tr>\n",
       "  </thead>\n",
       "  <tbody>\n",
       "    <tr>\n",
       "      <th>0</th>\n",
       "      <td>0.632134</td>\n",
       "      <td>1.739877</td>\n",
       "    </tr>\n",
       "    <tr>\n",
       "      <th>1</th>\n",
       "      <td>0.605027</td>\n",
       "      <td>1.554343</td>\n",
       "    </tr>\n",
       "    <tr>\n",
       "      <th>2</th>\n",
       "      <td>2.801549</td>\n",
       "      <td>-0.122632</td>\n",
       "    </tr>\n",
       "    <tr>\n",
       "      <th>3</th>\n",
       "      <td>0.259204</td>\n",
       "      <td>-2.364265</td>\n",
       "    </tr>\n",
       "    <tr>\n",
       "      <th>4</th>\n",
       "      <td>-2.032508</td>\n",
       "      <td>-0.774822</td>\n",
       "    </tr>\n",
       "  </tbody>\n",
       "</table>\n",
       "</div>"
      ],
      "text/plain": [
       "          0         1\n",
       "0  0.632134  1.739877\n",
       "1  0.605027  1.554343\n",
       "2  2.801549 -0.122632\n",
       "3  0.259204 -2.364265\n",
       "4 -2.032508 -0.774822"
      ]
     },
     "execution_count": 110,
     "metadata": {},
     "output_type": "execute_result"
    }
   ],
   "source": [
    "pc_mtcars.head()"
   ]
  },
  {
   "cell_type": "code",
   "execution_count": 111,
   "id": "a1596d52-8725-4edb-b7bf-a04d1d259483",
   "metadata": {},
   "outputs": [
    {
     "data": {
      "text/html": [
       "<div>\n",
       "<style scoped>\n",
       "    .dataframe tbody tr th:only-of-type {\n",
       "        vertical-align: middle;\n",
       "    }\n",
       "\n",
       "    .dataframe tbody tr th {\n",
       "        vertical-align: top;\n",
       "    }\n",
       "\n",
       "    .dataframe thead th {\n",
       "        text-align: right;\n",
       "    }\n",
       "</style>\n",
       "<table border=\"1\" class=\"dataframe\">\n",
       "  <thead>\n",
       "    <tr style=\"text-align: right;\">\n",
       "      <th></th>\n",
       "      <th>PC-0</th>\n",
       "      <th>PC-1</th>\n",
       "    </tr>\n",
       "    <tr>\n",
       "      <th>rownames</th>\n",
       "      <th></th>\n",
       "      <th></th>\n",
       "    </tr>\n",
       "  </thead>\n",
       "  <tbody>\n",
       "    <tr>\n",
       "      <th>Mazda RX4</th>\n",
       "      <td>0.632134</td>\n",
       "      <td>1.739877</td>\n",
       "    </tr>\n",
       "    <tr>\n",
       "      <th>Mazda RX4 Wag</th>\n",
       "      <td>0.605027</td>\n",
       "      <td>1.554343</td>\n",
       "    </tr>\n",
       "    <tr>\n",
       "      <th>Datsun 710</th>\n",
       "      <td>2.801549</td>\n",
       "      <td>-0.122632</td>\n",
       "    </tr>\n",
       "    <tr>\n",
       "      <th>Hornet 4 Drive</th>\n",
       "      <td>0.259204</td>\n",
       "      <td>-2.364265</td>\n",
       "    </tr>\n",
       "    <tr>\n",
       "      <th>Hornet Sportabout</th>\n",
       "      <td>-2.032508</td>\n",
       "      <td>-0.774822</td>\n",
       "    </tr>\n",
       "    <tr>\n",
       "      <th>Valiant</th>\n",
       "      <td>0.204867</td>\n",
       "      <td>-2.778790</td>\n",
       "    </tr>\n",
       "    <tr>\n",
       "      <th>Duster 360</th>\n",
       "      <td>-2.846324</td>\n",
       "      <td>0.318210</td>\n",
       "    </tr>\n",
       "    <tr>\n",
       "      <th>Merc 240D</th>\n",
       "      <td>1.938647</td>\n",
       "      <td>-1.454239</td>\n",
       "    </tr>\n",
       "    <tr>\n",
       "      <th>Merc 230</th>\n",
       "      <td>2.300271</td>\n",
       "      <td>-1.963602</td>\n",
       "    </tr>\n",
       "    <tr>\n",
       "      <th>Merc 280</th>\n",
       "      <td>0.636986</td>\n",
       "      <td>-0.150858</td>\n",
       "    </tr>\n",
       "    <tr>\n",
       "      <th>Merc 280C</th>\n",
       "      <td>0.712003</td>\n",
       "      <td>-0.308009</td>\n",
       "    </tr>\n",
       "    <tr>\n",
       "      <th>Merc 450SE</th>\n",
       "      <td>-2.168500</td>\n",
       "      <td>-0.698349</td>\n",
       "    </tr>\n",
       "    <tr>\n",
       "      <th>Merc 450SL</th>\n",
       "      <td>-2.013998</td>\n",
       "      <td>-0.698920</td>\n",
       "    </tr>\n",
       "    <tr>\n",
       "      <th>Merc 450SLC</th>\n",
       "      <td>-1.983030</td>\n",
       "      <td>-0.811307</td>\n",
       "    </tr>\n",
       "    <tr>\n",
       "      <th>Cadillac Fleetwood</th>\n",
       "      <td>-3.540037</td>\n",
       "      <td>-0.841191</td>\n",
       "    </tr>\n",
       "    <tr>\n",
       "      <th>Lincoln Continental</th>\n",
       "      <td>-3.597893</td>\n",
       "      <td>-0.747153</td>\n",
       "    </tr>\n",
       "    <tr>\n",
       "      <th>Chrysler Imperial</th>\n",
       "      <td>-3.493731</td>\n",
       "      <td>-0.445347</td>\n",
       "    </tr>\n",
       "    <tr>\n",
       "      <th>Fiat 128</th>\n",
       "      <td>3.329571</td>\n",
       "      <td>-0.292943</td>\n",
       "    </tr>\n",
       "    <tr>\n",
       "      <th>Honda Civic</th>\n",
       "      <td>3.883988</td>\n",
       "      <td>0.704290</td>\n",
       "    </tr>\n",
       "    <tr>\n",
       "      <th>Toyota Corolla</th>\n",
       "      <td>3.636227</td>\n",
       "      <td>-0.276133</td>\n",
       "    </tr>\n",
       "    <tr>\n",
       "      <th>Toyota Corona</th>\n",
       "      <td>1.962264</td>\n",
       "      <td>-2.101797</td>\n",
       "    </tr>\n",
       "    <tr>\n",
       "      <th>Dodge Challenger</th>\n",
       "      <td>-2.048033</td>\n",
       "      <td>-1.026281</td>\n",
       "    </tr>\n",
       "    <tr>\n",
       "      <th>AMC Javelin</th>\n",
       "      <td>-1.682576</td>\n",
       "      <td>-0.913388</td>\n",
       "    </tr>\n",
       "    <tr>\n",
       "      <th>Camaro Z28</th>\n",
       "      <td>-2.658623</td>\n",
       "      <td>0.669277</td>\n",
       "    </tr>\n",
       "    <tr>\n",
       "      <th>Pontiac Firebird</th>\n",
       "      <td>-2.354816</td>\n",
       "      <td>-0.899123</td>\n",
       "    </tr>\n",
       "    <tr>\n",
       "      <th>Fiat X1-9</th>\n",
       "      <td>3.358263</td>\n",
       "      <td>-0.103399</td>\n",
       "    </tr>\n",
       "    <tr>\n",
       "      <th>Porsche 914-2</th>\n",
       "      <td>2.440051</td>\n",
       "      <td>2.057439</td>\n",
       "    </tr>\n",
       "    <tr>\n",
       "      <th>Lotus Europa</th>\n",
       "      <td>2.946328</td>\n",
       "      <td>1.383718</td>\n",
       "    </tr>\n",
       "    <tr>\n",
       "      <th>Ford Pantera L</th>\n",
       "      <td>-1.212566</td>\n",
       "      <td>3.498277</td>\n",
       "    </tr>\n",
       "    <tr>\n",
       "      <th>Ferrari Dino</th>\n",
       "      <td>0.014182</td>\n",
       "      <td>3.221361</td>\n",
       "    </tr>\n",
       "    <tr>\n",
       "      <th>Maserati Bora</th>\n",
       "      <td>-2.541137</td>\n",
       "      <td>4.366990</td>\n",
       "    </tr>\n",
       "    <tr>\n",
       "      <th>Volvo 142E</th>\n",
       "      <td>2.512210</td>\n",
       "      <td>0.258768</td>\n",
       "    </tr>\n",
       "  </tbody>\n",
       "</table>\n",
       "</div>"
      ],
      "text/plain": [
       "                         PC-0      PC-1\n",
       "rownames                               \n",
       "Mazda RX4            0.632134  1.739877\n",
       "Mazda RX4 Wag        0.605027  1.554343\n",
       "Datsun 710           2.801549 -0.122632\n",
       "Hornet 4 Drive       0.259204 -2.364265\n",
       "Hornet Sportabout   -2.032508 -0.774822\n",
       "Valiant              0.204867 -2.778790\n",
       "Duster 360          -2.846324  0.318210\n",
       "Merc 240D            1.938647 -1.454239\n",
       "Merc 230             2.300271 -1.963602\n",
       "Merc 280             0.636986 -0.150858\n",
       "Merc 280C            0.712003 -0.308009\n",
       "Merc 450SE          -2.168500 -0.698349\n",
       "Merc 450SL          -2.013998 -0.698920\n",
       "Merc 450SLC         -1.983030 -0.811307\n",
       "Cadillac Fleetwood  -3.540037 -0.841191\n",
       "Lincoln Continental -3.597893 -0.747153\n",
       "Chrysler Imperial   -3.493731 -0.445347\n",
       "Fiat 128             3.329571 -0.292943\n",
       "Honda Civic          3.883988  0.704290\n",
       "Toyota Corolla       3.636227 -0.276133\n",
       "Toyota Corona        1.962264 -2.101797\n",
       "Dodge Challenger    -2.048033 -1.026281\n",
       "AMC Javelin         -1.682576 -0.913388\n",
       "Camaro Z28          -2.658623  0.669277\n",
       "Pontiac Firebird    -2.354816 -0.899123\n",
       "Fiat X1-9            3.358263 -0.103399\n",
       "Porsche 914-2        2.440051  2.057439\n",
       "Lotus Europa         2.946328  1.383718\n",
       "Ford Pantera L      -1.212566  3.498277\n",
       "Ferrari Dino         0.014182  3.221361\n",
       "Maserati Bora       -2.541137  4.366990\n",
       "Volvo 142E           2.512210  0.258768"
      ]
     },
     "execution_count": 111,
     "metadata": {},
     "output_type": "execute_result"
    }
   ],
   "source": [
    "pc_mtcars.index = df.index\n",
    "pc_mtcars.columns = ['PC-0', 'PC-1']\n",
    "pc_mtcars"
   ]
  },
  {
   "cell_type": "code",
   "execution_count": 112,
   "id": "09ee295e-a630-4069-8614-34bd81819731",
   "metadata": {
    "tags": []
   },
   "outputs": [
    {
     "data": {
      "image/png": "[encoded data removed]",
      "text/plain": [
       "<Figure size 800x800 with 1 Axes>"
      ]
     },
     "metadata": {},
     "output_type": "display_data"
    }
   ],
   "source": [
    "plt.figure(figsize = (8,8))\n",
    "x, y = pc_mtcars['PC-0'].values, pc_mtcars['PC-1'].values\n",
    "ax = plt.scatter(x,y)\n",
    "for i, txt in enumerate(pc_mtcars.index):\n",
    "    plt.annotate(txt, (x[i], y[i]), fontsize=10)"
   ]
  },
  {
   "cell_type": "markdown",
   "id": "755b40e6-97a9-45f4-8f58-a6e8b9b1e563",
   "metadata": {},
   "source": [
    "### Eigenvectors\n",
    "Check if eigenvectors multiplied by original feature set data equals the principal components (Optional)"
   ]
  },
  {
   "cell_type": "code",
   "execution_count": 113,
   "id": "289d1843-ad3f-4a5f-af2a-4d0d9d3d0fd2",
   "metadata": {},
   "outputs": [
    {
     "data": {
      "text/plain": [
       "array([[-0.40297112, -0.39592428, -0.35432552,  0.3155948 , -0.36680043,\n",
       "         0.21989818,  0.33335709,  0.24749911,  0.22143747, -0.22670801],\n",
       "       [ 0.03901479, -0.05393117,  0.24496137,  0.27847781, -0.14675805,\n",
       "        -0.46066271, -0.22751987,  0.43201042,  0.46516217,  0.411693  ]])"
      ]
     },
     "execution_count": 113,
     "metadata": {},
     "output_type": "execute_result"
    }
   ],
   "source": [
    "# Eigenvectors.  These are multiplied by the actual features and summed up to get the new features\n",
    "ev = pca.components_\n",
    "ev"
   ]
  },
  {
   "cell_type": "code",
   "execution_count": 114,
   "id": "1e6fcec7-35ce-4b4c-817e-cd39337676df",
   "metadata": {},
   "outputs": [
    {
     "data": {
      "text/html": [
       "<div>\n",
       "<style scoped>\n",
       "    .dataframe tbody tr th:only-of-type {\n",
       "        vertical-align: middle;\n",
       "    }\n",
       "\n",
       "    .dataframe tbody tr th {\n",
       "        vertical-align: top;\n",
       "    }\n",
       "\n",
       "    .dataframe thead th {\n",
       "        text-align: right;\n",
       "    }\n",
       "</style>\n",
       "<table border=\"1\" class=\"dataframe\">\n",
       "  <thead>\n",
       "    <tr style=\"text-align: right;\">\n",
       "      <th></th>\n",
       "      <th>PC-0</th>\n",
       "      <th>PC-1</th>\n",
       "    </tr>\n",
       "    <tr>\n",
       "      <th>rownames</th>\n",
       "      <th></th>\n",
       "      <th></th>\n",
       "    </tr>\n",
       "  </thead>\n",
       "  <tbody>\n",
       "    <tr>\n",
       "      <th>Mazda RX4</th>\n",
       "      <td>0.632134</td>\n",
       "      <td>1.739877</td>\n",
       "    </tr>\n",
       "    <tr>\n",
       "      <th>Mazda RX4 Wag</th>\n",
       "      <td>0.605027</td>\n",
       "      <td>1.554343</td>\n",
       "    </tr>\n",
       "  </tbody>\n",
       "</table>\n",
       "</div>"
      ],
      "text/plain": [
       "                   PC-0      PC-1\n",
       "rownames                         \n",
       "Mazda RX4      0.632134  1.739877\n",
       "Mazda RX4 Wag  0.605027  1.554343"
      ]
     },
     "execution_count": 114,
     "metadata": {},
     "output_type": "execute_result"
    }
   ],
   "source": [
    "# For the first observation, these are the new feature values\n",
    "pc_mtcars.iloc[0:2]\n"
   ]
  },
  {
   "cell_type": "code",
   "execution_count": 115,
   "id": "68984eef-af5d-4712-a754-fd2a6683c654",
   "metadata": {},
   "outputs": [
    {
     "data": {
      "text/plain": [
       "cyl    -0.106668\n",
       "disp   -0.579750\n",
       "hp     -0.543655\n",
       "drat    0.576594\n",
       "wt     -0.620167\n",
       "qsec   -0.789601\n",
       "vs     -0.881917\n",
       "am      1.208941\n",
       "gear    0.430331\n",
       "carb    0.746967\n",
       "Name: Mazda RX4, dtype: float64"
      ]
     },
     "execution_count": 115,
     "metadata": {},
     "output_type": "execute_result"
    }
   ],
   "source": [
    "# Original standardized features for the first observation\n",
    "feat.iloc[0]"
   ]
  },
  {
   "cell_type": "code",
   "execution_count": 116,
   "id": "7df51f5a-7a2d-4a3d-b47e-8048e84ebe82",
   "metadata": {},
   "outputs": [
    {
     "data": {
      "text/plain": [
       "cyl     0.042984\n",
       "disp    0.229537\n",
       "hp      0.192631\n",
       "drat    0.181970\n",
       "wt      0.227477\n",
       "qsec   -0.173632\n",
       "vs     -0.293993\n",
       "am      0.299212\n",
       "gear    0.095292\n",
       "carb   -0.169343\n",
       "Name: Mazda RX4, dtype: float64"
      ]
     },
     "execution_count": 116,
     "metadata": {},
     "output_type": "execute_result"
    }
   ],
   "source": [
    "# Multiplying the first observation with the eignevectors\n",
    "(ev[0] * feat.iloc[0])"
   ]
  },
  {
   "cell_type": "code",
   "execution_count": 117,
   "id": "b343e4e4-e178-4bb7-977d-c79901629974",
   "metadata": {},
   "outputs": [
    {
     "data": {
      "text/plain": [
       "0.6321344928989644"
      ]
     },
     "execution_count": 117,
     "metadata": {},
     "output_type": "execute_result"
    }
   ],
   "source": [
    "# Next we sum up the above to get the first PC for the first observation\n",
    "(ev[0] * feat.iloc[0]).sum()"
   ]
  },
  {
   "cell_type": "code",
   "execution_count": 118,
   "id": "973ed09f-8eb2-4432-aec6-e97c84d5bf71",
   "metadata": {},
   "outputs": [
    {
     "data": {
      "text/plain": [
       "rownames\n",
       "Mazda RX4              0.632134\n",
       "Mazda RX4 Wag          0.605027\n",
       "Datsun 710             2.801549\n",
       "Hornet 4 Drive         0.259204\n",
       "Hornet Sportabout     -2.032508\n",
       "Valiant                0.204867\n",
       "Duster 360            -2.846324\n",
       "Merc 240D              1.938647\n",
       "Merc 230               2.300271\n",
       "Merc 280               0.636986\n",
       "Merc 280C              0.712003\n",
       "Merc 450SE            -2.168500\n",
       "Merc 450SL            -2.013998\n",
       "Merc 450SLC           -1.983030\n",
       "Cadillac Fleetwood    -3.540037\n",
       "Lincoln Continental   -3.597893\n",
       "Chrysler Imperial     -3.493731\n",
       "Fiat 128               3.329571\n",
       "Honda Civic            3.883988\n",
       "Toyota Corolla         3.636227\n",
       "Toyota Corona          1.962264\n",
       "Dodge Challenger      -2.048033\n",
       "AMC Javelin           -1.682576\n",
       "Camaro Z28            -2.658623\n",
       "Pontiac Firebird      -2.354816\n",
       "Fiat X1-9              3.358263\n",
       "Porsche 914-2          2.440051\n",
       "Lotus Europa           2.946328\n",
       "Ford Pantera L        -1.212566\n",
       "Ferrari Dino           0.014182\n",
       "Maserati Bora         -2.541137\n",
       "Volvo 142E             2.512210\n",
       "dtype: float64"
      ]
     },
     "execution_count": 118,
     "metadata": {},
     "output_type": "execute_result"
    }
   ],
   "source": [
    "# We can get the first PC for all the observations together as well\n",
    "(ev[0] * feat).sum(axis=1)"
   ]
  },
  {
   "cell_type": "code",
   "execution_count": 119,
   "id": "251ccb33-1841-442b-bd55-ead16fcc3147",
   "metadata": {},
   "outputs": [
    {
     "data": {
      "text/plain": [
       "rownames\n",
       "Mazda RX4              1.739877\n",
       "Mazda RX4 Wag          1.554343\n",
       "Datsun 710            -0.122632\n",
       "Hornet 4 Drive        -2.364265\n",
       "Hornet Sportabout     -0.774822\n",
       "Valiant               -2.778790\n",
       "Duster 360             0.318210\n",
       "Merc 240D             -1.454239\n",
       "Merc 230              -1.963602\n",
       "Merc 280              -0.150858\n",
       "Merc 280C             -0.308009\n",
       "Merc 450SE            -0.698349\n",
       "Merc 450SL            -0.698920\n",
       "Merc 450SLC           -0.811307\n",
       "Cadillac Fleetwood    -0.841191\n",
       "Lincoln Continental   -0.747153\n",
       "Chrysler Imperial     -0.445347\n",
       "Fiat 128              -0.292943\n",
       "Honda Civic            0.704290\n",
       "Toyota Corolla        -0.276133\n",
       "Toyota Corona         -2.101797\n",
       "Dodge Challenger      -1.026281\n",
       "AMC Javelin           -0.913388\n",
       "Camaro Z28             0.669277\n",
       "Pontiac Firebird      -0.899123\n",
       "Fiat X1-9             -0.103399\n",
       "Porsche 914-2          2.057439\n",
       "Lotus Europa           1.383718\n",
       "Ford Pantera L         3.498277\n",
       "Ferrari Dino           3.221361\n",
       "Maserati Bora          4.366990\n",
       "Volvo 142E             0.258768\n",
       "dtype: float64"
      ]
     },
     "execution_count": 119,
     "metadata": {},
     "output_type": "execute_result"
    }
   ],
   "source": [
    "# Next we get the second principal component\n",
    "(ev[1] * feat).sum(axis=1)"
   ]
  },
  {
   "cell_type": "markdown",
   "id": "afdbe5f3-5615-405d-8767-8d159cb9b3b1",
   "metadata": {},
   "source": [
    "These manually obtained PCs are identical to the ones we got earlier using `pca.fit_transform(feat)`"
   ]
  },
  {
   "cell_type": "markdown",
   "id": "f21f6f83-6e2b-49a6-a3b2-58d17f7fafeb",
   "metadata": {},
   "source": [
    "***\n",
    "**END**\n"
   ]
  },
  {
   "cell_type": "code",
   "execution_count": 231,
   "id": "68ac5df9-adbd-4f7e-8c95-56316d1cc00b",
   "metadata": {
    "tags": []
   },
   "outputs": [],
   "source": [
    "#PCA\n",
    "from sklearn.decomposition import PCA\n",
    "#TSNE\n",
    "from sklearn.manifold import TSNE\n",
    "#UMAP\n",
    "import umap"
   ]
  },
  {
   "cell_type": "code",
   "execution_count": 232,
   "id": "fcb94781-4ac0-4d6f-903d-96ce7c526bf6",
   "metadata": {
    "tags": []
   },
   "outputs": [
    {
     "data": {
      "text/html": [
       "<div>\n",
       "<style scoped>\n",
       "    .dataframe tbody tr th:only-of-type {\n",
       "        vertical-align: middle;\n",
       "    }\n",
       "\n",
       "    .dataframe tbody tr th {\n",
       "        vertical-align: top;\n",
       "    }\n",
       "\n",
       "    .dataframe thead th {\n",
       "        text-align: right;\n",
       "    }\n",
       "</style>\n",
       "<table border=\"1\" class=\"dataframe\">\n",
       "  <thead>\n",
       "    <tr style=\"text-align: right;\">\n",
       "      <th></th>\n",
       "      <th>cyl</th>\n",
       "      <th>disp</th>\n",
       "      <th>hp</th>\n",
       "      <th>drat</th>\n",
       "      <th>wt</th>\n",
       "      <th>qsec</th>\n",
       "      <th>vs</th>\n",
       "      <th>am</th>\n",
       "      <th>gear</th>\n",
       "      <th>carb</th>\n",
       "    </tr>\n",
       "    <tr>\n",
       "      <th>rownames</th>\n",
       "      <th></th>\n",
       "      <th></th>\n",
       "      <th></th>\n",
       "      <th></th>\n",
       "      <th></th>\n",
       "      <th></th>\n",
       "      <th></th>\n",
       "      <th></th>\n",
       "      <th></th>\n",
       "      <th></th>\n",
       "    </tr>\n",
       "  </thead>\n",
       "  <tbody>\n",
       "    <tr>\n",
       "      <th>Mazda RX4</th>\n",
       "      <td>-0.106668</td>\n",
       "      <td>-0.579750</td>\n",
       "      <td>-0.543655</td>\n",
       "      <td>0.576594</td>\n",
       "      <td>-0.620167</td>\n",
       "      <td>-0.789601</td>\n",
       "      <td>-0.881917</td>\n",
       "      <td>1.208941</td>\n",
       "      <td>0.430331</td>\n",
       "      <td>0.746967</td>\n",
       "    </tr>\n",
       "    <tr>\n",
       "      <th>Mazda RX4 Wag</th>\n",
       "      <td>-0.106668</td>\n",
       "      <td>-0.579750</td>\n",
       "      <td>-0.543655</td>\n",
       "      <td>0.576594</td>\n",
       "      <td>-0.355382</td>\n",
       "      <td>-0.471202</td>\n",
       "      <td>-0.881917</td>\n",
       "      <td>1.208941</td>\n",
       "      <td>0.430331</td>\n",
       "      <td>0.746967</td>\n",
       "    </tr>\n",
       "    <tr>\n",
       "      <th>Datsun 710</th>\n",
       "      <td>-1.244457</td>\n",
       "      <td>-1.006026</td>\n",
       "      <td>-0.795570</td>\n",
       "      <td>0.481584</td>\n",
       "      <td>-0.931678</td>\n",
       "      <td>0.432823</td>\n",
       "      <td>1.133893</td>\n",
       "      <td>1.208941</td>\n",
       "      <td>0.430331</td>\n",
       "      <td>-1.140108</td>\n",
       "    </tr>\n",
       "    <tr>\n",
       "      <th>Hornet 4 Drive</th>\n",
       "      <td>-0.106668</td>\n",
       "      <td>0.223615</td>\n",
       "      <td>-0.543655</td>\n",
       "      <td>-0.981576</td>\n",
       "      <td>-0.002336</td>\n",
       "      <td>0.904736</td>\n",
       "      <td>1.133893</td>\n",
       "      <td>-0.827170</td>\n",
       "      <td>-0.946729</td>\n",
       "      <td>-1.140108</td>\n",
       "    </tr>\n",
       "    <tr>\n",
       "      <th>Hornet Sportabout</th>\n",
       "      <td>1.031121</td>\n",
       "      <td>1.059772</td>\n",
       "      <td>0.419550</td>\n",
       "      <td>-0.848562</td>\n",
       "      <td>0.231297</td>\n",
       "      <td>-0.471202</td>\n",
       "      <td>-0.881917</td>\n",
       "      <td>-0.827170</td>\n",
       "      <td>-0.946729</td>\n",
       "      <td>-0.511083</td>\n",
       "    </tr>\n",
       "    <tr>\n",
       "      <th>Valiant</th>\n",
       "      <td>-0.106668</td>\n",
       "      <td>-0.046906</td>\n",
       "      <td>-0.617748</td>\n",
       "      <td>-1.589643</td>\n",
       "      <td>0.252064</td>\n",
       "      <td>1.348220</td>\n",
       "      <td>1.133893</td>\n",
       "      <td>-0.827170</td>\n",
       "      <td>-0.946729</td>\n",
       "      <td>-1.140108</td>\n",
       "    </tr>\n",
       "    <tr>\n",
       "      <th>Duster 360</th>\n",
       "      <td>1.031121</td>\n",
       "      <td>1.059772</td>\n",
       "      <td>1.456847</td>\n",
       "      <td>-0.734549</td>\n",
       "      <td>0.366285</td>\n",
       "      <td>-1.142114</td>\n",
       "      <td>-0.881917</td>\n",
       "      <td>-0.827170</td>\n",
       "      <td>-0.946729</td>\n",
       "      <td>0.746967</td>\n",
       "    </tr>\n",
       "    <tr>\n",
       "      <th>Merc 240D</th>\n",
       "      <td>-1.244457</td>\n",
       "      <td>-0.688779</td>\n",
       "      <td>-1.254944</td>\n",
       "      <td>0.177551</td>\n",
       "      <td>-0.028296</td>\n",
       "      <td>1.223135</td>\n",
       "      <td>1.133893</td>\n",
       "      <td>-0.827170</td>\n",
       "      <td>0.430331</td>\n",
       "      <td>-0.511083</td>\n",
       "    </tr>\n",
       "    <tr>\n",
       "      <th>Merc 230</th>\n",
       "      <td>-1.244457</td>\n",
       "      <td>-0.737144</td>\n",
       "      <td>-0.765933</td>\n",
       "      <td>0.614599</td>\n",
       "      <td>-0.069830</td>\n",
       "      <td>2.871986</td>\n",
       "      <td>1.133893</td>\n",
       "      <td>-0.827170</td>\n",
       "      <td>0.430331</td>\n",
       "      <td>-0.511083</td>\n",
       "    </tr>\n",
       "    <tr>\n",
       "      <th>Merc 280</th>\n",
       "      <td>-0.106668</td>\n",
       "      <td>-0.517448</td>\n",
       "      <td>-0.351014</td>\n",
       "      <td>0.614599</td>\n",
       "      <td>0.231297</td>\n",
       "      <td>0.256567</td>\n",
       "      <td>1.133893</td>\n",
       "      <td>-0.827170</td>\n",
       "      <td>0.430331</td>\n",
       "      <td>0.746967</td>\n",
       "    </tr>\n",
       "    <tr>\n",
       "      <th>Merc 280C</th>\n",
       "      <td>-0.106668</td>\n",
       "      <td>-0.517448</td>\n",
       "      <td>-0.351014</td>\n",
       "      <td>0.614599</td>\n",
       "      <td>0.231297</td>\n",
       "      <td>0.597708</td>\n",
       "      <td>1.133893</td>\n",
       "      <td>-0.827170</td>\n",
       "      <td>0.430331</td>\n",
       "      <td>0.746967</td>\n",
       "    </tr>\n",
       "    <tr>\n",
       "      <th>Merc 450SE</th>\n",
       "      <td>1.031121</td>\n",
       "      <td>0.369533</td>\n",
       "      <td>0.493642</td>\n",
       "      <td>-1.000578</td>\n",
       "      <td>0.885470</td>\n",
       "      <td>-0.255145</td>\n",
       "      <td>-0.881917</td>\n",
       "      <td>-0.827170</td>\n",
       "      <td>-0.946729</td>\n",
       "      <td>0.117942</td>\n",
       "    </tr>\n",
       "    <tr>\n",
       "      <th>Merc 450SL</th>\n",
       "      <td>1.031121</td>\n",
       "      <td>0.369533</td>\n",
       "      <td>0.493642</td>\n",
       "      <td>-1.000578</td>\n",
       "      <td>0.532424</td>\n",
       "      <td>-0.141432</td>\n",
       "      <td>-0.881917</td>\n",
       "      <td>-0.827170</td>\n",
       "      <td>-0.946729</td>\n",
       "      <td>0.117942</td>\n",
       "    </tr>\n",
       "    <tr>\n",
       "      <th>Merc 450SLC</th>\n",
       "      <td>1.031121</td>\n",
       "      <td>0.369533</td>\n",
       "      <td>0.493642</td>\n",
       "      <td>-1.000578</td>\n",
       "      <td>0.584343</td>\n",
       "      <td>0.085996</td>\n",
       "      <td>-0.881917</td>\n",
       "      <td>-0.827170</td>\n",
       "      <td>-0.946729</td>\n",
       "      <td>0.117942</td>\n",
       "    </tr>\n",
       "    <tr>\n",
       "      <th>Cadillac Fleetwood</th>\n",
       "      <td>1.031121</td>\n",
       "      <td>1.977904</td>\n",
       "      <td>0.864106</td>\n",
       "      <td>-1.266608</td>\n",
       "      <td>2.110747</td>\n",
       "      <td>0.074625</td>\n",
       "      <td>-0.881917</td>\n",
       "      <td>-0.827170</td>\n",
       "      <td>-0.946729</td>\n",
       "      <td>0.746967</td>\n",
       "    </tr>\n",
       "    <tr>\n",
       "      <th>Lincoln Continental</th>\n",
       "      <td>1.031121</td>\n",
       "      <td>1.879533</td>\n",
       "      <td>1.012291</td>\n",
       "      <td>-1.133593</td>\n",
       "      <td>2.291423</td>\n",
       "      <td>-0.016346</td>\n",
       "      <td>-0.881917</td>\n",
       "      <td>-0.827170</td>\n",
       "      <td>-0.946729</td>\n",
       "      <td>0.746967</td>\n",
       "    </tr>\n",
       "    <tr>\n",
       "      <th>Chrysler Imperial</th>\n",
       "      <td>1.031121</td>\n",
       "      <td>1.715580</td>\n",
       "      <td>1.234569</td>\n",
       "      <td>-0.696545</td>\n",
       "      <td>2.209392</td>\n",
       "      <td>-0.243774</td>\n",
       "      <td>-0.881917</td>\n",
       "      <td>-0.827170</td>\n",
       "      <td>-0.946729</td>\n",
       "      <td>0.746967</td>\n",
       "    </tr>\n",
       "    <tr>\n",
       "      <th>Fiat 128</th>\n",
       "      <td>-1.244457</td>\n",
       "      <td>-1.246216</td>\n",
       "      <td>-1.195670</td>\n",
       "      <td>0.918632</td>\n",
       "      <td>-1.056282</td>\n",
       "      <td>0.921793</td>\n",
       "      <td>1.133893</td>\n",
       "      <td>1.208941</td>\n",
       "      <td>0.430331</td>\n",
       "      <td>-1.140108</td>\n",
       "    </tr>\n",
       "    <tr>\n",
       "      <th>Honda Civic</th>\n",
       "      <td>-1.244457</td>\n",
       "      <td>-1.270809</td>\n",
       "      <td>-1.403130</td>\n",
       "      <td>2.533809</td>\n",
       "      <td>-1.663729</td>\n",
       "      <td>0.381652</td>\n",
       "      <td>1.133893</td>\n",
       "      <td>1.208941</td>\n",
       "      <td>0.430331</td>\n",
       "      <td>-0.511083</td>\n",
       "    </tr>\n",
       "    <tr>\n",
       "      <th>Toyota Corolla</th>\n",
       "      <td>-1.244457</td>\n",
       "      <td>-1.308518</td>\n",
       "      <td>-1.210489</td>\n",
       "      <td>1.184661</td>\n",
       "      <td>-1.435287</td>\n",
       "      <td>1.166278</td>\n",
       "      <td>1.133893</td>\n",
       "      <td>1.208941</td>\n",
       "      <td>0.430331</td>\n",
       "      <td>-1.140108</td>\n",
       "    </tr>\n",
       "    <tr>\n",
       "      <th>Toyota Corona</th>\n",
       "      <td>-1.244457</td>\n",
       "      <td>-0.906835</td>\n",
       "      <td>-0.736296</td>\n",
       "      <td>0.196553</td>\n",
       "      <td>-0.781114</td>\n",
       "      <td>1.228820</td>\n",
       "      <td>1.133893</td>\n",
       "      <td>-0.827170</td>\n",
       "      <td>-0.946729</td>\n",
       "      <td>-1.140108</td>\n",
       "    </tr>\n",
       "    <tr>\n",
       "      <th>Dodge Challenger</th>\n",
       "      <td>1.031121</td>\n",
       "      <td>0.715472</td>\n",
       "      <td>0.049086</td>\n",
       "      <td>-1.589643</td>\n",
       "      <td>0.314367</td>\n",
       "      <td>-0.556487</td>\n",
       "      <td>-0.881917</td>\n",
       "      <td>-0.827170</td>\n",
       "      <td>-0.946729</td>\n",
       "      <td>-0.511083</td>\n",
       "    </tr>\n",
       "    <tr>\n",
       "      <th>AMC Javelin</th>\n",
       "      <td>1.031121</td>\n",
       "      <td>0.600705</td>\n",
       "      <td>0.049086</td>\n",
       "      <td>-0.848562</td>\n",
       "      <td>0.226105</td>\n",
       "      <td>-0.312002</td>\n",
       "      <td>-0.881917</td>\n",
       "      <td>-0.827170</td>\n",
       "      <td>-0.946729</td>\n",
       "      <td>-0.511083</td>\n",
       "    </tr>\n",
       "    <tr>\n",
       "      <th>Camaro Z28</th>\n",
       "      <td>1.031121</td>\n",
       "      <td>0.977795</td>\n",
       "      <td>1.456847</td>\n",
       "      <td>0.253559</td>\n",
       "      <td>0.646645</td>\n",
       "      <td>-1.386598</td>\n",
       "      <td>-0.881917</td>\n",
       "      <td>-0.827170</td>\n",
       "      <td>-0.946729</td>\n",
       "      <td>0.746967</td>\n",
       "    </tr>\n",
       "    <tr>\n",
       "      <th>Pontiac Firebird</th>\n",
       "      <td>1.031121</td>\n",
       "      <td>1.387676</td>\n",
       "      <td>0.419550</td>\n",
       "      <td>-0.981576</td>\n",
       "      <td>0.651837</td>\n",
       "      <td>-0.454145</td>\n",
       "      <td>-0.881917</td>\n",
       "      <td>-0.827170</td>\n",
       "      <td>-0.946729</td>\n",
       "      <td>-0.511083</td>\n",
       "    </tr>\n",
       "    <tr>\n",
       "      <th>Fiat X1-9</th>\n",
       "      <td>-1.244457</td>\n",
       "      <td>-1.243757</td>\n",
       "      <td>-1.195670</td>\n",
       "      <td>0.918632</td>\n",
       "      <td>-1.331450</td>\n",
       "      <td>0.597708</td>\n",
       "      <td>1.133893</td>\n",
       "      <td>1.208941</td>\n",
       "      <td>0.430331</td>\n",
       "      <td>-1.140108</td>\n",
       "    </tr>\n",
       "    <tr>\n",
       "      <th>Porsche 914-2</th>\n",
       "      <td>-1.244457</td>\n",
       "      <td>-0.905195</td>\n",
       "      <td>-0.825207</td>\n",
       "      <td>1.583705</td>\n",
       "      <td>-1.118584</td>\n",
       "      <td>-0.653144</td>\n",
       "      <td>-0.881917</td>\n",
       "      <td>1.208941</td>\n",
       "      <td>1.807392</td>\n",
       "      <td>-0.511083</td>\n",
       "    </tr>\n",
       "    <tr>\n",
       "      <th>Lotus Europa</th>\n",
       "      <td>-1.244457</td>\n",
       "      <td>-1.111775</td>\n",
       "      <td>-0.499199</td>\n",
       "      <td>0.329567</td>\n",
       "      <td>-1.769642</td>\n",
       "      <td>-0.539430</td>\n",
       "      <td>1.133893</td>\n",
       "      <td>1.208941</td>\n",
       "      <td>1.807392</td>\n",
       "      <td>-0.511083</td>\n",
       "    </tr>\n",
       "    <tr>\n",
       "      <th>Ford Pantera L</th>\n",
       "      <td>1.031121</td>\n",
       "      <td>0.985993</td>\n",
       "      <td>1.738399</td>\n",
       "      <td>1.184661</td>\n",
       "      <td>-0.049063</td>\n",
       "      <td>-1.903996</td>\n",
       "      <td>-0.881917</td>\n",
       "      <td>1.208941</td>\n",
       "      <td>1.807392</td>\n",
       "      <td>0.746967</td>\n",
       "    </tr>\n",
       "    <tr>\n",
       "      <th>Ferrari Dino</th>\n",
       "      <td>-0.106668</td>\n",
       "      <td>-0.702714</td>\n",
       "      <td>0.419550</td>\n",
       "      <td>0.044536</td>\n",
       "      <td>-0.464411</td>\n",
       "      <td>-1.335427</td>\n",
       "      <td>-0.881917</td>\n",
       "      <td>1.208941</td>\n",
       "      <td>1.807392</td>\n",
       "      <td>2.005017</td>\n",
       "    </tr>\n",
       "    <tr>\n",
       "      <th>Maserati Bora</th>\n",
       "      <td>1.031121</td>\n",
       "      <td>0.576113</td>\n",
       "      <td>2.790515</td>\n",
       "      <td>-0.107481</td>\n",
       "      <td>0.366285</td>\n",
       "      <td>-1.847139</td>\n",
       "      <td>-0.881917</td>\n",
       "      <td>1.208941</td>\n",
       "      <td>1.807392</td>\n",
       "      <td>3.263067</td>\n",
       "    </tr>\n",
       "    <tr>\n",
       "      <th>Volvo 142E</th>\n",
       "      <td>-1.244457</td>\n",
       "      <td>-0.899457</td>\n",
       "      <td>-0.558473</td>\n",
       "      <td>0.975638</td>\n",
       "      <td>-0.454027</td>\n",
       "      <td>0.427138</td>\n",
       "      <td>1.133893</td>\n",
       "      <td>1.208941</td>\n",
       "      <td>0.430331</td>\n",
       "      <td>-0.511083</td>\n",
       "    </tr>\n",
       "  </tbody>\n",
       "</table>\n",
       "</div>"
      ],
      "text/plain": [
       "                          cyl      disp        hp      drat        wt  \\\n",
       "rownames                                                                \n",
       "Mazda RX4           -0.106668 -0.579750 -0.543655  0.576594 -0.620167   \n",
       "Mazda RX4 Wag       -0.106668 -0.579750 -0.543655  0.576594 -0.355382   \n",
       "Datsun 710          -1.244457 -1.006026 -0.795570  0.481584 -0.931678   \n",
       "Hornet 4 Drive      -0.106668  0.223615 -0.543655 -0.981576 -0.002336   \n",
       "Hornet Sportabout    1.031121  1.059772  0.419550 -0.848562  0.231297   \n",
       "Valiant             -0.106668 -0.046906 -0.617748 -1.589643  0.252064   \n",
       "Duster 360           1.031121  1.059772  1.456847 -0.734549  0.366285   \n",
       "Merc 240D           -1.244457 -0.688779 -1.254944  0.177551 -0.028296   \n",
       "Merc 230            -1.244457 -0.737144 -0.765933  0.614599 -0.069830   \n",
       "Merc 280            -0.106668 -0.517448 -0.351014  0.614599  0.231297   \n",
       "Merc 280C           -0.106668 -0.517448 -0.351014  0.614599  0.231297   \n",
       "Merc 450SE           1.031121  0.369533  0.493642 -1.000578  0.885470   \n",
       "Merc 450SL           1.031121  0.369533  0.493642 -1.000578  0.532424   \n",
       "Merc 450SLC          1.031121  0.369533  0.493642 -1.000578  0.584343   \n",
       "Cadillac Fleetwood   1.031121  1.977904  0.864106 -1.266608  2.110747   \n",
       "Lincoln Continental  1.031121  1.879533  1.012291 -1.133593  2.291423   \n",
       "Chrysler Imperial    1.031121  1.715580  1.234569 -0.696545  2.209392   \n",
       "Fiat 128            -1.244457 -1.246216 -1.195670  0.918632 -1.056282   \n",
       "Honda Civic         -1.244457 -1.270809 -1.403130  2.533809 -1.663729   \n",
       "Toyota Corolla      -1.244457 -1.308518 -1.210489  1.184661 -1.435287   \n",
       "Toyota Corona       -1.244457 -0.906835 -0.736296  0.196553 -0.781114   \n",
       "Dodge Challenger     1.031121  0.715472  0.049086 -1.589643  0.314367   \n",
       "AMC Javelin          1.031121  0.600705  0.049086 -0.848562  0.226105   \n",
       "Camaro Z28           1.031121  0.977795  1.456847  0.253559  0.646645   \n",
       "Pontiac Firebird     1.031121  1.387676  0.419550 -0.981576  0.651837   \n",
       "Fiat X1-9           -1.244457 -1.243757 -1.195670  0.918632 -1.331450   \n",
       "Porsche 914-2       -1.244457 -0.905195 -0.825207  1.583705 -1.118584   \n",
       "Lotus Europa        -1.244457 -1.111775 -0.499199  0.329567 -1.769642   \n",
       "Ford Pantera L       1.031121  0.985993  1.738399  1.184661 -0.049063   \n",
       "Ferrari Dino        -0.106668 -0.702714  0.419550  0.044536 -0.464411   \n",
       "Maserati Bora        1.031121  0.576113  2.790515 -0.107481  0.366285   \n",
       "Volvo 142E          -1.244457 -0.899457 -0.558473  0.975638 -0.454027   \n",
       "\n",
       "                         qsec        vs        am      gear      carb  \n",
       "rownames                                                               \n",
       "Mazda RX4           -0.789601 -0.881917  1.208941  0.430331  0.746967  \n",
       "Mazda RX4 Wag       -0.471202 -0.881917  1.208941  0.430331  0.746967  \n",
       "Datsun 710           0.432823  1.133893  1.208941  0.430331 -1.140108  \n",
       "Hornet 4 Drive       0.904736  1.133893 -0.827170 -0.946729 -1.140108  \n",
       "Hornet Sportabout   -0.471202 -0.881917 -0.827170 -0.946729 -0.511083  \n",
       "Valiant              1.348220  1.133893 -0.827170 -0.946729 -1.140108  \n",
       "Duster 360          -1.142114 -0.881917 -0.827170 -0.946729  0.746967  \n",
       "Merc 240D            1.223135  1.133893 -0.827170  0.430331 -0.511083  \n",
       "Merc 230             2.871986  1.133893 -0.827170  0.430331 -0.511083  \n",
       "Merc 280             0.256567  1.133893 -0.827170  0.430331  0.746967  \n",
       "Merc 280C            0.597708  1.133893 -0.827170  0.430331  0.746967  \n",
       "Merc 450SE          -0.255145 -0.881917 -0.827170 -0.946729  0.117942  \n",
       "Merc 450SL          -0.141432 -0.881917 -0.827170 -0.946729  0.117942  \n",
       "Merc 450SLC          0.085996 -0.881917 -0.827170 -0.946729  0.117942  \n",
       "Cadillac Fleetwood   0.074625 -0.881917 -0.827170 -0.946729  0.746967  \n",
       "Lincoln Continental -0.016346 -0.881917 -0.827170 -0.946729  0.746967  \n",
       "Chrysler Imperial   -0.243774 -0.881917 -0.827170 -0.946729  0.746967  \n",
       "Fiat 128             0.921793  1.133893  1.208941  0.430331 -1.140108  \n",
       "Honda Civic          0.381652  1.133893  1.208941  0.430331 -0.511083  \n",
       "Toyota Corolla       1.166278  1.133893  1.208941  0.430331 -1.140108  \n",
       "Toyota Corona        1.228820  1.133893 -0.827170 -0.946729 -1.140108  \n",
       "Dodge Challenger    -0.556487 -0.881917 -0.827170 -0.946729 -0.511083  \n",
       "AMC Javelin         -0.312002 -0.881917 -0.827170 -0.946729 -0.511083  \n",
       "Camaro Z28          -1.386598 -0.881917 -0.827170 -0.946729  0.746967  \n",
       "Pontiac Firebird    -0.454145 -0.881917 -0.827170 -0.946729 -0.511083  \n",
       "Fiat X1-9            0.597708  1.133893  1.208941  0.430331 -1.140108  \n",
       "Porsche 914-2       -0.653144 -0.881917  1.208941  1.807392 -0.511083  \n",
       "Lotus Europa        -0.539430  1.133893  1.208941  1.807392 -0.511083  \n",
       "Ford Pantera L      -1.903996 -0.881917  1.208941  1.807392  0.746967  \n",
       "Ferrari Dino        -1.335427 -0.881917  1.208941  1.807392  2.005017  \n",
       "Maserati Bora       -1.847139 -0.881917  1.208941  1.807392  3.263067  \n",
       "Volvo 142E           0.427138  1.133893  1.208941  0.430331 -0.511083  "
      ]
     },
     "execution_count": 232,
     "metadata": {},
     "output_type": "execute_result"
    }
   ],
   "source": [
    "feat"
   ]
  },
  {
   "cell_type": "markdown",
   "id": "778a496d-b64c-419d-851a-d67a4144cb94",
   "metadata": {},
   "source": [
    "### t-SNE\n",
    "\n",
    "t–Stochastic Neighbourhood Embedding\n"
   ]
  },
  {
   "cell_type": "code",
   "execution_count": 233,
   "id": "99c7d0b8-4e11-4ed1-bcec-8b6382639ff7",
   "metadata": {
    "tags": []
   },
   "outputs": [],
   "source": [
    "from sklearn.manifold import TSNE\n",
    "tsne = TSNE(n_components=2,perplexity=4, n_iter=4000).fit_transform(feat)"
   ]
  },
  {
   "cell_type": "code",
   "execution_count": 234,
   "id": "10c3c1dc-f11f-40b2-90df-214bd93a87a9",
   "metadata": {
    "tags": []
   },
   "outputs": [
    {
     "data": {
      "text/plain": [
       "array([[ -67.28988  ,   -7.461225 ],\n",
       "       [ -70.462395 ,   -1.230129 ],\n",
       "       [-109.79255  ,  -26.001574 ],\n",
       "       [ -14.49516  ,  -98.97109  ],\n",
       "       [  88.77131  ,  -10.752994 ],\n",
       "       [  -7.538271 ,  -98.85341  ],\n",
       "       [  96.28523  ,   32.15872  ],\n",
       "       [ -39.203053 ,  -97.86199  ],\n",
       "       [ -45.55487  , -103.012344 ],\n",
       "       [ -45.803345 ,  -73.82526  ],\n",
       "       [ -48.023323 ,  -80.474434 ],\n",
       "       [  76.36449  ,   14.991346 ],\n",
       "       [  82.82964  ,    8.64965  ],\n",
       "       [  74.56219  ,    5.692307 ],\n",
       "       [  61.549232 ,   66.105705 ],\n",
       "       [  59.30757  ,   58.038372 ],\n",
       "       [  67.97727  ,   59.218933 ],\n",
       "       [-121.32329  ,  -28.11285  ],\n",
       "       [-123.71266  ,  -47.980957 ],\n",
       "       [-125.013916 ,  -36.53466  ],\n",
       "       [ -31.122364 , -100.07239  ],\n",
       "       [ 101.20207  ,  -10.095666 ],\n",
       "       [  93.759026 ,   -3.7495155],\n",
       "       [  94.439705 ,   38.97752  ],\n",
       "       [  87.12706  ,  -18.712942 ],\n",
       "       [-114.96241  ,  -35.049763 ],\n",
       "       [ -80.8475   ,  -13.373581 ],\n",
       "       [ -97.24929  ,  -22.367165 ],\n",
       "       [ -50.115887 ,   10.128343 ],\n",
       "       [ -57.95673  ,    0.8419222],\n",
       "       [ -43.0364   ,    5.2282023],\n",
       "       [-114.76846  ,  -17.610258 ]], dtype=float32)"
      ]
     },
     "execution_count": 234,
     "metadata": {},
     "output_type": "execute_result"
    }
   ],
   "source": [
    "tsne"
   ]
  },
  {
   "cell_type": "code",
   "execution_count": 235,
   "id": "eb67efae-78f3-45fa-845b-2cb67eb717f8",
   "metadata": {
    "tags": []
   },
   "outputs": [
    {
     "data": {
      "text/html": [
       "<div>\n",
       "<style scoped>\n",
       "    .dataframe tbody tr th:only-of-type {\n",
       "        vertical-align: middle;\n",
       "    }\n",
       "\n",
       "    .dataframe tbody tr th {\n",
       "        vertical-align: top;\n",
       "    }\n",
       "\n",
       "    .dataframe thead tr th {\n",
       "        text-align: left;\n",
       "    }\n",
       "\n",
       "    .dataframe thead tr:last-of-type th {\n",
       "        text-align: right;\n",
       "    }\n",
       "</style>\n",
       "<table border=\"1\" class=\"dataframe\">\n",
       "  <thead>\n",
       "    <tr>\n",
       "      <th></th>\n",
       "      <th>tsne1</th>\n",
       "      <th>tsne2</th>\n",
       "    </tr>\n",
       "    <tr>\n",
       "      <th>rownames</th>\n",
       "      <th></th>\n",
       "      <th></th>\n",
       "    </tr>\n",
       "  </thead>\n",
       "  <tbody>\n",
       "    <tr>\n",
       "      <th>Mazda RX4</th>\n",
       "      <td>-67.289879</td>\n",
       "      <td>-7.461225</td>\n",
       "    </tr>\n",
       "    <tr>\n",
       "      <th>Mazda RX4 Wag</th>\n",
       "      <td>-70.462395</td>\n",
       "      <td>-1.230129</td>\n",
       "    </tr>\n",
       "    <tr>\n",
       "      <th>Datsun 710</th>\n",
       "      <td>-109.792549</td>\n",
       "      <td>-26.001574</td>\n",
       "    </tr>\n",
       "    <tr>\n",
       "      <th>Hornet 4 Drive</th>\n",
       "      <td>-14.495160</td>\n",
       "      <td>-98.971092</td>\n",
       "    </tr>\n",
       "    <tr>\n",
       "      <th>Hornet Sportabout</th>\n",
       "      <td>88.771309</td>\n",
       "      <td>-10.752994</td>\n",
       "    </tr>\n",
       "    <tr>\n",
       "      <th>Valiant</th>\n",
       "      <td>-7.538271</td>\n",
       "      <td>-98.853409</td>\n",
       "    </tr>\n",
       "    <tr>\n",
       "      <th>Duster 360</th>\n",
       "      <td>96.285233</td>\n",
       "      <td>32.158718</td>\n",
       "    </tr>\n",
       "    <tr>\n",
       "      <th>Merc 240D</th>\n",
       "      <td>-39.203053</td>\n",
       "      <td>-97.861992</td>\n",
       "    </tr>\n",
       "    <tr>\n",
       "      <th>Merc 230</th>\n",
       "      <td>-45.554871</td>\n",
       "      <td>-103.012344</td>\n",
       "    </tr>\n",
       "    <tr>\n",
       "      <th>Merc 280</th>\n",
       "      <td>-45.803345</td>\n",
       "      <td>-73.825256</td>\n",
       "    </tr>\n",
       "    <tr>\n",
       "      <th>Merc 280C</th>\n",
       "      <td>-48.023323</td>\n",
       "      <td>-80.474434</td>\n",
       "    </tr>\n",
       "    <tr>\n",
       "      <th>Merc 450SE</th>\n",
       "      <td>76.364487</td>\n",
       "      <td>14.991346</td>\n",
       "    </tr>\n",
       "    <tr>\n",
       "      <th>Merc 450SL</th>\n",
       "      <td>82.829643</td>\n",
       "      <td>8.649650</td>\n",
       "    </tr>\n",
       "    <tr>\n",
       "      <th>Merc 450SLC</th>\n",
       "      <td>74.562187</td>\n",
       "      <td>5.692307</td>\n",
       "    </tr>\n",
       "    <tr>\n",
       "      <th>Cadillac Fleetwood</th>\n",
       "      <td>61.549232</td>\n",
       "      <td>66.105705</td>\n",
       "    </tr>\n",
       "    <tr>\n",
       "      <th>Lincoln Continental</th>\n",
       "      <td>59.307571</td>\n",
       "      <td>58.038372</td>\n",
       "    </tr>\n",
       "    <tr>\n",
       "      <th>Chrysler Imperial</th>\n",
       "      <td>67.977272</td>\n",
       "      <td>59.218933</td>\n",
       "    </tr>\n",
       "    <tr>\n",
       "      <th>Fiat 128</th>\n",
       "      <td>-121.323288</td>\n",
       "      <td>-28.112850</td>\n",
       "    </tr>\n",
       "    <tr>\n",
       "      <th>Honda Civic</th>\n",
       "      <td>-123.712662</td>\n",
       "      <td>-47.980957</td>\n",
       "    </tr>\n",
       "    <tr>\n",
       "      <th>Toyota Corolla</th>\n",
       "      <td>-125.013916</td>\n",
       "      <td>-36.534660</td>\n",
       "    </tr>\n",
       "    <tr>\n",
       "      <th>Toyota Corona</th>\n",
       "      <td>-31.122364</td>\n",
       "      <td>-100.072388</td>\n",
       "    </tr>\n",
       "    <tr>\n",
       "      <th>Dodge Challenger</th>\n",
       "      <td>101.202072</td>\n",
       "      <td>-10.095666</td>\n",
       "    </tr>\n",
       "    <tr>\n",
       "      <th>AMC Javelin</th>\n",
       "      <td>93.759026</td>\n",
       "      <td>-3.749516</td>\n",
       "    </tr>\n",
       "    <tr>\n",
       "      <th>Camaro Z28</th>\n",
       "      <td>94.439705</td>\n",
       "      <td>38.977520</td>\n",
       "    </tr>\n",
       "    <tr>\n",
       "      <th>Pontiac Firebird</th>\n",
       "      <td>87.127060</td>\n",
       "      <td>-18.712942</td>\n",
       "    </tr>\n",
       "    <tr>\n",
       "      <th>Fiat X1-9</th>\n",
       "      <td>-114.962410</td>\n",
       "      <td>-35.049763</td>\n",
       "    </tr>\n",
       "    <tr>\n",
       "      <th>Porsche 914-2</th>\n",
       "      <td>-80.847504</td>\n",
       "      <td>-13.373581</td>\n",
       "    </tr>\n",
       "    <tr>\n",
       "      <th>Lotus Europa</th>\n",
       "      <td>-97.249290</td>\n",
       "      <td>-22.367165</td>\n",
       "    </tr>\n",
       "    <tr>\n",
       "      <th>Ford Pantera L</th>\n",
       "      <td>-50.115887</td>\n",
       "      <td>10.128343</td>\n",
       "    </tr>\n",
       "    <tr>\n",
       "      <th>Ferrari Dino</th>\n",
       "      <td>-57.956730</td>\n",
       "      <td>0.841922</td>\n",
       "    </tr>\n",
       "    <tr>\n",
       "      <th>Maserati Bora</th>\n",
       "      <td>-43.036400</td>\n",
       "      <td>5.228202</td>\n",
       "    </tr>\n",
       "    <tr>\n",
       "      <th>Volvo 142E</th>\n",
       "      <td>-114.768463</td>\n",
       "      <td>-17.610258</td>\n",
       "    </tr>\n",
       "  </tbody>\n",
       "</table>\n",
       "</div>"
      ],
      "text/plain": [
       "                          tsne1       tsne2\n",
       "rownames                                   \n",
       "Mazda RX4            -67.289879   -7.461225\n",
       "Mazda RX4 Wag        -70.462395   -1.230129\n",
       "Datsun 710          -109.792549  -26.001574\n",
       "Hornet 4 Drive       -14.495160  -98.971092\n",
       "Hornet Sportabout     88.771309  -10.752994\n",
       "Valiant               -7.538271  -98.853409\n",
       "Duster 360            96.285233   32.158718\n",
       "Merc 240D            -39.203053  -97.861992\n",
       "Merc 230             -45.554871 -103.012344\n",
       "Merc 280             -45.803345  -73.825256\n",
       "Merc 280C            -48.023323  -80.474434\n",
       "Merc 450SE            76.364487   14.991346\n",
       "Merc 450SL            82.829643    8.649650\n",
       "Merc 450SLC           74.562187    5.692307\n",
       "Cadillac Fleetwood    61.549232   66.105705\n",
       "Lincoln Continental   59.307571   58.038372\n",
       "Chrysler Imperial     67.977272   59.218933\n",
       "Fiat 128            -121.323288  -28.112850\n",
       "Honda Civic         -123.712662  -47.980957\n",
       "Toyota Corolla      -125.013916  -36.534660\n",
       "Toyota Corona        -31.122364 -100.072388\n",
       "Dodge Challenger     101.202072  -10.095666\n",
       "AMC Javelin           93.759026   -3.749516\n",
       "Camaro Z28            94.439705   38.977520\n",
       "Pontiac Firebird      87.127060  -18.712942\n",
       "Fiat X1-9           -114.962410  -35.049763\n",
       "Porsche 914-2        -80.847504  -13.373581\n",
       "Lotus Europa         -97.249290  -22.367165\n",
       "Ford Pantera L       -50.115887   10.128343\n",
       "Ferrari Dino         -57.956730    0.841922\n",
       "Maserati Bora        -43.036400    5.228202\n",
       "Volvo 142E          -114.768463  -17.610258"
      ]
     },
     "execution_count": 235,
     "metadata": {},
     "output_type": "execute_result"
    }
   ],
   "source": [
    "tsne = pd.DataFrame(tsne, index = feat.index, columns= [['tsne1', 'tsne2']])\n",
    "tsne"
   ]
  },
  {
   "cell_type": "code",
   "execution_count": 236,
   "id": "8d4fe2d3-21f4-4edb-a90c-ba98817c878a",
   "metadata": {
    "tags": []
   },
   "outputs": [
    {
     "data": {
      "image/png": "[encoded data removed]",
      "text/plain": [
       "<Figure size 800x800 with 1 Axes>"
      ]
     },
     "metadata": {},
     "output_type": "display_data"
    }
   ],
   "source": [
    "plt.figure(figsize = (8,8))\n",
    "x, y = tsne['tsne1'].values, tsne['tsne2'].values\n",
    "ax = plt.scatter(x,y)\n",
    "for i, txt in enumerate(tsne.index):\n",
    "    plt.annotate(txt, (x[i], y[i]), fontsize=10)"
   ]
  },
  {
   "cell_type": "code",
   "execution_count": 237,
   "id": "91ba695a-aa91-4d88-b469-4d70bf2d8729",
   "metadata": {
    "tags": []
   },
   "outputs": [
    {
     "data": {
      "text/plain": [
       "array([-14.49516], dtype=float32)"
      ]
     },
     "execution_count": 237,
     "metadata": {},
     "output_type": "execute_result"
    }
   ],
   "source": [
    "tsne['tsne1'].values[3]"
   ]
  },
  {
   "cell_type": "markdown",
   "id": "1efbf553-ebdc-4aff-af51-df49d50f380c",
   "metadata": {},
   "source": [
    "### UMAP\n",
    "\n",
    "Uniform Manifold Approximation and Projection "
   ]
  },
  {
   "cell_type": "code",
   "execution_count": 238,
   "id": "290f3c9c-e65e-4ead-aac6-9a53ff94e551",
   "metadata": {
    "tags": []
   },
   "outputs": [
    {
     "data": {
      "text/plain": [
       "array([[15.969183, 10.045339],\n",
       "       [15.765129,  9.657539],\n",
       "       [14.861442, 10.827026],\n",
       "       [17.429865, 11.439435],\n",
       "       [19.15771 , 11.088597],\n",
       "       [17.807064, 11.702914],\n",
       "       [18.522852, 10.192925],\n",
       "       [16.675924, 11.683575],\n",
       "       [16.405872, 12.060739],\n",
       "       [16.759212, 11.058285],\n",
       "       [16.384302, 11.332061],\n",
       "       [18.634945, 11.167157],\n",
       "       [18.796917, 10.753123],\n",
       "       [18.341131, 10.765735],\n",
       "       [19.122522, 10.055237],\n",
       "       [18.928246,  9.76126 ],\n",
       "       [19.337553,  9.550477],\n",
       "       [15.604082, 11.004671],\n",
       "       [15.194815, 11.459611],\n",
       "       [15.411861, 11.363637],\n",
       "       [16.194553, 11.80147 ],\n",
       "       [19.514174, 10.853371],\n",
       "       [19.392473, 11.307103],\n",
       "       [18.329098,  9.875955],\n",
       "       [19.329155, 10.495343],\n",
       "       [14.760338, 11.305584],\n",
       "       [15.290446, 10.049079],\n",
       "       [14.904529, 10.375531],\n",
       "       [16.652634,  9.386841],\n",
       "       [16.305222,  9.340151],\n",
       "       [16.986897,  9.504938],\n",
       "       [15.27073 , 10.765094]], dtype=float32)"
      ]
     },
     "execution_count": 238,
     "metadata": {},
     "output_type": "execute_result"
    }
   ],
   "source": [
    "import umap\n",
    "reducer = umap.UMAP()\n",
    "umap_df = reducer.fit_transform(feat)\n",
    "umap_df"
   ]
  },
  {
   "cell_type": "code",
   "execution_count": 239,
   "id": "94ee5841-88a3-4301-90a8-acd5f6a15823",
   "metadata": {
    "tags": []
   },
   "outputs": [
    {
     "data": {
      "text/html": [
       "<div>\n",
       "<style scoped>\n",
       "    .dataframe tbody tr th:only-of-type {\n",
       "        vertical-align: middle;\n",
       "    }\n",
       "\n",
       "    .dataframe tbody tr th {\n",
       "        vertical-align: top;\n",
       "    }\n",
       "\n",
       "    .dataframe thead tr th {\n",
       "        text-align: left;\n",
       "    }\n",
       "\n",
       "    .dataframe thead tr:last-of-type th {\n",
       "        text-align: right;\n",
       "    }\n",
       "</style>\n",
       "<table border=\"1\" class=\"dataframe\">\n",
       "  <thead>\n",
       "    <tr>\n",
       "      <th></th>\n",
       "      <th>umap1</th>\n",
       "      <th>umap2</th>\n",
       "    </tr>\n",
       "    <tr>\n",
       "      <th>rownames</th>\n",
       "      <th></th>\n",
       "      <th></th>\n",
       "    </tr>\n",
       "  </thead>\n",
       "  <tbody>\n",
       "    <tr>\n",
       "      <th>Mazda RX4</th>\n",
       "      <td>15.969183</td>\n",
       "      <td>10.045339</td>\n",
       "    </tr>\n",
       "    <tr>\n",
       "      <th>Mazda RX4 Wag</th>\n",
       "      <td>15.765129</td>\n",
       "      <td>9.657539</td>\n",
       "    </tr>\n",
       "    <tr>\n",
       "      <th>Datsun 710</th>\n",
       "      <td>14.861442</td>\n",
       "      <td>10.827026</td>\n",
       "    </tr>\n",
       "    <tr>\n",
       "      <th>Hornet 4 Drive</th>\n",
       "      <td>17.429865</td>\n",
       "      <td>11.439435</td>\n",
       "    </tr>\n",
       "    <tr>\n",
       "      <th>Hornet Sportabout</th>\n",
       "      <td>19.157709</td>\n",
       "      <td>11.088597</td>\n",
       "    </tr>\n",
       "    <tr>\n",
       "      <th>Valiant</th>\n",
       "      <td>17.807064</td>\n",
       "      <td>11.702914</td>\n",
       "    </tr>\n",
       "    <tr>\n",
       "      <th>Duster 360</th>\n",
       "      <td>18.522852</td>\n",
       "      <td>10.192925</td>\n",
       "    </tr>\n",
       "    <tr>\n",
       "      <th>Merc 240D</th>\n",
       "      <td>16.675924</td>\n",
       "      <td>11.683575</td>\n",
       "    </tr>\n",
       "    <tr>\n",
       "      <th>Merc 230</th>\n",
       "      <td>16.405872</td>\n",
       "      <td>12.060739</td>\n",
       "    </tr>\n",
       "    <tr>\n",
       "      <th>Merc 280</th>\n",
       "      <td>16.759212</td>\n",
       "      <td>11.058285</td>\n",
       "    </tr>\n",
       "    <tr>\n",
       "      <th>Merc 280C</th>\n",
       "      <td>16.384302</td>\n",
       "      <td>11.332061</td>\n",
       "    </tr>\n",
       "    <tr>\n",
       "      <th>Merc 450SE</th>\n",
       "      <td>18.634945</td>\n",
       "      <td>11.167157</td>\n",
       "    </tr>\n",
       "    <tr>\n",
       "      <th>Merc 450SL</th>\n",
       "      <td>18.796917</td>\n",
       "      <td>10.753123</td>\n",
       "    </tr>\n",
       "    <tr>\n",
       "      <th>Merc 450SLC</th>\n",
       "      <td>18.341131</td>\n",
       "      <td>10.765735</td>\n",
       "    </tr>\n",
       "    <tr>\n",
       "      <th>Cadillac Fleetwood</th>\n",
       "      <td>19.122522</td>\n",
       "      <td>10.055237</td>\n",
       "    </tr>\n",
       "    <tr>\n",
       "      <th>Lincoln Continental</th>\n",
       "      <td>18.928246</td>\n",
       "      <td>9.761260</td>\n",
       "    </tr>\n",
       "    <tr>\n",
       "      <th>Chrysler Imperial</th>\n",
       "      <td>19.337553</td>\n",
       "      <td>9.550477</td>\n",
       "    </tr>\n",
       "    <tr>\n",
       "      <th>Fiat 128</th>\n",
       "      <td>15.604082</td>\n",
       "      <td>11.004671</td>\n",
       "    </tr>\n",
       "    <tr>\n",
       "      <th>Honda Civic</th>\n",
       "      <td>15.194815</td>\n",
       "      <td>11.459611</td>\n",
       "    </tr>\n",
       "    <tr>\n",
       "      <th>Toyota Corolla</th>\n",
       "      <td>15.411861</td>\n",
       "      <td>11.363637</td>\n",
       "    </tr>\n",
       "    <tr>\n",
       "      <th>Toyota Corona</th>\n",
       "      <td>16.194553</td>\n",
       "      <td>11.801470</td>\n",
       "    </tr>\n",
       "    <tr>\n",
       "      <th>Dodge Challenger</th>\n",
       "      <td>19.514174</td>\n",
       "      <td>10.853371</td>\n",
       "    </tr>\n",
       "    <tr>\n",
       "      <th>AMC Javelin</th>\n",
       "      <td>19.392473</td>\n",
       "      <td>11.307103</td>\n",
       "    </tr>\n",
       "    <tr>\n",
       "      <th>Camaro Z28</th>\n",
       "      <td>18.329098</td>\n",
       "      <td>9.875955</td>\n",
       "    </tr>\n",
       "    <tr>\n",
       "      <th>Pontiac Firebird</th>\n",
       "      <td>19.329155</td>\n",
       "      <td>10.495343</td>\n",
       "    </tr>\n",
       "    <tr>\n",
       "      <th>Fiat X1-9</th>\n",
       "      <td>14.760338</td>\n",
       "      <td>11.305584</td>\n",
       "    </tr>\n",
       "    <tr>\n",
       "      <th>Porsche 914-2</th>\n",
       "      <td>15.290446</td>\n",
       "      <td>10.049079</td>\n",
       "    </tr>\n",
       "    <tr>\n",
       "      <th>Lotus Europa</th>\n",
       "      <td>14.904529</td>\n",
       "      <td>10.375531</td>\n",
       "    </tr>\n",
       "    <tr>\n",
       "      <th>Ford Pantera L</th>\n",
       "      <td>16.652634</td>\n",
       "      <td>9.386841</td>\n",
       "    </tr>\n",
       "    <tr>\n",
       "      <th>Ferrari Dino</th>\n",
       "      <td>16.305222</td>\n",
       "      <td>9.340151</td>\n",
       "    </tr>\n",
       "    <tr>\n",
       "      <th>Maserati Bora</th>\n",
       "      <td>16.986897</td>\n",
       "      <td>9.504938</td>\n",
       "    </tr>\n",
       "    <tr>\n",
       "      <th>Volvo 142E</th>\n",
       "      <td>15.270730</td>\n",
       "      <td>10.765094</td>\n",
       "    </tr>\n",
       "  </tbody>\n",
       "</table>\n",
       "</div>"
      ],
      "text/plain": [
       "                         umap1      umap2\n",
       "rownames                                 \n",
       "Mazda RX4            15.969183  10.045339\n",
       "Mazda RX4 Wag        15.765129   9.657539\n",
       "Datsun 710           14.861442  10.827026\n",
       "Hornet 4 Drive       17.429865  11.439435\n",
       "Hornet Sportabout    19.157709  11.088597\n",
       "Valiant              17.807064  11.702914\n",
       "Duster 360           18.522852  10.192925\n",
       "Merc 240D            16.675924  11.683575\n",
       "Merc 230             16.405872  12.060739\n",
       "Merc 280             16.759212  11.058285\n",
       "Merc 280C            16.384302  11.332061\n",
       "Merc 450SE           18.634945  11.167157\n",
       "Merc 450SL           18.796917  10.753123\n",
       "Merc 450SLC          18.341131  10.765735\n",
       "Cadillac Fleetwood   19.122522  10.055237\n",
       "Lincoln Continental  18.928246   9.761260\n",
       "Chrysler Imperial    19.337553   9.550477\n",
       "Fiat 128             15.604082  11.004671\n",
       "Honda Civic          15.194815  11.459611\n",
       "Toyota Corolla       15.411861  11.363637\n",
       "Toyota Corona        16.194553  11.801470\n",
       "Dodge Challenger     19.514174  10.853371\n",
       "AMC Javelin          19.392473  11.307103\n",
       "Camaro Z28           18.329098   9.875955\n",
       "Pontiac Firebird     19.329155  10.495343\n",
       "Fiat X1-9            14.760338  11.305584\n",
       "Porsche 914-2        15.290446  10.049079\n",
       "Lotus Europa         14.904529  10.375531\n",
       "Ford Pantera L       16.652634   9.386841\n",
       "Ferrari Dino         16.305222   9.340151\n",
       "Maserati Bora        16.986897   9.504938\n",
       "Volvo 142E           15.270730  10.765094"
      ]
     },
     "execution_count": 239,
     "metadata": {},
     "output_type": "execute_result"
    }
   ],
   "source": [
    "umap_df = pd.DataFrame(umap_df, index = feat.index, columns= [['umap1', 'umap2']])\n",
    "umap_df"
   ]
  },
  {
   "cell_type": "code",
   "execution_count": 240,
   "id": "16145197-7afb-44ab-8401-8191a1fc68a1",
   "metadata": {
    "tags": []
   },
   "outputs": [
    {
     "data": {
      "image/png": "[encoded data removed]",
      "text/plain": [
       "<Figure size 800x800 with 1 Axes>"
      ]
     },
     "metadata": {},
     "output_type": "display_data"
    }
   ],
   "source": [
    "plt.figure(figsize = (8,8))\n",
    "x, y = umap_df['umap1'].values, umap_df['umap2'].values\n",
    "ax = plt.scatter(x,y)\n",
    "for i, txt in enumerate(tsne.index):\n",
    "    plt.annotate(txt, (x[i], y[i]), fontsize=10)"
   ]
  },
  {
   "cell_type": "code",
   "execution_count": null,
   "id": "35b32b10-e7c2-4251-be00-c159cfdcae17",
   "metadata": {},
   "outputs": [],
   "source": []
  },
  {
   "cell_type": "code",
   "execution_count": null,
   "id": "08f47e67-065a-442f-b351-e482b5ba5748",
   "metadata": {},
   "outputs": [],
   "source": []
  }
 ],
 "metadata": {
  "kernelspec": {
   "display_name": "Python 3 (ipykernel)",
   "language": "python",
   "name": "python3"
  },
  "language_info": {
   "codemirror_mode": {
    "name": "ipython",
    "version": 3
   },
   "file_extension": ".py",
   "mimetype": "text/x-python",
   "name": "python",
   "nbconvert_exporter": "python",
   "pygments_lexer": "ipython3",
   "version": "3.11.6"
  },
  "toc-autonumbering": true
 },
 "nbformat": 4,
 "nbformat_minor": 5
}
